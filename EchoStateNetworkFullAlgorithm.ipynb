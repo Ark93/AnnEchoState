{
 "cells": [
  {
   "cell_type": "code",
   "execution_count": 60,
   "metadata": {},
   "outputs": [],
   "source": [
    "from numpy import *\n",
    "from matplotlib.pyplot import *\n",
    "import scipy.linalg\n",
    "%matplotlib inline\n",
    "import matplotlib.lines as mlines\n",
    "import matplotlib.pylab as pylab\n",
    "pylab.rcParams['figure.figsize']= 16,5\n",
    "from __future__ import division"
   ]
  },
  {
   "cell_type": "code",
   "execution_count": 61,
   "metadata": {},
   "outputs": [],
   "source": [
    "import pandas as pd\n",
    "import csv\n",
    "import os\n",
    "import time\n",
    "import gc"
   ]
  },
  {
   "cell_type": "heading",
   "metadata": {},
   "level": 1,
   "source": [
    "Function to load data"
   ]
  },
  {
   "cell_type": "code",
   "execution_count": 4,
   "metadata": {},
   "outputs": [],
   "source": [
    "def load_data():\n",
    "    \"\"\"\n",
    "Function to load data\n",
    "    :return: data vector, data target, data mean, data standar deviation \n",
    "    \"\"\"\n",
    "    data = np.genfromtxt('Resources/data.csv', delimiter=',')\n",
    "    d_mean = np.mean(data)\n",
    "    d_std = np.std(data)\n",
    "    target = data[-12:-6]\n",
    "    data = (data - d_mean) / d_std    \n",
    "    return data, target, d_mean, d_std"
   ]
  },
  {
   "cell_type": "code",
   "execution_count": 5,
   "metadata": {},
   "outputs": [],
   "source": [
    "def get_TS():\n",
    "    rawData = pd.read_csv('Resources/Consulta_Banxico.csv', sep=',', encoding='latin1', skiprows=15, skip_blank_lines=True)\n",
    "    Data = rawData.drop(rawData.index[:2])\n",
    "    Data = Data.reset_index(drop = True)\n",
    "    Data.columns = ['Fecha' , 'Tasa de crecimiento Mensual']\n",
    "    TS = pd.Series(Data['Tasa de crecimiento Mensual'].astype(float))\n",
    "    TS.index= Data['Fecha']\n",
    "    del Data\n",
    "    return TS"
   ]
  },
  {
   "cell_type": "heading",
   "metadata": {},
   "level": 1,
   "source": [
    "Generate Matrix functions"
   ]
  },
  {
   "cell_type": "code",
   "execution_count": 6,
   "metadata": {},
   "outputs": [],
   "source": [
    "def generate_win_matrix(inSize, resSize, scaleFactor=1):\n",
    "    \"\"\"\n",
    "Function to generate W in matrix with a uniform distribution between [-1,1]\n",
    "in other Function the uniform distribution can be moved to any range\n",
    "    :param inSize: number of inputs without interceptor\n",
    "    :param resSize: size of reservoir\n",
    "    :param scaleFactor: Scale Factor for the matrix by default 1\n",
    "    :return: W in Matrix\n",
    "    \"\"\"\n",
    "    Win = (random.uniform(low=-1, high=1, size=(resSize, 1 + inSize))) * scaleFactor\n",
    "    return Win"
   ]
  },
  {
   "cell_type": "code",
   "execution_count": 7,
   "metadata": {},
   "outputs": [],
   "source": [
    "def generate_w_matrix(resSize):\n",
    "    \"\"\"\n",
    "Function to generate W matrix with a uniform distribution between [-1,1]\n",
    " In other function the uniform distribution can be moved to any range\n",
    "    :param resSize: size of reservoir\n",
    "    :return: W matrix\n",
    "    \"\"\"\n",
    "    W = random.uniform(low=-1, high= 1, size = (resSize,resSize))\n",
    "    return  W"
   ]
  },
  {
   "cell_type": "code",
   "execution_count": 8,
   "metadata": {},
   "outputs": [],
   "source": [
    "def get_spectral_radius(W):\n",
    "    \"\"\"\n",
    "Function to get the spectral radius of W matrix\n",
    "    :param W: W matrix\n",
    "    :return: spectral radius\n",
    "    \"\"\"\n",
    "    rhoW = max(abs(linalg.eig(W)[0]))\n",
    "    return  rhoW"
   ]
  },
  {
   "cell_type": "code",
   "execution_count": 9,
   "metadata": {},
   "outputs": [],
   "source": [
    "def scale_w(W,rhoW, SRS = 2):\n",
    "    \"\"\"\n",
    "Function to apply spectral radius scale factor\n",
    "    :param W: W matrix\n",
    "    :param rhoW: spectral radius\n",
    "    :param SRS: spectral radius scale factor by default 1\n",
    "    :return: W\n",
    "    \"\"\"\n",
    "    W*= (SRS/ rhoW)\n",
    "    return W"
   ]
  },
  {
   "cell_type": "code",
   "execution_count": 10,
   "metadata": {},
   "outputs": [],
   "source": [
    "def get_x_yt_matrix(data,inSize, resSize,trainLen,initLen):\n",
    "    \"\"\"\n",
    "Function to get X and Yt Matrix to save activation states and prediction targets\n",
    "    :type data: normalized data\n",
    "    :param inSize: size of the input \n",
    "    :param resSize: size of reservoir\n",
    "    :param trainLen: length of train data\n",
    "    :param initLen:  length of initial data\n",
    "    :return: X, Yt\n",
    "    \"\"\"\n",
    "    X = zeros((1+inSize+resSize,trainLen-initLen))\n",
    "    Yt = data[None,initLen+1:trainLen+1]\n",
    "    return X,Yt"
   ]
  },
  {
   "cell_type": "heading",
   "metadata": {},
   "level": 1,
   "source": [
    "ESN train and activation Functions"
   ]
  },
  {
   "cell_type": "code",
   "execution_count": 11,
   "metadata": {},
   "outputs": [],
   "source": [
    "def get_activation_states(data,resSize,trainLen,initLen,Win,W,a,X):\n",
    "    \"\"\"\n",
    "Function to get the activations states from the reservoir\n",
    "    :param data: train data\n",
    "    :param resSize: reservoir size\n",
    "    :param trainLen: length of train data\n",
    "    :param initLen: inital data to be ignored\n",
    "    :param Win: W in Matrix\n",
    "    :param W: W matrix\n",
    "    :param a: leaking rate\n",
    "    :param X: matrix of Activations per input\n",
    "    :return: last activation vector, matrix of activations X\n",
    "    \"\"\"\n",
    "    x = zeros((resSize,1))\n",
    "    for t in range(trainLen):\n",
    "        u = data[t]\n",
    "        x_u = tanh( dot( Win, vstack((1,u)) ) + dot( W, x ) )\n",
    "        x = (1-a)*x + a*x_u \n",
    "        if t >= initLen:\n",
    "            X[:,t-initLen] = vstack((1,u,x))[:,0]\n",
    "    return x,X"
   ]
  },
  {
   "cell_type": "code",
   "execution_count": 12,
   "metadata": {},
   "outputs": [],
   "source": [
    "def train_output_l2(inSize,resSize,X,Yt,reg = 1e-8):\n",
    "    \"\"\"\n",
    "Function to train readout with ridge regression to address overfitting\n",
    "    :param inSize: size of input\n",
    "    :param resSize: reservoir size\n",
    "    :param reg: penalization parameter\n",
    "    :param X: Matrix of activations\n",
    "    :param Yt: target values\n",
    "    :return Wout: weights from reservoir and input to output layer\n",
    "    \"\"\"\n",
    "    X_T = X.T \n",
    "    Wout = dot( dot(Yt,X_T), linalg.inv( dot(X,X_T) + reg*eye(1+inSize+resSize) ) )\n",
    "    return Wout"
   ]
  },
  {
   "cell_type": "code",
   "execution_count": 13,
   "metadata": {},
   "outputs": [],
   "source": [
    "def get_predictions(data,outSize,trainLen,testLen,a,Win,W,Wout,x):\n",
    "    \"\"\"\n",
    "Function to get the predictions of the normalized data\n",
    "    :param data: train data\n",
    "    :param outSize: output size\n",
    "    :param trainLen: length of train data\n",
    "    :param testLen: length of test data\n",
    "    :param a: leaking rate\n",
    "    :param Win: W in Matrix\n",
    "    :param W: W matrix\n",
    "    :param Wout: W out Matrix\n",
    "    :param x: last activations states\n",
    "    :return: vector of predictions\n",
    "    \"\"\"\n",
    "    Y = zeros((outSize,testLen))\n",
    "    u = data[trainLen]\n",
    "    for t in range(testLen):\n",
    "        x = (1-a)*x + a*tanh( dot( Win, vstack((1,u)) ) + dot( W, x ) )\n",
    "        y = dot( Wout, vstack((1,u,x)) )\n",
    "        Y[:,t] = y\n",
    "        # generative mode, this take the prediction and use it to make other prediction:\n",
    "        u = y\n",
    "        ## this would be a predictive mode, this made a prediccion and save it, then use the true value to make a new prediction:\n",
    "        #u = data[trainLen+t+1]\n",
    "    return Y"
   ]
  },
  {
   "cell_type": "code",
   "execution_count": 14,
   "metadata": {},
   "outputs": [],
   "source": [
    "def denormalize_predictions(d_mean,d_std,Y):\n",
    "    \"\"\"\n",
    "Function to denormalize predictions\n",
    "    :param d_mean: data mean\n",
    "    :param d_std: data standard deviation\n",
    "    :param Y: predictions\n",
    "    :return: denormalized predictions\n",
    "    \"\"\"\n",
    "    Y1 = (Y * d_std) + d_mean\n",
    "    return Y1"
   ]
  },
  {
   "cell_type": "heading",
   "metadata": {},
   "level": 1,
   "source": [
    "Evaluation Function"
   ]
  },
  {
   "cell_type": "code",
   "execution_count": 85,
   "metadata": {},
   "outputs": [],
   "source": [
    "def get_MSE(predictions, target):\n",
    "    \"\"\"\n",
    "    Function to get MSE from diference between predictions and real value (ouptuts)\n",
    "    :param predictions: predictions made by ffnn\n",
    "    :param target: true values from output values\n",
    "    :return: MSE\n",
    "    \"\"\"\n",
    "    return  (np.sum((target - predictions)**2))/len(predictions)"
   ]
  },
  {
   "cell_type": "heading",
   "metadata": {},
   "level": 1,
   "source": [
    "Function to validate ESN model"
   ]
  },
  {
   "cell_type": "code",
   "execution_count": 105,
   "metadata": {},
   "outputs": [],
   "source": [
    "def SolutionValidation(Predictions,MSE,bestESN,bestMSE,bestPredictions,currentSetup):\n",
    "    \"\"\"\n",
    "Function to validate ESN model\n",
    "    :param Predictions: Prediction of current ESN\n",
    "    :param MSE: MSE of current ESN\n",
    "    :param bestESN: best setup of ESN so far\n",
    "    :param bestMSE: MSE of best ESN so far\n",
    "    :param bestPredictions: predictions of best ESN so far\n",
    "    :param currentSetup: current ESN setup\n",
    "    :return: bestESN, bestPredictions, bestMSE\n",
    "    \"\"\"\n",
    "    print (str)(MSE) +  '-'\n",
    "    if(MSE < bestMSE):\n",
    "        bestESN = currentSetup\n",
    "        bestMSE = MSE\n",
    "        bestPredictions = Predictions\n",
    "    return bestESN,bestPredictions,bestMSE"
   ]
  },
  {
   "cell_type": "heading",
   "metadata": {},
   "level": 1,
   "source": [
    "Function to init 'best' variables"
   ]
  },
  {
   "cell_type": "code",
   "execution_count": 106,
   "metadata": {},
   "outputs": [],
   "source": [
    "def init_best():\n",
    "    best_setup = (0,0,0,0,0)\n",
    "    best_mse = 1000000000000\n",
    "    best_pred = (0,0,0,0,0,0)\n",
    "    return best_setup,best_mse,best_pred"
   ]
  },
  {
   "cell_type": "heading",
   "metadata": {},
   "level": 1,
   "source": [
    "Save and Plot Functions"
   ]
  },
  {
   "cell_type": "code",
   "execution_count": 107,
   "metadata": {},
   "outputs": [],
   "source": [
    "def toCSV(folder,name,esn,mse,pred,TS):\n",
    "    if not os.path.isdir(folder):\n",
    "        os.makedirs(folder)\n",
    "    with open(folder + name + '.csv','w+') as csvfile:\n",
    "        spamwriter= csv.writer(csvfile,delimiter=',')\n",
    "        spamwriter.writerow(['ESN configuration: ',esn])\n",
    "        spamwriter.writerow(['predictions'])\n",
    "        spamwriter.writerow(pred)\n",
    "        spamwriter.writerow(['MSE:' , mse])\n",
    "        csvfile.close()        \n",
    "    plot_Solutions(folder,name,pred,TS)"
   ]
  },
  {
   "cell_type": "code",
   "execution_count": 108,
   "metadata": {},
   "outputs": [],
   "source": [
    "def plot_Solutions(folder,name,Pred,TS):\n",
    "    \"\"\"\n",
    "    Function to Plot List of predictions, mean predictions and Original Time Serie\n",
    "    :param folder: path of file\n",
    "    :param name: name of file\n",
    "    :param Pred: predictions\n",
    "    :param TS: Original Time Serie\n",
    "    :return: matplotlib fig\n",
    "    \"\"\"\n",
    "    fig = figure()\n",
    "    TSValOutputs = TS[len(TS)-13:len(TS)-6].copy()\n",
    "    TSValOutputs.plot(style= 'ko-')\n",
    "    \n",
    "    TSPred = pd.Series(Pred.astype(float), index = TS.index[len(TS)-12:len(TS)-6])\n",
    "    TSPrediction = TS[len(TS)-13:len(TS)-6].copy()\n",
    "    TSPrediction[1:] = TSPred\n",
    "    TSPrediction.plot(style= 'bo-')\n",
    "    lineMean = mlines.Line2D([],[],color='blue', marker='o',label = 'Prediction')\n",
    "    lineVal = mlines.Line2D([],[],color='black', marker='o',label = 'True Values')\n",
    "    legend(handles = [lineMean,lineVal],loc= 1)\n",
    "    fig.savefig(folder + name + \".png\")\n",
    "    del fig\n",
    "    gc.collect()"
   ]
  },
  {
   "cell_type": "heading",
   "metadata": {},
   "level": 1,
   "source": [
    "Full algorithm for validation"
   ]
  },
  {
   "cell_type": "code",
   "execution_count": 109,
   "metadata": {},
   "outputs": [],
   "source": [
    "def get_best_setup(ParameterList):\n",
    "    \"\"\"\n",
    "Function to test several ESN model for the best setup\n",
    "    :param ParameterList: List of vectors for different values of the parameters in this order:\n",
    "    resSize, inputScale, SpectralRadiusScale, leakingRate, l2penalty\n",
    "    \"\"\"    \n",
    "    random.seed(42)\n",
    "    data,target,d_mean,d_std = load_data()\n",
    "    trainLen =len(data) - 13\n",
    "    testLen = 6\n",
    "    initLen = 12\n",
    "    inSize = outSize = 1\n",
    "    TS = get_TS()\n",
    "    folder = \"Results/\" + time.strftime(\"%d-%m\") + \"_\" + time.strftime(\"%H-%M\") +\"/\" \n",
    "    best_setup,best_MSE,best_predictions = init_best()\n",
    "    param1 = 0   \n",
    "    for resSize in ParameterList[0]:\n",
    "        name1 = ((str)(param1) + '-')\n",
    "        param1 += 1\n",
    "        param2 = 0\n",
    "        for WinScale in ParameterList[1]:\n",
    "            name2 = name1 + (str)(param2) + '-'\n",
    "            param2 += 1\n",
    "            param3 = 0\n",
    "            Win = generate_win_matrix(inSize,resSize,WinScale)\n",
    "            for SRS in ParameterList[2]:\n",
    "                name3 = name2 + (str)(param3) + '-'\n",
    "                param3 += 1\n",
    "                param4 = 0\n",
    "                W = generate_w_matrix(resSize)            \n",
    "                rhoW = get_spectral_radius(W)\n",
    "                W = scale_w(W,rhoW,SRS)\n",
    "                X,Yt = get_x_yt_matrix(data,inSize,resSize,trainLen,initLen)\n",
    "                for a in ParameterList[3]:\n",
    "                    name4 = name3 + (str)(param4) + '-'\n",
    "                    param4 += 1\n",
    "                    param5 = 0\n",
    "                    x,X = get_activation_states(data,resSize,trainLen,initLen,Win,W,a,X)\n",
    "                    for reg in ParameterList[4]:\n",
    "                        name5 = name4 + (str)(param5)\n",
    "                        param5 += 1\n",
    "                        Wout = train_output_l2(inSize,resSize,X,Yt,reg)\n",
    "                        Y = get_predictions(data,outSize,trainLen,testLen,a,Win,W,Wout,x)\n",
    "                        print Y\n",
    "                        Y = denormalize_predictions(d_mean,d_std,Y)\n",
    "                        MSE = get_MSE(Y[0],target)\n",
    "                        currentSetup = (resSize,WinScale,SRS,a,reg)\n",
    "                        toCSV(folder,name5,currentSetup,MSE,Y[0],TS)\n",
    "                        best_setup,best_MSE,best_predictions = SolutionValidation(Y[0],MSE,best_setup,best_MSE,best_predictions,currentSetup)\n",
    "    return best_setup,best_MSE,best_predictions"
   ]
  },
  {
   "cell_type": "heading",
   "metadata": {},
   "level": 1,
   "source": [
    "Test Full algorithm"
   ]
  },
  {
   "cell_type": "code",
   "execution_count": 102,
   "metadata": {},
   "outputs": [],
   "source": [
    "ParameterList = [[100],[1],[2],[0.1],[1e-9,1e-8,1e-5,1e-2,1e-1,1,10]]"
   ]
  },
  {
   "cell_type": "code",
   "execution_count": 103,
   "metadata": {},
   "outputs": [
    {
     "name": "stdout",
     "output_type": "stream",
     "text": [
      "[[-0.66643156 -0.14859075  0.32475185 -1.03485726 -0.97563202  0.56732478]]\n"
     ]
    },
    {
     "ename": "TypeError",
     "evalue": "unsupported operand type(s) for +: 'numpy.float64' and 'str'",
     "output_type": "error",
     "traceback": [
      "\u001b[1;31m---------------------------------------------------------------------------\u001b[0m\n\u001b[1;31mTypeError\u001b[0m                                 Traceback (most recent call last)",
      "\u001b[1;32m<ipython-input-103-de75c3c796a3>\u001b[0m in \u001b[0;36m<module>\u001b[1;34m()\u001b[0m\n\u001b[1;32m----> 1\u001b[1;33m \u001b[0mbSet\u001b[0m\u001b[1;33m,\u001b[0m\u001b[0mbPred\u001b[0m\u001b[1;33m,\u001b[0m\u001b[0mbMSE\u001b[0m \u001b[1;33m=\u001b[0m \u001b[0mget_best_setup\u001b[0m\u001b[1;33m(\u001b[0m\u001b[0mParameterList\u001b[0m\u001b[1;33m)\u001b[0m\u001b[1;33m\u001b[0m\u001b[0m\n\u001b[0m",
      "\u001b[1;32m<ipython-input-101-812764bacddc>\u001b[0m in \u001b[0;36mget_best_setup\u001b[1;34m(ParameterList)\u001b[0m\n\u001b[0;32m     47\u001b[0m                         \u001b[0mcurrentSetup\u001b[0m \u001b[1;33m=\u001b[0m \u001b[1;33m(\u001b[0m\u001b[0mresSize\u001b[0m\u001b[1;33m,\u001b[0m\u001b[0mWinScale\u001b[0m\u001b[1;33m,\u001b[0m\u001b[0mSRS\u001b[0m\u001b[1;33m,\u001b[0m\u001b[0ma\u001b[0m\u001b[1;33m,\u001b[0m\u001b[0mreg\u001b[0m\u001b[1;33m)\u001b[0m\u001b[1;33m\u001b[0m\u001b[0m\n\u001b[0;32m     48\u001b[0m                         \u001b[0mtoCSV\u001b[0m\u001b[1;33m(\u001b[0m\u001b[0mfolder\u001b[0m\u001b[1;33m,\u001b[0m\u001b[0mname5\u001b[0m\u001b[1;33m,\u001b[0m\u001b[0mcurrentSetup\u001b[0m\u001b[1;33m,\u001b[0m\u001b[0mMSE\u001b[0m\u001b[1;33m,\u001b[0m\u001b[0mY\u001b[0m\u001b[1;33m[\u001b[0m\u001b[1;36m0\u001b[0m\u001b[1;33m]\u001b[0m\u001b[1;33m,\u001b[0m\u001b[0mTS\u001b[0m\u001b[1;33m)\u001b[0m\u001b[1;33m\u001b[0m\u001b[0m\n\u001b[1;32m---> 49\u001b[1;33m                         \u001b[0mbest_setup\u001b[0m\u001b[1;33m,\u001b[0m\u001b[0mbest_MSE\u001b[0m\u001b[1;33m,\u001b[0m\u001b[0mbest_predictions\u001b[0m \u001b[1;33m=\u001b[0m \u001b[0mSolutionValidation\u001b[0m\u001b[1;33m(\u001b[0m\u001b[0mY\u001b[0m\u001b[1;33m[\u001b[0m\u001b[1;36m0\u001b[0m\u001b[1;33m]\u001b[0m\u001b[1;33m,\u001b[0m\u001b[0mMSE\u001b[0m\u001b[1;33m,\u001b[0m\u001b[0mbest_setup\u001b[0m\u001b[1;33m,\u001b[0m\u001b[0mbest_MSE\u001b[0m\u001b[1;33m,\u001b[0m\u001b[0mbest_predictions\u001b[0m\u001b[1;33m,\u001b[0m\u001b[0mcurrentSetup\u001b[0m\u001b[1;33m)\u001b[0m\u001b[1;33m\u001b[0m\u001b[0m\n\u001b[0m\u001b[0;32m     50\u001b[0m     \u001b[1;32mreturn\u001b[0m \u001b[0mbest_setup\u001b[0m\u001b[1;33m,\u001b[0m\u001b[0mbest_MSE\u001b[0m\u001b[1;33m,\u001b[0m\u001b[0mbest_predictions\u001b[0m\u001b[1;33m\u001b[0m\u001b[0m\n",
      "\u001b[1;32m<ipython-input-97-bc3cc5baac40>\u001b[0m in \u001b[0;36mSolutionValidation\u001b[1;34m(Predictions, MSE, bestESN, bestMSE, bestPredictions, currentSetup)\u001b[0m\n\u001b[0;32m     10\u001b[0m     \u001b[1;33m:\u001b[0m\u001b[1;32mreturn\u001b[0m\u001b[1;33m:\u001b[0m \u001b[0mbestESN\u001b[0m\u001b[1;33m,\u001b[0m \u001b[0mbestPredictions\u001b[0m\u001b[1;33m,\u001b[0m \u001b[0mbestMSE\u001b[0m\u001b[1;33m\u001b[0m\u001b[0m\n\u001b[0;32m     11\u001b[0m     \"\"\"\n\u001b[1;32m---> 12\u001b[1;33m     \u001b[1;32mprint\u001b[0m \u001b[0mMSE\u001b[0m \u001b[1;33m+\u001b[0m \u001b[1;34m'-'\u001b[0m\u001b[1;33m\u001b[0m\u001b[0m\n\u001b[0m\u001b[0;32m     13\u001b[0m     \u001b[1;32mif\u001b[0m\u001b[1;33m(\u001b[0m\u001b[0mMSE\u001b[0m \u001b[1;33m<\u001b[0m \u001b[0mbestMSE\u001b[0m\u001b[1;33m)\u001b[0m\u001b[1;33m:\u001b[0m\u001b[1;33m\u001b[0m\u001b[0m\n\u001b[0;32m     14\u001b[0m         \u001b[0mbestESN\u001b[0m \u001b[1;33m=\u001b[0m \u001b[0mcurrentSetup\u001b[0m\u001b[1;33m\u001b[0m\u001b[0m\n",
      "\u001b[1;31mTypeError\u001b[0m: unsupported operand type(s) for +: 'numpy.float64' and 'str'"
     ]
    },
    {
     "data": {
      "image/png": "[encoded data removed]"
     },
     "output_type": "display_data",
     "text": [
      "<matplotlib.figure.Figure at 0xa235bf0>"
     ],
     "metadata": {}
    }
   ],
   "source": [
    "bSet,bPred,bMSE = get_best_setup(ParameterList)"
   ]
  },
  {
   "cell_type": "code",
   "execution_count": null,
   "metadata": {},
   "outputs": [],
   "source": [
    ""
   ]
  },
  {
   "cell_type": "code",
   "execution_count": null,
   "metadata": {},
   "outputs": [],
   "source": [
    ""
   ]
  }
 ],
 "metadata": {},
 "nbformat": 4,
 "nbformat_minor": 0
}