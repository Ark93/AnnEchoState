{
 "cells": [
  {
   "cell_type": "code",
   "execution_count": 1,
   "metadata": {},
   "outputs": [],
   "source": [
    "from numpy import *\n",
    "from matplotlib.pyplot import *\n",
    "import scipy.linalg\n",
    "import matplotlib.lines as mlines\n",
    "import matplotlib.pylab as pylab\n",
    "pylab.rcParams['figure.figsize']= 16,5\n",
    "from __future__ import division"
   ]
  },
  {
   "cell_type": "code",
   "execution_count": 2,
   "metadata": {},
   "outputs": [],
   "source": [
    "import pandas as pd\n",
    "import csv\n",
    "import os\n",
    "import time\n",
    "import gc"
   ]
  },
  {
   "cell_type": "heading",
   "metadata": {},
   "level": 1,
   "source": [
    "Function to load data"
   ]
  },
  {
   "cell_type": "code",
   "execution_count": 104,
   "metadata": {},
   "outputs": [],
   "source": [
    "def load_data():\n",
    "    \"\"\"\n",
    "Function to load data\n",
    "    :return: data vector, data target, data mean, data standar deviation \n",
    "    \"\"\"\n",
    "    data = np.genfromtxt('Resources/data.csv', delimiter=',')\n",
    "    d_mean = np.mean(data)\n",
    "    d_std = np.std(data)\n",
    "    valtarget = (data[-24:-12])\n",
    "    data = ((data - d_mean) / d_std)*0.1\n",
    "    return data, valtarget, d_mean, d_std"
   ]
  },
  {
   "cell_type": "code",
   "execution_count": 108,
   "metadata": {},
   "outputs": [],
   "source": [
    "def load_dataTest():\n",
    "    \"\"\"\n",
    "Function to load data\n",
    "    :return: data vector, data target, data mean, data standar deviation \n",
    "    \"\"\"\n",
    "    data = np.genfromtxt('Resources/data.csv', delimiter=',')\n",
    "    d_mean = np.mean(data)\n",
    "    d_std = np.std(data)\n",
    "    target = data[-12:-6]\n",
    "    data = ((data - d_mean) / d_std)    \n",
    "    return data, target, d_mean, d_std"
   ]
  },
  {
   "cell_type": "code",
   "execution_count": 5,
   "metadata": {},
   "outputs": [],
   "source": [
    "def get_TS():\n",
    "    rawData = pd.read_csv('Resources/Consulta_Banxico.csv', sep=',', encoding='latin1', skiprows=15, skip_blank_lines=True)\n",
    "    Data = rawData.drop(rawData.index[:2])\n",
    "    Data = Data.reset_index(drop = True)\n",
    "    Data.columns = ['Fecha' , 'Tasa de crecimiento Mensual']\n",
    "    TS = pd.Series(Data['Tasa de crecimiento Mensual'].astype(float))\n",
    "    TS.index= Data['Fecha']\n",
    "    del Data\n",
    "    return TS"
   ]
  },
  {
   "cell_type": "heading",
   "metadata": {},
   "level": 1,
   "source": [
    "Generate Matrix functions"
   ]
  },
  {
   "cell_type": "code",
   "execution_count": 6,
   "metadata": {},
   "outputs": [],
   "source": [
    "def generate_win_matrix(inSize, resSize, scaleFactor=1):\n",
    "    \"\"\"\n",
    "Function to generate W in matrix with a uniform distribution between [-1,1]\n",
    "in other Function the uniform distribution can be moved to any range\n",
    "    :param inSize: number of inputs without interceptor\n",
    "    :param resSize: size of reservoir\n",
    "    :param scaleFactor: Scale Factor for the matrix by default 1\n",
    "    :return: W in Matrix\n",
    "    \"\"\"\n",
    "    Win = (random.uniform(low=-0.5, high=0.5, size=(resSize, 1 + inSize))) * scaleFactor\n",
    "    return Win"
   ]
  },
  {
   "cell_type": "code",
   "execution_count": 7,
   "metadata": {},
   "outputs": [],
   "source": [
    "def generate_w_matrix(resSize):\n",
    "    \"\"\"\n",
    "Function to generate W matrix with a uniform distribution between [-1,1]\n",
    " In other function the uniform distribution can be moved to any range\n",
    "    :param resSize: size of reservoir\n",
    "    :return: W matrix\n",
    "    \"\"\"\n",
    "    W = random.uniform(low=-0.5, high= 0.5, size = (resSize,resSize))\n",
    "    return  W"
   ]
  },
  {
   "cell_type": "code",
   "execution_count": 8,
   "metadata": {},
   "outputs": [],
   "source": [
    "def get_spectral_radius(W):\n",
    "    \"\"\"\n",
    "Function to get the spectral radius of W matrix\n",
    "    :param W: W matrix\n",
    "    :return: spectral radius\n",
    "    \"\"\"\n",
    "    rhoW = max(abs(linalg.eig(W)[0]))\n",
    "    return  rhoW"
   ]
  },
  {
   "cell_type": "code",
   "execution_count": 9,
   "metadata": {},
   "outputs": [],
   "source": [
    "def scale_w(W,rhoW, SRS = 2):\n",
    "    \"\"\"\n",
    "Function to apply spectral radius scale factor\n",
    "    :param W: W matrix\n",
    "    :param rhoW: spectral radius\n",
    "    :param SRS: spectral radius scale factor by default 1\n",
    "    :return: W\n",
    "    \"\"\"\n",
    "    W*= (SRS/ rhoW)\n",
    "    return W"
   ]
  },
  {
   "cell_type": "code",
   "execution_count": 10,
   "metadata": {},
   "outputs": [],
   "source": [
    "def get_x_yt_matrix(data,inSize, resSize,trainLen,initLen):\n",
    "    \"\"\"\n",
    "Function to get X and Yt Matrix to save activation states and prediction targets\n",
    "    :type data: normalized data\n",
    "    :param inSize: size of the input \n",
    "    :param resSize: size of reservoir\n",
    "    :param trainLen: length of train data\n",
    "    :param initLen:  length of initial data\n",
    "    :return: X, Yt\n",
    "    \"\"\"\n",
    "    X = zeros((1+inSize+resSize,trainLen-initLen))\n",
    "    Yt = data[None,initLen+1:trainLen+1]\n",
    "    return X,Yt"
   ]
  },
  {
   "cell_type": "heading",
   "metadata": {},
   "level": 1,
   "source": [
    "ESN train and activation Functions"
   ]
  },
  {
   "cell_type": "code",
   "execution_count": 11,
   "metadata": {},
   "outputs": [],
   "source": [
    ""
   ]
  },
  {
   "cell_type": "code",
   "execution_count": 11,
   "metadata": {},
   "outputs": [],
   "source": [
    "def get_activation_states(data,resSize,trainLen,initLen,Win,W,a,X):\n",
    "    \"\"\"\n",
    "Function to get the activations states from the reservoir\n",
    "    :param data: train data\n",
    "    :param resSize: reservoir size\n",
    "    :param trainLen: length of train data\n",
    "    :param initLen: inital data to be ignored\n",
    "    :param Win: W in Matrix\n",
    "    :param W: W matrix\n",
    "    :param a: leaking rate\n",
    "    :param X: matrix of Activations per input\n",
    "    :return: last activation vector, matrix of activations X\n",
    "    \"\"\"\n",
    "    x = zeros((resSize,1))\n",
    "    for t in range(trainLen):\n",
    "        u = data[t]\n",
    "        x_u = tanh( dot( Win, vstack((1,u)) ) + dot( W, x ) )\n",
    "        #x_u = sigmoid( dot( Win, vstack((1,u)) ) + dot( W, x ) )\n",
    "        x = (1-a)*x + a*x_u \n",
    "        if t >= initLen:\n",
    "            X[:,t-initLen] = vstack((1,u,x))[:,0]\n",
    "    return x,X"
   ]
  },
  {
   "cell_type": "code",
   "execution_count": 12,
   "metadata": {},
   "outputs": [],
   "source": [
    "def train_output_l2(inSize,resSize,X,Yt,reg = 1e-8):\n",
    "    \"\"\"\n",
    "Function to train readout with ridge regression to address overfitting\n",
    "    :param inSize: size of input\n",
    "    :param resSize: reservoir size\n",
    "    :param reg: penalization parameter\n",
    "    :param X: Matrix of activations\n",
    "    :param Yt: target values\n",
    "    :return Wout: weights from reservoir and input to output layer\n",
    "    \"\"\"\n",
    "    X_T = X.T \n",
    "    Wout = dot( dot(Yt,X_T), linalg.inv( dot(X,X_T) + reg*eye(1+inSize+resSize) ) )\n",
    "    return Wout"
   ]
  },
  {
   "cell_type": "code",
   "execution_count": 13,
   "metadata": {},
   "outputs": [],
   "source": [
    "def get_predictions(data,outSize,trainLen,testLen,a,Win,W,Wout,x):\n",
    "    \"\"\"\n",
    "Function to get the predictions of the normalized data\n",
    "    :param data: train data\n",
    "    :param outSize: output size\n",
    "    :param trainLen: length of train data\n",
    "    :param testLen: length of test data\n",
    "    :param a: leaking rate\n",
    "    :param Win: W in Matrix\n",
    "    :param W: W matrix\n",
    "    :param Wout: W out Matrix\n",
    "    :param x: last activations states\n",
    "    :return: vector of predictions\n",
    "    \"\"\"\n",
    "    Y = zeros((outSize,testLen))\n",
    "    u = data[trainLen]\n",
    "    for t in range(testLen):\n",
    "        x_update = tanh( dot( Win, vstack((1,u))) + dot( W, x )) \n",
    "        #x_update = sigmoid( dot( Win, vstack((1,u))) + dot( W, x ))\n",
    "        x = (1-a)*x + a*x_update\n",
    "        y = dot( Wout, vstack((1,u,x)) )\n",
    "        Y[:,t] = y\n",
    "        # generative mode, this take the prediction and use it to make other prediction:\n",
    "        u = y\n",
    "        ## this would be a predictive mode, this made a prediccion and save it, then use the true value to make a new prediction:\n",
    "        #u = data[trainLen+t+1]\n",
    "    return Y"
   ]
  },
  {
   "cell_type": "code",
   "execution_count": 92,
   "metadata": {},
   "outputs": [],
   "source": [
    "def denormalize_predictions(d_mean,d_std,Y):\n",
    "    \"\"\"\n",
    "Function to denormalize predictions\n",
    "    :param d_mean: data mean\n",
    "    :param d_std: data standard deviation\n",
    "    :param Y: predictions\n",
    "    :return: denormalized predictions\n",
    "    \"\"\"\n",
    "    Y1 = ((Y * d_std) + d_mean)/0.1\n",
    "    return Y1"
   ]
  },
  {
   "cell_type": "code",
   "execution_count": 92,
   "metadata": {},
   "outputs": [],
   "source": [
    "def denormalize_predictions(d_mean,d_std,Y):\n",
    "    \"\"\"\n",
    "Function to denormalize predictions\n",
    "    :param d_mean: data mean\n",
    "    :param d_std: data standard deviation\n",
    "    :param Y: predictions\n",
    "    :return: denormalized predictions\n",
    "    \"\"\"\n",
    "    Y1 = ((Y * d_std) + d_mean)*0.1\n",
    "    return Y1"
   ]
  },
  {
   "cell_type": "heading",
   "metadata": {},
   "level": 1,
   "source": [
    "Evaluation Function"
   ]
  },
  {
   "cell_type": "code",
   "execution_count": 15,
   "metadata": {},
   "outputs": [],
   "source": [
    "def get_MSE(predictions, target):\n",
    "    \"\"\"\n",
    "    Function to get MSE from diference between predictions and real value (ouptuts)\n",
    "    :param predictions: predictions made by ffnn\n",
    "    :param target: true values from output values\n",
    "    :return: MSE\n",
    "    \"\"\"\n",
    "    return  (np.sum((target - predictions)**2))/len(predictions)"
   ]
  },
  {
   "cell_type": "heading",
   "metadata": {},
   "level": 1,
   "source": [
    "Function to validate ESN model"
   ]
  },
  {
   "cell_type": "code",
   "execution_count": 16,
   "metadata": {},
   "outputs": [],
   "source": [
    "def SolutionValidation(Predictions,MSE,bestESN,bestMSE,bestPredictions,currentSetup):\n",
    "    \"\"\"\n",
    "Function to validate ESN model\n",
    "    :param Predictions: Prediction of current ESN\n",
    "    :param MSE: MSE of current ESN\n",
    "    :param bestESN: best setup of ESN so far\n",
    "    :param bestMSE: MSE of best ESN so far\n",
    "    :param bestPredictions: predictions of best ESN so far\n",
    "    :param currentSetup: current ESN setup\n",
    "    :return: bestESN, bestPredictions, bestMSE\n",
    "    \"\"\"\n",
    "    if((float)(MSE) < (bestMSE)):\n",
    "        bestESN = currentSetup\n",
    "        bestMSE = MSE\n",
    "        bestPredictions = Predictions\n",
    "    return bestESN,bestPredictions,bestMSE"
   ]
  },
  {
   "cell_type": "code",
   "execution_count": 17,
   "metadata": {},
   "outputs": [],
   "source": [
    "def SolutionValidationTest(Predictions,MSE,bestESN,bestMSE,bestPredictions,currentSetup,Matrix,bMatrix):\n",
    "    \"\"\"\n",
    "Function to validate ESN model\n",
    "    :param Predictions: Prediction of current ESN\n",
    "    :param MSE: MSE of current ESN\n",
    "    :param bestESN: best setup of ESN so far\n",
    "    :param bestMSE: MSE of best ESN so far\n",
    "    :param bestPredictions: predictions of best ESN so far\n",
    "    :param currentSetup: current ESN setup\n",
    "    :return: bestESN, bestPredictions, bestMSE\n",
    "    \"\"\"\n",
    "    if((float)(MSE) < (bestMSE)):\n",
    "        bestESN = currentSetup\n",
    "        bestMSE = MSE\n",
    "        bestPredictions = Predictions\n",
    "        bMatrix = Matrix\n",
    "    return bestESN,bestPredictions,bestMSE,bMatrix"
   ]
  },
  {
   "cell_type": "heading",
   "metadata": {},
   "level": 1,
   "source": [
    "Function to init 'best' variables"
   ]
  },
  {
   "cell_type": "code",
   "execution_count": 18,
   "metadata": {},
   "outputs": [],
   "source": [
    "def init_best(numl2):\n",
    "    best_setup = (0,0,0,0,0)\n",
    "    best_mse = 100000\n",
    "    best_pred = (0,0,0,0,0,0)\n",
    "    return best_setup,best_mse,best_pred"
   ]
  },
  {
   "cell_type": "heading",
   "metadata": {},
   "level": 1,
   "source": [
    "Save and Plot Functions"
   ]
  },
  {
   "cell_type": "code",
   "execution_count": 19,
   "metadata": {},
   "outputs": [],
   "source": [
    "def toCSVandPlot(folder,name,esn,mse,pred,TS):\n",
    "    if not os.path.isdir(folder):\n",
    "        os.makedirs(folder)\n",
    "    with open(folder + name + '.csv','w+') as csvfile:\n",
    "        spamwriter= csv.writer(csvfile,delimiter=',')\n",
    "        spamwriter.writerow(['ESN configuration: ',esn])\n",
    "        spamwriter.writerow(['predictions'])\n",
    "        spamwriter.writerow(pred)\n",
    "        spamwriter.writerow(['MSE:' , mse])\n",
    "        csvfile.close()        \n",
    "    #plot_Solutions(folder,name,pred,TS)\n",
    "    gc.collect()"
   ]
  },
  {
   "cell_type": "code",
   "execution_count": 20,
   "metadata": {},
   "outputs": [],
   "source": [
    "def toCSV(folder,name,b_esn,mse,pred,c_esn,list,TS):\n",
    "    if not os.path.isdir(folder):\n",
    "        os.makedirs(folder) \n",
    "    with open(folder + name + '.csv','w+') as csvfile:\n",
    "        spamwriter= csv.writer(csvfile,delimiter=',')\n",
    "        spamwriter.writerow(['ESN configuration: ',b_esn])\n",
    "        spamwriter.writerow(['predictions'])\n",
    "        spamwriter.writerow(pred)\n",
    "        spamwriter.writerow(['MSE:' , mse])\n",
    "        spamwriter.writerow(['Current Setup w_o l2 penalty',c_esn])\n",
    "        spamwriter.writerow(['Predictions'])\n",
    "        spamwriter.writerows(list)\n",
    "        csvfile.close()        \n",
    "    #plot_Solutions2(folder,name,pred,list,TS)\n",
    "    gc.collect()"
   ]
  },
  {
   "cell_type": "code",
   "execution_count": 90,
   "metadata": {},
   "outputs": [],
   "source": [
    "def writeIterations(listPredTuple):\n",
    "    folder = \"Results/iteraciones\"  +\"/\" \n",
    "    with open(folder + 'Validation_predicions_2015_1' + '.csv','w+') as csvfile:\n",
    "        spamwriter= csv.writer(csvfile,delimiter=',')\n",
    "        spamwriter.writerow(['Param1','Param2','Param3','Param4','Param5','Pred1','Pred2','Pred3','Pred4','Pred5','Pred6',\n",
    "                             'Pred7','Pred8','Pred9','Pred10','Pred11','Pred12','MSE','Time'])\n",
    "        for x in listPredTuple:\n",
    "                    y = np.append(np.append(x[0],x[2]),np.append(x[1],x[3]))\n",
    "                    spamwriter.writerow(y)\n",
    "    csvfile.close()"
   ]
  },
  {
   "cell_type": "code",
   "execution_count": 91,
   "metadata": {},
   "outputs": [],
   "source": [
    "def writePredictions(listPredTuple):\n",
    "    folder = \"Results/iteraciones\"  +\"/\" \n",
    "    with open(folder + 'Test_predicions_2015_1' + '.csv','w+') as csvfile:\n",
    "        spamwriter= csv.writer(csvfile,delimiter=',')\n",
    "        spamwriter.writerow(['Param1','Param2','Param3','Param4','Param5','Pred1','Pred2','Pred3','Pred4','Pred5','Pred6','MSE'])\n",
    "        for x in listPredTuple:                \n",
    "                    y = np.append(x[0],x[1])\n",
    "                    spamwriter.writerow(y)\n",
    "    csvfile.close()"
   ]
  },
  {
   "cell_type": "code",
   "execution_count": 23,
   "metadata": {},
   "outputs": [],
   "source": [
    "def plot_Solutions(folder,name,Pred,TS):\n",
    "    \"\"\"\n",
    "    Function to Plot List of predictions, mean predictions and Original Time Serie\n",
    "    :param folder: path of file\n",
    "    :param name: name of file\n",
    "    :param Pred: predictions\n",
    "    :param TS: Original Time Serie\n",
    "    :return: matplotlib fig\n",
    "    \"\"\"\n",
    "    fig = figure()\n",
    "    TSValOutputs = TS[len(TS)-7:len(TS)].copy()\n",
    "    TSValOutputs.plot(style= 'ko-')\n",
    "    \n",
    "    TSPred = pd.Series(Pred.astype(float), index = TS.index[len(TS)-12:len(TS)-6])\n",
    "    TSPrediction = TS[len(TS)-7:len(TS)].copy()\n",
    "    TSPrediction[1:] = TSPred\n",
    "    TSPrediction.plot(style= 'bo-')\n",
    "    lineMean = mlines.Line2D([],[],color='blue', marker='o',label = 'Prediction')\n",
    "    lineVal = mlines.Line2D([],[],color='black', marker='o',label = 'True Values')\n",
    "    legend(handles = [lineMean,lineVal],loc= 1)\n",
    "    fig.savefig(folder + name + \".png\")\n",
    "    fig.clf()\n",
    "    del fig\n",
    "    gc.collect()\n",
    "    return None"
   ]
  },
  {
   "cell_type": "code",
   "execution_count": 24,
   "metadata": {},
   "outputs": [],
   "source": [
    "def plot_Solutions2(folder,name,Pred,list,TS):\n",
    "    \"\"\"\n",
    "    Function to Plot List of predictions, mean predictions and Original Time Serie\n",
    "    :param folder: path of file\n",
    "    :param name: name of file\n",
    "    :param Pred: predictions\n",
    "    :param TS: Original Time Serie\n",
    "    :return: matplotlib fig\n",
    "    \"\"\"\n",
    "    fig = figure()\n",
    "    TSValOutputs = TS[len(TS)-7:len(TS)].copy()\n",
    "    TSValOutputs.plot(style= 'ko-')\n",
    "    \n",
    "    TSPred = pd.Series(Pred.astype(float), index = TS.index[len(TS)-12:len(TS)-6])\n",
    "    TSPrediction = TS[len(TS)-7:len(TS)].copy()\n",
    "    TSPrediction[1:] = TSPred\n",
    "    TSPrediction.plot(style= 'bo-')\n",
    "    lineMean = mlines.Line2D([],[],color='blue', marker='o',label = 'Prediction')\n",
    "    lineVal = mlines.Line2D([],[],color='black', marker='o',label = 'True Values')\n",
    "    legend(handles = [lineMean,lineVal],loc= 1)\n",
    "    fig.savefig(folder + name + \".png\")\n",
    "    fig.clf()\n",
    "    del fig\n",
    "    gc.collect()\n",
    "    return None"
   ]
  },
  {
   "cell_type": "heading",
   "metadata": {},
   "level": 1,
   "source": [
    "Iteration function"
   ]
  },
  {
   "cell_type": "code",
   "execution_count": 25,
   "metadata": {},
   "outputs": [],
   "source": [
    "def get_denormilze_prediction(data,d_mean,d_std,outSize,trainLen,testLen,a,Win,W,Wout,x):\n",
    "    Y = get_predictions(data,outSize,trainLen,testLen,a,Win,W,Wout,x)\n",
    "    Y = denormalize_predictions(d_mean,d_std,Y)\n",
    "    return Y"
   ]
  },
  {
   "cell_type": "heading",
   "metadata": {},
   "level": 1,
   "source": [
    "Full algorithm for validation"
   ]
  },
  {
   "cell_type": "code",
   "execution_count": 26,
   "metadata": {},
   "outputs": [],
   "source": [
    "def get_best_setup(ParameterList):\n",
    "    \"\"\"\n",
    "Function to test several ESN model for the best setup\n",
    "    :param ParameterList: List of vectors for different values of the parameters in this order:\n",
    "    resSize, inputScale, SpectralRadiusScale, leakingRate, l2penalty\n",
    "    \"\"\"    \n",
    "    start = time.time()\n",
    "    random.seed()\n",
    "    data,target,d_mean,d_std = load_data()\n",
    "    trainLen =len(data) - 6\n",
    "    testLen = 6\n",
    "    initLen = 12\n",
    "    inSize = outSize = 1\n",
    "    TS = get_TS()\n",
    "    time_stamp = time.strftime(\"%d-%m\") + \"_\" + time.strftime(\"%H-%M\")\n",
    "    folder = \"Results/iteraciones\"  +\"/\" \n",
    "    best_setup,best_MSE,best_predictions,listl2_pen = init_best(len(ParameterList[4]))\n",
    "    param1 = 0   \n",
    "    for resSize in ParameterList[0]:\n",
    "       # name1 = ((str)(param1) + '-')\n",
    "        param1 += 1\n",
    "        param2 = 0\n",
    "        for WinScale in ParameterList[1]:\n",
    "            #name2 = name1 + (str)(param2) + '-'\n",
    "            param2 += 1\n",
    "            param3 = 0\n",
    "            Win = generate_win_matrix(inSize,resSize,WinScale)\n",
    "            for SRS in ParameterList[2]:\n",
    "                #name3 = name2 + (str)(param3) + '-'\n",
    "                param3 += 1\n",
    "                param4 = 0\n",
    "                W = generate_w_matrix(resSize)            \n",
    "                rhoW = get_spectral_radius(W)\n",
    "                W = scale_w(W,rhoW,SRS)\n",
    "                X,Yt = get_x_yt_matrix(data,inSize,resSize,trainLen,initLen)\n",
    "                for a in ParameterList[3]:\n",
    "                    #name4 = name3 + (str)(param4) + '-'\n",
    "                    param4 += 1\n",
    "                    param5 = 0\n",
    "                    x,X = get_activation_states(data,resSize,trainLen,initLen,Win,W,a,X)\n",
    "                    for reg in ParameterList[4]:\n",
    "                        #name5 = name4 + (str)(param5)\n",
    "                        param5 += 1\n",
    "                        Wout = train_output_l2(inSize,resSize,X,Yt,reg)\n",
    "                        Y = get_predictions(data,outSize,trainLen,testLen,a,Win,W,Wout,x)\n",
    "                        Y = denormalize_predictions(d_mean,d_std,Y)\n",
    "                        MSE = get_MSE(Y[0],target)\n",
    "                        listl2_pen[param5-1]= (np.append(Y,MSE))\n",
    "                        #add list of results for l2 penalty\n",
    "                        currentSetup = (resSize,WinScale,SRS,a,reg)\n",
    "                        gc.collect()\n",
    "                        best_setup,best_predictions,best_MSE = SolutionValidation(Y[0],MSE,best_setup,best_MSE,best_predictions,currentSetup)\n",
    "                  # toCSV(folder,name5,best_setup,best_MSE,best_predictions,currentSetup[:-1],listl2_pen,TS)\n",
    "    stop = time.time()\n",
    "    duration = stop - start\n",
    "    toCSVandPlot(folder,('best-' + time_stamp) ,best_setup,best_MSE,best_predictions,TS)\n",
    "    windows_explorer_path =  'C:\\Users\\sa-al\\PycharmProjects\\AnnEchoState\\Results' \n",
    "    #os.startfile(windows_explorer_path)    \n",
    "    return best_setup,best_MSE,best_predictions,duration"
   ]
  },
  {
   "cell_type": "code",
   "execution_count": 27,
   "metadata": {},
   "outputs": [],
   "source": [
    "def get_best_ESN(ParameterList):\n",
    "    \"\"\"\n",
    "Function to test several ESN model for the best setup\n",
    "    :param ParameterList: List of vectors for different values of the parameters in this order:\n",
    "    resSize, inputScale, SpectralRadiusScale, leakingRate, l2penalty\n",
    "    \"\"\"\n",
    "    start = time.time()\n",
    "    random.seed()\n",
    "    data, target, d_mean, d_std = load_data()\n",
    "\n",
    "    # for make predictions to uknown data we have to fully train the model, for that we will use all the data except the last, because it will \n",
    "    # be use as a target in the training, and we will use a second trainLen to choose the model\n",
    "    #FulltrainLen = len(data) - 6\n",
    "    trainLen = len(data) - 18\n",
    "\n",
    "    # for choose the best model we have to evaluate in a certain number of predictios with know real values\n",
    "    testLen = 12\n",
    "\n",
    "    initLen = 12\n",
    "    inSize = outSize = 1\n",
    "    TS = get_TS()\n",
    "    time_stamp = time.strftime(\"%d-%m\") + \"_\" + time.strftime(\"%H-%M\")\n",
    "    folder = \"Results/iteraciones\" + \"/\"\n",
    "    best_setup, best_MSE, best_predictions = init_best(len(ParameterList[4]))\n",
    "    bWin = 0\n",
    "    bW = 0\n",
    "    best_matrix = 0\n",
    "    \n",
    "    #param1 = 0\n",
    "    for resSize in ParameterList[0]:\n",
    "        # name1 = ((str)(param1) + '-')\n",
    "        #param1 += 1\n",
    "        #param2 = 0\n",
    "        \n",
    "        X, Yt = get_x_yt_matrix(data, inSize, resSize, trainLen, initLen)\n",
    "        \n",
    "        for WinScale in ParameterList[1]:\n",
    "            # name2 = name1 + (str)(param2) + '-'\n",
    "            #param2 += 1\n",
    "            #param3 = 0\n",
    "            Win = generate_win_matrix(inSize, resSize, WinScale)\n",
    "            for SRS in ParameterList[2]:\n",
    "                # name3 = name2 + (str)(param3) + '-'\n",
    "                #param3 += 1\n",
    "                #param4 = 0\n",
    "                W = generate_w_matrix(resSize)\n",
    "                rhoW = get_spectral_radius(W)\n",
    "                W = scale_w(W, rhoW, SRS)\n",
    "\n",
    "                # this will create the state matrix of 167 rows and a Yt vector with the last value\n",
    "                # X,Yt = get_x_yt_matrix(data,inSize,resSize,FulltrainLen,initLen)\n",
    "                # we create a X state matrix and Yt for training data\n",
    "                # X_train,Yt_train = get_x_yt_matrix(data,inSize,resSize,trainLen,initLen)\n",
    "\n",
    "                for a in ParameterList[3]:\n",
    "                    # name4 = name3 + (str)(param4) + '-'\n",
    "                    #param4 += 1\n",
    "                    #param5 = 0\n",
    "\n",
    "                    # this will fill the state matrix with all the data   \n",
    "                    x, X = get_activation_states(data, resSize, trainLen, initLen, Win, W, a, X)\n",
    "\n",
    "                    # using train and validation data to select best model\n",
    "                    for reg in ParameterList[4]:\n",
    "                        # name5 = name4 + (str)(param5)\n",
    "                        #param5 += 1\n",
    "\n",
    "                        # Train the output with the data to -6 observation in order to select the best model to make predictions\n",
    "                        Wout = train_output_l2(inSize, resSize, X, Yt, reg)\n",
    "                        # we get the predictions with training data\n",
    "                        Y = get_predictions(data, outSize, trainLen, testLen, a, Win, W, Wout, x)\n",
    "\n",
    "                        Y = denormalize_predictions(d_mean, d_std, Y)\n",
    "                        MSE = get_MSE(Y[0], target)\n",
    "                        # ESN = [a,Win,W,Wout,x_train]\n",
    "                        currentSetup = (resSize, WinScale, SRS, a, reg)\n",
    "                        gc.collect()\n",
    "\n",
    "                        Matrix = (Win,W,Wout)\n",
    "                        best_setup, best_predictions, best_MSE,best_matrix = SolutionValidationTest(Y[0], MSE, best_setup, best_MSE,\n",
    "                                                                                    best_predictions, currentSetup,Matrix,best_matrix)                       \n",
    "\n",
    "    # Once we have the best setup we use the test values\n",
    "    # We retrain de model with all the data, but for the train the last row of the state matrix shouldn't be used, this due we don't have\n",
    "    # the target value for this row (this is the last observation, it will be use for the prediction\n",
    "\n",
    "    #Wout = train_output_l2(inSize, best_setup[0], bX, Yt, best_setup[4])\n",
    "    # with the model re trained we made the predictions for test data\n",
    "    #Ytest = get_predictions(data, outSize, trainLen, testLen, best_setup[3], bWin, bW, Wout, bx)\n",
    "    #Ytest = denormalize_predictions(d_mean, d_std, Ytest)\n",
    "\n",
    "    stop = time.time()\n",
    "    duration = stop - start\n",
    "    # toCSVandPlot(folder,('best-' + time_stamp) ,best_setup,best_MSE,best_predictions,TS)\n",
    "    windows_explorer_path = 'C:\\Users\\sa-al\\PycharmProjects\\AnnEchoState\\Results'\n",
    "    # os.startfile(windows_explorer_path)    \n",
    "    return best_setup, best_MSE, best_predictions, duration,best_matrix\n",
    "    # return ESN,data"
   ]
  },
  {
   "cell_type": "code",
   "execution_count": 68,
   "metadata": {},
   "outputs": [],
   "source": [
    "def TestESN(ValESN):\n",
    "    \"\"\"\n",
    "    Function to test the best val ESN to find best ESN model for the best setup\n",
    "    :param ParameterList: List of vectors for different values of the parameters in this order:\n",
    "    resSize, inputScale, SpectralRadiusScale, leakingRate, l2penalty\n",
    "    \"\"\"\n",
    "    random.seed()\n",
    "    predTest = list()\n",
    "    data, target, d_mean, d_std = load_dataTest()\n",
    "\n",
    "    # for make predictions to uknown data we have to fully train the model, for that we will use all the data except the last, because it will \n",
    "    # be use as a target in the training, and we will use a second trainLen to choose the model\n",
    "    #FulltrainLen = len(data) - 6\n",
    "    trainLen = len(data) - 13\n",
    "\n",
    "    # for choose the best model we have to evaluate in a certain number of predictios with know real values\n",
    "    testLen = 6\n",
    "\n",
    "    initLen = 12\n",
    "    inSize = outSize = 1\n",
    "    #TS = get_TS()\n",
    "\n",
    "    for tuple in ValESN:\n",
    "        setup = tuple[0]\n",
    "        resSize = setup[0]\n",
    "        WinScale = setup[1]\n",
    "        SRS = setup[2]\n",
    "        a = setup[3]\n",
    "        reg = setup[4]\n",
    "        \n",
    "        X, Yt = get_x_yt_matrix(data, inSize, resSize, trainLen, initLen)\n",
    "\n",
    "        #Win = generate_win_matrix(inSize, resSize, WinScale)\n",
    "        Win = tuple[4][0]\n",
    "\n",
    "        #W = generate_w_matrix(resSize)\n",
    "        #rhoW = get_spectral_radius(W)\n",
    "        #W = scale_w(W, rhoW, SRS)\n",
    "        W = tuple[4][1]\n",
    "        x, X = get_activation_states(data, resSize, trainLen, initLen, Win, W, a,\n",
    "                                     X)  # Train the output with the data to -6 observation in order to select the best model to make predictions\n",
    "        Wout = train_output_l2(inSize, resSize, X, Yt, reg)\n",
    "        # we get the predictions with training data\n",
    "        Y = get_predictions(data, outSize, trainLen, testLen, a, Win, W, Wout, x)\n",
    "\n",
    "        Y = denormalize_predictions(d_mean, d_std, Y)\n",
    "        result =(setup,Y)\n",
    "        predTest.append(result)\n",
    "        gc.collect()  # Once we have the test we clean the memory\n",
    "    writePredictions(predTest)"
   ]
  },
  {
   "cell_type": "heading",
   "metadata": {},
   "level": 1,
   "source": [
    "Test Full algorithm"
   ]
  },
  {
   "cell_type": "code",
   "execution_count": 28,
   "metadata": {},
   "outputs": [],
   "source": [
    "#ParameterList_0_3 = [[100,200,300,400,500],[1,1.2,1.5,1.8,2,2.5,3,3.5,4],[0.5,1,1.2,1.5,2,2.5,3,3.5],[0.1,0.2,0.3,0.4,0.5,0.6,0.7],[1e-13,1e-12,1e-11,1e-10,1e-9,1e-8,1e-5,1e-4,1e-3,1e-2,1e-1,1]]"
   ]
  },
  {
   "cell_type": "code",
   "execution_count": 29,
   "metadata": {},
   "outputs": [],
   "source": [
    "ParameterList = [[100,200,300,400],[0.5,1.2,1.5,1.8,2,2.5],[0.3,0.5,0.8,1,1.5],[0.4,0.5,0.6,0.7],[1e-12,1e-11,1e-10,1e-9,1e-8,1e-7,1e-6,1e-5,1e-4,1e-3,1e-2,1e-1,1e-0]]"
   ]
  },
  {
   "cell_type": "code",
   "execution_count": 30,
   "metadata": {},
   "outputs": [],
   "source": [
    "listPredTuple = list()\n",
    "#for x in range(5):\n",
    " #  bestPredtuple = get_best_setup(ParameterList)   \n",
    "  # listPredTuple.append(bestPredtuple)\n",
    "#writeIterations(listPredTuple)"
   ]
  },
  {
   "cell_type": "markdown",
   "metadata": {},
   "source": [
    "Aprox 1.- probar datos en mejor red"
   ]
  },
  {
   "cell_type": "code",
   "execution_count": 31,
   "metadata": {},
   "outputs": [],
   "source": [
    "#ParameterList = [[100,200],[-0.5,-0.1,0.1,0.3,0.5,0.7,1,1.3],[0.3,0.4,0.5,0.6,0.8,1,1.2],[0.2,0.3,0.4,0.5,0.6,0.7,0.8],[1e-9,1e-8,1e-7,1e-6,1e-5,1e-4,1e-3]]"
   ]
  },
  {
   "cell_type": "code",
   "execution_count": 103,
   "metadata": {},
   "outputs": [],
   "source": [
    "ParameterList = [[100],[0.1,0.3,0.5,0.7,1,1.3,1.5],[0.2,0.3,0.4,0.5,0.6,0.7,0.8,0.9,1,1.1],[0.2,0.3,0.4,0.5,0.6,0.7,0.8],[1e-9,1e-8,1e-7]]"
   ]
  },
  {
   "cell_type": "code",
   "execution_count": 100,
   "metadata": {},
   "outputs": [],
   "source": [
    "#ParameterList = [[100,200],[-0.3,0.1,0.5,0.7,1,1.3],[0.1,0.2,0.3,0.4,0.5,0.6,0.7,0.8,0.9,1,1.1],[0.2,0.3,0.4,0.5,0.6,0.7,0.8],[1e-7,1e-6,1e-5,1e-4,1e-3,1e-2]]"
   ]
  },
  {
   "cell_type": "code",
   "execution_count": 106,
   "metadata": {},
   "outputs": [],
   "source": [
    "predVal = list()\n",
    "for x in range(2):\n",
    "   bestPredtuple = get_best_ESN(ParameterList)  \n",
    "   predVal.append(bestPredtuple)\n",
    "writeIterations(predVal)"
   ]
  },
  {
   "cell_type": "code",
   "execution_count": 107,
   "metadata": {},
   "outputs": [],
   "source": [
    "TestESN(predVal)"
   ]
  },
  {
   "cell_type": "code",
   "execution_count": null,
   "metadata": {},
   "outputs": [],
   "source": [
    ""
   ]
  },
  {
   "cell_type": "code",
   "execution_count": 72,
   "metadata": {},
   "outputs": [
    {
     "data": {
      "text/plain": [
       "7"
      ]
     },
     "execution_count": 72,
     "output_type": "execute_result",
     "metadata": {}
    }
   ],
   "source": [
    "predTest = list()\n",
    "data, target, d_mean, d_std = load_dataTest()\n",
    "random.seed()\n",
    "#for make predictions to uknown data we have to fully train the model, for that we will use all the data except the last, because it will \n",
    "#be use as a target in the training, and we will use a second trainLen to choose the model\n",
    "trainLen = len(data) - 13\n",
    "\n",
    "#for choose the best model we have to evaluate in a certain number of predictios with know real values\n",
    "for solution in predVal:\n",
    "    setup = solution[0]    \n",
    "    testLen = 6\n",
    "    \n",
    "    initLen = 12\n",
    "    inSize = outSize = 1\n",
    "    #for solution in predVal:\n",
    "    #setup = solution[0]\n",
    "    resSize = setup[0]\n",
    "    WinScale = setup[1]\n",
    "    #Win = generate_win_matrix(inSize, resSize, WinScale)\n",
    "    Win = solution[4][0]\n",
    "    \n",
    "    SRS = setup[2]\n",
    "    \n",
    "    #W = generate_w_matrix(resSize)\n",
    "    #rhoW = get_spectral_radius(W)\n",
    "    #W = scale_w(W, rhoW, SRS)\n",
    "    W = solution[4][1]\n",
    "    \n",
    "    #this will create the state matrix of 167 rows and a Yt vector with the last value\n",
    "    X, Yt = get_x_yt_matrix(data, inSize, resSize, trainLen, initLen)\n",
    "    \n",
    "    a = setup[3]\n",
    "    \n",
    "    #this will fill the state matrix with all the data   \n",
    "    x, X = get_activation_states(data, resSize, trainLen, initLen, Win, W, a, X)\n",
    "    \n",
    "    #using train and validation data to select best model\n",
    "    reg = setup[4]  #Train the output with the data to -6 observation in order to select the best model to make predictions\n",
    "    Wout = train_output_l2(inSize, resSize, X, Yt,reg)\n",
    "    #Wout = solution[4][2]\n",
    "    #we get the predictions with training data\n",
    "    Y2 = get_predictions(data, outSize, trainLen, testLen, a, Win, W, Wout, x)\n",
    "    Y2 = denormalize_predictions(d_mean, d_std, Y2)\n",
    "    MSE = get_MSE(Y2[0], target)\n",
    "    test = (solution[0], Y2[0], MSE)\n",
    "    predTest.append(test)\n",
    "gc.collect()"
   ]
  },
  {
   "cell_type": "code",
   "execution_count": 73,
   "metadata": {},
   "outputs": [],
   "source": [
    "writePredictions(predTest)"
   ]
  },
  {
   "cell_type": "code",
   "execution_count": 82,
   "metadata": {},
   "outputs": [
    {
     "data": {
      "text/plain": [
       "array([[ -6.59909541e+01,  -5.51477726e-02,  -8.04715903e+02,\n         -5.16212266e+02,   4.39658302e+02,   3.63337031e+02,\n         -1.56407383e+02,  -7.58262078e+02,  -1.43071102e+02,\n         -2.80058454e+02,   4.53700659e+02,   8.29753579e+02,\n          2.31414657e+02,   1.17563935e+03,  -6.94295705e+02,\n          8.95218314e+02,  -7.96688247e+02,   2.06320204e+02,\n          1.10152751e+03,  -4.15291842e+02,   5.87267881e+01,\n          1.80830612e+02,  -5.52000387e+02,   9.38830749e+02,\n         -5.13772156e+02,  -5.75654474e+02,   5.34172081e+01,\n          1.33054476e+03,   2.17064294e+02,  -4.15502692e+02,\n         -3.31604130e+02,  -1.50598027e+03,  -7.44006989e+02,\n          1.12741270e+03,   3.28479355e+02,   1.61611977e+02,\n         -7.77953739e+02,   5.17767218e+02,  -5.62334468e+02,\n         -2.60773658e+02,   6.01286758e+02,   2.54848638e+02,\n          1.13610064e+03,   1.92215023e+03,   1.91512047e+02,\n         -1.07173019e+03,  -2.67363963e+02,   2.92052605e+02,\n         -4.54907101e+01,  -1.07288731e+03,  -5.90946594e+02,\n         -6.14557070e+02,   7.83317471e+02,   1.50628626e+03,\n          4.68111546e+02,  -3.96146314e+02,   5.28296388e+02,\n          3.63656964e+02,  -9.09727581e+02,   1.31345337e+02,\n          1.22844226e+03,   9.99039213e+02,   3.19834630e+02,\n         -1.84611972e+03,  -3.65473297e+02,   2.01613288e+02,\n         -8.91913610e+02,   1.07715765e+03,   8.10642520e+02,\n         -5.68457373e+00,   4.33651449e+01,   9.55862223e+02,\n         -8.05695971e+01,   4.71169706e+01,  -1.88470062e+02,\n         -8.89464418e+00,  -8.88339959e+02,  -6.97761206e+02,\n          4.07710990e+02,   6.93361929e+02,  -1.88400913e+03,\n         -1.12668499e+03,   1.57794389e+02,   2.86494365e+01,\n         -6.47976033e+02,  -9.31837891e+02,  -2.08286431e+03,\n          1.37006025e+03,  -3.70328426e+02,  -1.72026050e+03,\n         -2.62413724e+01,  -8.10467583e+02,   1.56868740e+03,\n          5.63569750e+01,  -2.06596870e+02,  -3.20511161e+02,\n          4.11671494e+00,   3.12299097e+02,  -5.18502461e+02,\n          3.09553636e+02,   4.64154593e+02,  -9.04968585e+01,\n         -7.68446906e+02,  -1.37033038e+02,  -1.83379170e+03,\n         -2.98500436e+02,   1.61285726e+02,  -1.30538709e+02,\n          2.41502731e+02,   6.15336919e+02,   1.21740762e+03,\n         -9.57690469e+01,   1.06451795e+02,  -6.21637455e+02,\n          6.72983344e+02,  -6.15563285e+02,   6.25005196e+02,\n          2.18267779e+02,   7.05384744e+02,  -1.12807690e+03,\n          2.81617515e+02,   5.14808832e+02,  -3.04926934e+02,\n          1.24469467e+03,  -7.15120437e+02,  -3.85891432e+02,\n          4.52308684e+02,  -4.09260888e+02,  -1.03095235e+02,\n          5.89416178e+02,  -9.30999260e+02,   2.44700812e+02,\n         -7.76063778e+01,   2.28156271e+02,   6.98280753e+01,\n          6.63117286e+02,  -1.53838255e+03,   1.27749190e+03,\n         -8.90165324e+02,  -1.39626132e+02,  -1.96105988e+02,\n          1.15940376e+02,  -2.17855236e+02,  -5.64948456e+02,\n         -1.18586952e+03,  -6.54927528e+02,   9.34501322e+02,\n         -6.04822067e+02,   2.34455122e+02,   7.60220502e+02,\n          4.83522446e+01,  -1.33120413e+01,   1.10833110e+02,\n         -1.31560460e+02,   8.49943883e+02,  -2.92745228e+01,\n         -3.18595796e+02,   1.63843697e+03,   7.01883136e+02,\n         -2.72641497e+02,  -2.06765262e+03,   4.39597318e+02,\n         -1.34301828e+02,  -3.04536186e+02,   9.32465029e+02,\n          5.61596324e+02,   5.02517118e+02,  -9.44586917e+02,\n         -1.16489690e+03,   4.21853223e+01,   4.68552951e+02,\n         -8.02709205e+02,  -7.57889974e+02,  -5.16977262e+02,\n          6.46244286e+02,   5.82230965e+02,   5.77121150e+02,\n          1.20347647e+02,   3.42527329e+02,  -2.70685111e+02,\n         -5.15046700e+02,   8.35450429e+01,   1.70390337e+02,\n          3.15844071e+02,   4.65814558e+01,  -2.71980529e+02,\n          1.15581112e+03,   2.56870966e+02,   3.84398030e+02,\n         -3.02776556e+02,  -2.75784830e+01,   3.95600982e+02,\n          6.33466563e+01,   1.38266082e+02,   1.27972931e+02,\n          9.05906787e+02,  -3.23824628e+02,  -1.79744808e+02,\n         -8.49016225e+01,  -2.67335341e+02,  -8.29188473e+02,\n          5.61153570e+02,  -5.85658143e+02,  -1.53059009e+01,\n          3.51443104e+02,   1.80434749e+01,  -7.11348497e+02,\n         -4.79300886e+02,   9.29920951e+02,   2.47782090e+02,\n         -6.48371909e+02,   2.09659792e+03,   4.98633376e+02,\n         -3.56247310e+02,  -4.08980872e+02,  -7.34433076e+02,\n         -4.69493253e+02,   7.90055674e+02,  -6.13813209e+02,\n          2.41380583e+01,  -8.01055038e+01,   4.47554518e+02,\n         -1.71116265e+02,  -7.50653585e+02,   8.44079945e+02,\n          2.53655439e+02,   4.47629840e+02,   2.26739446e+02,\n          2.11345871e+02,  -2.96710483e+02,  -1.56477428e+03,\n         -4.20949699e+02,   4.68254678e+02,  -2.95494665e+01,\n         -1.06750198e+03,   2.97851224e+02,  -4.09320611e+02,\n          2.21221394e+02,   1.32994212e+03,   1.95625540e+03,\n         -4.22805735e+02,  -1.22179080e+03,  -1.41639390e+03,\n          1.97840957e+02,   1.27575187e+03,   7.39601438e+02,\n         -3.82384945e+02,  -6.04799212e+01,   4.47983447e+02,\n          1.33255527e+03,  -6.94834788e+02,  -1.68179002e+00,\n          5.95705237e+02,   5.25464284e+02,   5.36356126e+02,\n         -1.07262819e+02,  -1.24987722e+03,   5.60568524e+02,\n         -9.03134092e+02,  -1.13273914e+03,  -2.14647557e+02,\n         -9.36670445e+02,   1.40385546e+03,   4.57019489e+02,\n         -7.78190122e+01,  -8.80715976e+02,  -1.26386250e+02,\n          1.58817684e+03,   1.75275514e+02,  -5.67773444e+02,\n          4.35076022e+02,  -6.54629922e+02,  -9.82762600e+02,\n         -9.31060485e+02,  -6.17483512e+02,  -7.47031216e+02,\n         -6.84601369e+01,   2.40829306e+02,   6.78816193e+02,\n          3.42260133e+01,   2.82390666e+02,  -2.34404576e+02,\n         -2.12449457e+02,  -6.61145843e+02,  -1.43559438e+03,\n         -5.54315763e+02,  -4.81191686e+02,  -2.49230320e+02,\n         -2.73582671e+02,   1.05491814e+03,  -4.76572996e+02,\n         -5.69381451e+02,   1.24409714e+03,  -5.78660342e+02,\n         -8.84372901e+02,  -1.81965901e+03,  -3.18071860e+02,\n          6.19638348e+02,   8.66413440e+02,  -9.24777834e+02,\n          2.20388628e+02,  -1.29051028e+02]])"
      ]
     },
     "execution_count": 82,
     "output_type": "execute_result",
     "metadata": {}
    }
   ],
   "source": [
    "predVal[0][4][2]"
   ]
  }
 ],
 "metadata": {},
 "nbformat": 4,
 "nbformat_minor": 0
}