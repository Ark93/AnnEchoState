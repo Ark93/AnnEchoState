{
 "cells": [
  {
   "cell_type": "code",
   "execution_count": 1,
   "metadata": {},
   "outputs": [],
   "source": [
    "from numpy import *\n",
    "from matplotlib.pyplot import *\n",
    "import scipy.linalg\n",
    "import matplotlib.lines as mlines\n",
    "import matplotlib.pylab as pylab\n",
    "pylab.rcParams['figure.figsize']= 16,5\n",
    "from __future__ import division"
   ]
  },
  {
   "cell_type": "code",
   "execution_count": 2,
   "metadata": {},
   "outputs": [],
   "source": [
    "import pandas as pd\n",
    "import csv\n",
    "import os\n",
    "import time\n",
    "import gc"
   ]
  },
  {
   "cell_type": "heading",
   "metadata": {},
   "level": 1,
   "source": [
    "Function to load data"
   ]
  },
  {
   "cell_type": "code",
   "execution_count": 267,
   "metadata": {},
   "outputs": [],
   "source": [
    "def load_data():\n",
    "    \"\"\"\n",
    "Function to load data\n",
    "    :return: data vector, data target, data mean, data standar deviation \n",
    "    \"\"\"\n",
    "    data = np.genfromtxt('Resources/data.csv', delimiter=',')\n",
    "    d_mean = np.mean(data)\n",
    "    d_std = np.std(data)\n",
    "    valtarget = data[-12:-6]\n",
    "    data = (data - d_mean) / d_std    \n",
    "    return data, valtarget, d_mean, d_std"
   ]
  },
  {
   "cell_type": "code",
   "execution_count": 268,
   "metadata": {},
   "outputs": [],
   "source": [
    "def load_dataTest():\n",
    "    \"\"\"\n",
    "Function to load data\n",
    "    :return: data vector, data target, data mean, data standar deviation \n",
    "    \"\"\"\n",
    "    data = np.genfromtxt('Resources/data.csv', delimiter=',')\n",
    "    d_mean = np.mean(data)\n",
    "    d_std = np.std(data)\n",
    "    target = data[-6:]\n",
    "    data = (data - d_mean) / d_std    \n",
    "    return data, target, d_mean, d_std"
   ]
  },
  {
   "cell_type": "code",
   "execution_count": 4,
   "metadata": {},
   "outputs": [],
   "source": [
    "def get_TS():\n",
    "    rawData = pd.read_csv('Resources/Consulta_Banxico.csv', sep=',', encoding='latin1', skiprows=15, skip_blank_lines=True)\n",
    "    Data = rawData.drop(rawData.index[:2])\n",
    "    Data = Data.reset_index(drop = True)\n",
    "    Data.columns = ['Fecha' , 'Tasa de crecimiento Mensual']\n",
    "    TS = pd.Series(Data['Tasa de crecimiento Mensual'].astype(float))\n",
    "    TS.index= Data['Fecha']\n",
    "    del Data\n",
    "    return TS"
   ]
  },
  {
   "cell_type": "heading",
   "metadata": {},
   "level": 1,
   "source": [
    "Generate Matrix functions"
   ]
  },
  {
   "cell_type": "code",
   "execution_count": 299,
   "metadata": {},
   "outputs": [],
   "source": [
    "def generate_win_matrix(inSize, resSize, scaleFactor=1):\n",
    "    \"\"\"\n",
    "Function to generate W in matrix with a uniform distribution between [-1,1]\n",
    "in other Function the uniform distribution can be moved to any range\n",
    "    :param inSize: number of inputs without interceptor\n",
    "    :param resSize: size of reservoir\n",
    "    :param scaleFactor: Scale Factor for the matrix by default 1\n",
    "    :return: W in Matrix\n",
    "    \"\"\"\n",
    "    Win = (random.uniform(low=-0.5, high=0.5, size=(resSize, 1 + inSize))) * scaleFactor\n",
    "    return Win"
   ]
  },
  {
   "cell_type": "code",
   "execution_count": 298,
   "metadata": {},
   "outputs": [],
   "source": [
    "def generate_w_matrix(resSize):\n",
    "    \"\"\"\n",
    "Function to generate W matrix with a uniform distribution between [-1,1]\n",
    " In other function the uniform distribution can be moved to any range\n",
    "    :param resSize: size of reservoir\n",
    "    :return: W matrix\n",
    "    \"\"\"\n",
    "    W = random.uniform(low=-0.5, high= 0.5, size = (resSize,resSize))\n",
    "    return  W"
   ]
  },
  {
   "cell_type": "code",
   "execution_count": 7,
   "metadata": {},
   "outputs": [],
   "source": [
    "def get_spectral_radius(W):\n",
    "    \"\"\"\n",
    "Function to get the spectral radius of W matrix\n",
    "    :param W: W matrix\n",
    "    :return: spectral radius\n",
    "    \"\"\"\n",
    "    rhoW = max(abs(linalg.eig(W)[0]))\n",
    "    return  rhoW"
   ]
  },
  {
   "cell_type": "code",
   "execution_count": 8,
   "metadata": {},
   "outputs": [],
   "source": [
    "def scale_w(W,rhoW, SRS = 2):\n",
    "    \"\"\"\n",
    "Function to apply spectral radius scale factor\n",
    "    :param W: W matrix\n",
    "    :param rhoW: spectral radius\n",
    "    :param SRS: spectral radius scale factor by default 1\n",
    "    :return: W\n",
    "    \"\"\"\n",
    "    W*= (SRS/ rhoW)\n",
    "    return W"
   ]
  },
  {
   "cell_type": "code",
   "execution_count": 9,
   "metadata": {},
   "outputs": [],
   "source": [
    "def get_x_yt_matrix(data,inSize, resSize,trainLen,initLen):\n",
    "    \"\"\"\n",
    "Function to get X and Yt Matrix to save activation states and prediction targets\n",
    "    :type data: normalized data\n",
    "    :param inSize: size of the input \n",
    "    :param resSize: size of reservoir\n",
    "    :param trainLen: length of train data\n",
    "    :param initLen:  length of initial data\n",
    "    :return: X, Yt\n",
    "    \"\"\"\n",
    "    X = zeros((1+inSize+resSize,trainLen-initLen))\n",
    "    Yt = data[None,initLen+1:trainLen+1]\n",
    "    return X,Yt"
   ]
  },
  {
   "cell_type": "heading",
   "metadata": {},
   "level": 1,
   "source": [
    "ESN train and activation Functions"
   ]
  },
  {
   "cell_type": "code",
   "execution_count": 10,
   "metadata": {},
   "outputs": [],
   "source": [
    "def get_activation_states(data,resSize,trainLen,initLen,Win,W,a,X):\n",
    "    \"\"\"\n",
    "Function to get the activations states from the reservoir\n",
    "    :param data: train data\n",
    "    :param resSize: reservoir size\n",
    "    :param trainLen: length of train data\n",
    "    :param initLen: inital data to be ignored\n",
    "    :param Win: W in Matrix\n",
    "    :param W: W matrix\n",
    "    :param a: leaking rate\n",
    "    :param X: matrix of Activations per input\n",
    "    :return: last activation vector, matrix of activations X\n",
    "    \"\"\"\n",
    "    x = zeros((resSize,1))\n",
    "    for t in range(trainLen):\n",
    "        u = data[t]\n",
    "        x_u = tanh( dot( Win, vstack((1,u)) ) + dot( W, x ) )\n",
    "        x = (1-a)*x + a*x_u \n",
    "        if t >= initLen:\n",
    "            X[:,t-initLen] = vstack((1,u,x))[:,0]\n",
    "    return x,X"
   ]
  },
  {
   "cell_type": "code",
   "execution_count": 396,
   "metadata": {},
   "outputs": [],
   "source": [
    "def train_output_l2(inSize,resSize,X,Yt,reg = 1e-8):\n",
    "    \"\"\"\n",
    "Function to train readout with ridge regression to address overfitting\n",
    "    :param inSize: size of input\n",
    "    :param resSize: reservoir size\n",
    "    :param reg: penalization parameter\n",
    "    :param X: Matrix of activations\n",
    "    :param Yt: target values\n",
    "    :return Wout: weights from reservoir and input to output layer\n",
    "    \"\"\"\n",
    "    X_T = X.T \n",
    "    Wout = dot( dot(Yt,X_T), linalg.inv( dot(X,X_T) + reg*eye(1+inSize+resSize) ) )\n",
    "    return Wout"
   ]
  },
  {
   "cell_type": "code",
   "execution_count": 397,
   "metadata": {},
   "outputs": [],
   "source": [
    "def get_predictions(data,outSize,trainLen,testLen,a,Win,W,Wout,x):\n",
    "    \"\"\"\n",
    "Function to get the predictions of the normalized data\n",
    "    :param data: train data\n",
    "    :param outSize: output size\n",
    "    :param trainLen: length of train data\n",
    "    :param testLen: length of test data\n",
    "    :param a: leaking rate\n",
    "    :param Win: W in Matrix\n",
    "    :param W: W matrix\n",
    "    :param Wout: W out Matrix\n",
    "    :param x: last activations states\n",
    "    :return: vector of predictions\n",
    "    \"\"\"\n",
    "    Y = zeros((outSize,testLen))\n",
    "    u = data[trainLen]\n",
    "    for t in range(testLen):\n",
    "        x = (1-a)*x + a*tanh( dot( Win, vstack((1,u)) ) + dot( W, x ) )\n",
    "        y = dot( Wout, vstack((1,u,x)) )\n",
    "        Y[:,t] = y\n",
    "        # generative mode, this take the prediction and use it to make other prediction:\n",
    "        u = y\n",
    "        ## this would be a predictive mode, this made a prediccion and save it, then use the true value to make a new prediction:\n",
    "        #u = data[trainLen+t+1]\n",
    "    return Y"
   ]
  },
  {
   "cell_type": "code",
   "execution_count": 13,
   "metadata": {},
   "outputs": [],
   "source": [
    "def denormalize_predictions(d_mean,d_std,Y):\n",
    "    \"\"\"\n",
    "Function to denormalize predictions\n",
    "    :param d_mean: data mean\n",
    "    :param d_std: data standard deviation\n",
    "    :param Y: predictions\n",
    "    :return: denormalized predictions\n",
    "    \"\"\"\n",
    "    Y1 = (Y * d_std) + d_mean\n",
    "    return Y1"
   ]
  },
  {
   "cell_type": "heading",
   "metadata": {},
   "level": 1,
   "source": [
    "Evaluation Function"
   ]
  },
  {
   "cell_type": "code",
   "execution_count": 14,
   "metadata": {},
   "outputs": [],
   "source": [
    "def get_MSE(predictions, target):\n",
    "    \"\"\"\n",
    "    Function to get MSE from diference between predictions and real value (ouptuts)\n",
    "    :param predictions: predictions made by ffnn\n",
    "    :param target: true values from output values\n",
    "    :return: MSE\n",
    "    \"\"\"\n",
    "    return  (np.sum((target - predictions)**2))/len(predictions)"
   ]
  },
  {
   "cell_type": "heading",
   "metadata": {},
   "level": 1,
   "source": [
    "Function to validate ESN model"
   ]
  },
  {
   "cell_type": "code",
   "execution_count": 15,
   "metadata": {},
   "outputs": [],
   "source": [
    "def SolutionValidation(Predictions,MSE,bestESN,bestMSE,bestPredictions,currentSetup):\n",
    "    \"\"\"\n",
    "Function to validate ESN model\n",
    "    :param Predictions: Prediction of current ESN\n",
    "    :param MSE: MSE of current ESN\n",
    "    :param bestESN: best setup of ESN so far\n",
    "    :param bestMSE: MSE of best ESN so far\n",
    "    :param bestPredictions: predictions of best ESN so far\n",
    "    :param currentSetup: current ESN setup\n",
    "    :return: bestESN, bestPredictions, bestMSE\n",
    "    \"\"\"\n",
    "    if((float)(MSE) < (bestMSE)):\n",
    "        bestESN = currentSetup\n",
    "        bestMSE = MSE\n",
    "        bestPredictions = Predictions\n",
    "    return bestESN,bestPredictions,bestMSE"
   ]
  },
  {
   "cell_type": "code",
   "execution_count": 16,
   "metadata": {},
   "outputs": [],
   "source": [
    "def LocalSolutionValidation(Predictions,MSE,listl2_pen,bestESN,bestMSE,bestPredictions,best_listl2_pen,currentSetup):\n",
    "    \"\"\"\n",
    "Function to validate Local ESN model\n",
    "    :param Predictions: Prediction of current ESN\n",
    "    :param MSE: MSE of current ESN\n",
    "    :param bestESN: best setup of ESN so far\n",
    "    :param bestMSE: MSE of best ESN so far\n",
    "    :param bestPredictions: predictions of best ESN so far\n",
    "    :param currentSetup: current ESN setup\n",
    "    :return: bestESN, bestPredictions, bestMSE\n",
    "    \"\"\"\n",
    "    if((float)(MSE) < (bestMSE)):\n",
    "        bestESN = currentSetup\n",
    "        bestMSE = MSE\n",
    "        bestPredictions = Predictions\n",
    "        best_listl2_pen = listl2_pen\n",
    "    return bestESN,bestPredictions,bestMSE, best_listl2_pen"
   ]
  },
  {
   "cell_type": "heading",
   "metadata": {},
   "level": 1,
   "source": [
    "Function to init 'best' variables"
   ]
  },
  {
   "cell_type": "code",
   "execution_count": 17,
   "metadata": {},
   "outputs": [],
   "source": [
    "def init_best(numl2):\n",
    "    best_setup = (0,0,0,0,0)\n",
    "    best_mse = 100000\n",
    "    best_pred = (0,0,0,0,0,0)\n",
    "    list_l2pen = zeros((numl2,7))\n",
    "    return best_setup,best_mse,best_pred,list_l2pen"
   ]
  },
  {
   "cell_type": "heading",
   "metadata": {},
   "level": 1,
   "source": [
    "Save and Plot Functions"
   ]
  },
  {
   "cell_type": "code",
   "execution_count": 18,
   "metadata": {},
   "outputs": [],
   "source": [
    "def toCSVandPlot(folder,name,esn,mse,pred,TS):\n",
    "    if not os.path.isdir(folder):\n",
    "        os.makedirs(folder)\n",
    "    with open(folder + name + '.csv','w+') as csvfile:\n",
    "        spamwriter= csv.writer(csvfile,delimiter=',')\n",
    "        spamwriter.writerow(['ESN configuration: ',esn])\n",
    "        spamwriter.writerow(['predictions'])\n",
    "        spamwriter.writerow(pred)\n",
    "        spamwriter.writerow(['MSE:' , mse])\n",
    "        csvfile.close()        \n",
    "    #plot_Solutions(folder,name,pred,TS)\n",
    "    gc.collect()"
   ]
  },
  {
   "cell_type": "code",
   "execution_count": 19,
   "metadata": {},
   "outputs": [],
   "source": [
    "def toCSV(folder,name,b_esn,mse,pred,c_esn,list,TS):\n",
    "    if not os.path.isdir(folder):\n",
    "        os.makedirs(folder) \n",
    "    with open(folder + name + '.csv','w+') as csvfile:\n",
    "        spamwriter= csv.writer(csvfile,delimiter=',')\n",
    "        spamwriter.writerow(['ESN configuration: ',b_esn])\n",
    "        spamwriter.writerow(['predictions'])\n",
    "        spamwriter.writerow(pred)\n",
    "        spamwriter.writerow(['MSE:' , mse])\n",
    "        spamwriter.writerow(['Current Setup w_o l2 penalty',c_esn])\n",
    "        spamwriter.writerow(['Predictions'])\n",
    "        spamwriter.writerows(list)\n",
    "        csvfile.close()        \n",
    "    #plot_Solutions2(folder,name,pred,list,TS)\n",
    "    gc.collect()"
   ]
  },
  {
   "cell_type": "code",
   "execution_count": 232,
   "metadata": {},
   "outputs": [],
   "source": [
    "def writeIterations(listPredTuple):\n",
    "    folder = \"Results/iteraciones\"  +\"/\" \n",
    "    with open(folder + 'Validation_predicions' + '.csv','w+') as csvfile:\n",
    "        spamwriter= csv.writer(csvfile,delimiter=',')\n",
    "        spamwriter.writerow(['Param1','Param2','Param3','Param4','Param5','Pred1','Pred2','Pred3','Pred4','Pred5','Pred6','MSE','Time'])\n",
    "        for x in listPredTuple:\n",
    "                    y = np.append(np.append(x[0],x[2]),np.append(x[1],x[3]))\n",
    "                    spamwriter.writerow(y)\n",
    "    csvfile.close()"
   ]
  },
  {
   "cell_type": "code",
   "execution_count": 261,
   "metadata": {},
   "outputs": [],
   "source": [
    "def writePredictions(listPredTuple):\n",
    "    folder = \"Results/iteraciones\"  +\"/\" \n",
    "    with open(folder + 'Test_predicions' + '.csv','w+') as csvfile:\n",
    "        spamwriter= csv.writer(csvfile,delimiter=',')\n",
    "        spamwriter.writerow(['Param1','Param2','Param3','Param4','Param5','Pred1','Pred2','Pred3','Pred4','Pred5','Pred6','MSE'])\n",
    "        for x in listPredTuple:                \n",
    "                    y = np.append(np.append(x[0],x[1]),x[2])\n",
    "                    spamwriter.writerow(y)\n",
    "    csvfile.close()"
   ]
  },
  {
   "cell_type": "code",
   "execution_count": 22,
   "metadata": {},
   "outputs": [],
   "source": [
    "def plot_Solutions(folder,name,Pred,TS):\n",
    "    \"\"\"\n",
    "    Function to Plot List of predictions, mean predictions and Original Time Serie\n",
    "    :param folder: path of file\n",
    "    :param name: name of file\n",
    "    :param Pred: predictions\n",
    "    :param TS: Original Time Serie\n",
    "    :return: matplotlib fig\n",
    "    \"\"\"\n",
    "    fig = figure()\n",
    "    TSValOutputs = TS[len(TS)-7:len(TS)].copy()\n",
    "    TSValOutputs.plot(style= 'ko-')\n",
    "    \n",
    "    TSPred = pd.Series(Pred.astype(float), index = TS.index[len(TS)-12:len(TS)-6])\n",
    "    TSPrediction = TS[len(TS)-7:len(TS)].copy()\n",
    "    TSPrediction[1:] = TSPred\n",
    "    TSPrediction.plot(style= 'bo-')\n",
    "    lineMean = mlines.Line2D([],[],color='blue', marker='o',label = 'Prediction')\n",
    "    lineVal = mlines.Line2D([],[],color='black', marker='o',label = 'True Values')\n",
    "    legend(handles = [lineMean,lineVal],loc= 1)\n",
    "    fig.savefig(folder + name + \".png\")\n",
    "    fig.clf()\n",
    "    del fig\n",
    "    gc.collect()\n",
    "    return None"
   ]
  },
  {
   "cell_type": "code",
   "execution_count": 23,
   "metadata": {},
   "outputs": [],
   "source": [
    "def plot_Solutions2(folder,name,Pred,list,TS):\n",
    "    \"\"\"\n",
    "    Function to Plot List of predictions, mean predictions and Original Time Serie\n",
    "    :param folder: path of file\n",
    "    :param name: name of file\n",
    "    :param Pred: predictions\n",
    "    :param TS: Original Time Serie\n",
    "    :return: matplotlib fig\n",
    "    \"\"\"\n",
    "    fig = figure()\n",
    "    TSValOutputs = TS[len(TS)-7:len(TS)].copy()\n",
    "    TSValOutputs.plot(style= 'ko-')\n",
    "    \n",
    "    TSPred = pd.Series(Pred.astype(float), index = TS.index[len(TS)-12:len(TS)-6])\n",
    "    TSPrediction = TS[len(TS)-7:len(TS)].copy()\n",
    "    TSPrediction[1:] = TSPred\n",
    "    TSPrediction.plot(style= 'bo-')\n",
    "    lineMean = mlines.Line2D([],[],color='blue', marker='o',label = 'Prediction')\n",
    "    lineVal = mlines.Line2D([],[],color='black', marker='o',label = 'True Values')\n",
    "    legend(handles = [lineMean,lineVal],loc= 1)\n",
    "    fig.savefig(folder + name + \".png\")\n",
    "    fig.clf()\n",
    "    del fig\n",
    "    gc.collect()\n",
    "    return None"
   ]
  },
  {
   "cell_type": "heading",
   "metadata": {},
   "level": 1,
   "source": [
    "Iteration function"
   ]
  },
  {
   "cell_type": "code",
   "execution_count": 24,
   "metadata": {},
   "outputs": [],
   "source": [
    "def get_denormilze_prediction(data,d_mean,d_std,outSize,trainLen,testLen,a,Win,W,Wout,x):\n",
    "    Y = get_predictions(data,outSize,trainLen,testLen,a,Win,W,Wout,x)\n",
    "    Y = denormalize_predictions(d_mean,d_std,Y)\n",
    "    return Y"
   ]
  },
  {
   "cell_type": "code",
   "execution_count": 25,
   "metadata": {},
   "outputs": [],
   "source": [
    "def init_local_best(numl2):\n",
    "    local_best_setup = (0,0,0,0,0)\n",
    "    local_best_mse = 100000\n",
    "    local_best_pred = (0,0,0,0,0,0)\n",
    "    local_list_l2pen = zeros((numl2,7))\n",
    "    return local_best_setup,local_best_mse,local_best_pred,local_list_l2pen"
   ]
  },
  {
   "cell_type": "heading",
   "metadata": {},
   "level": 1,
   "source": [
    "Full algorithm for validation"
   ]
  },
  {
   "cell_type": "code",
   "execution_count": 26,
   "metadata": {},
   "outputs": [],
   "source": [
    "def get_best_setup(ParameterList):\n",
    "    \"\"\"\n",
    "Function to test several ESN model for the best setup\n",
    "    :param ParameterList: List of vectors for different values of the parameters in this order:\n",
    "    resSize, inputScale, SpectralRadiusScale, leakingRate, l2penalty\n",
    "    \"\"\"    \n",
    "    start = time.time()\n",
    "    random.seed()\n",
    "    data,target,d_mean,d_std = load_data()\n",
    "    trainLen =len(data) - 6\n",
    "    testLen = 6\n",
    "    initLen = 12\n",
    "    inSize = outSize = 1\n",
    "    TS = get_TS()\n",
    "    time_stamp = time.strftime(\"%d-%m\") + \"_\" + time.strftime(\"%H-%M\")\n",
    "    folder = \"Results/iteraciones\"  +\"/\" \n",
    "    best_setup,best_MSE,best_predictions,listl2_pen = init_best(len(ParameterList[4]))\n",
    "    param1 = 0   \n",
    "    for resSize in ParameterList[0]:\n",
    "       # name1 = ((str)(param1) + '-')\n",
    "        param1 += 1\n",
    "        param2 = 0\n",
    "        for WinScale in ParameterList[1]:\n",
    "            #name2 = name1 + (str)(param2) + '-'\n",
    "            param2 += 1\n",
    "            param3 = 0\n",
    "            Win = generate_win_matrix(inSize,resSize,WinScale)\n",
    "            for SRS in ParameterList[2]:\n",
    "                #name3 = name2 + (str)(param3) + '-'\n",
    "                param3 += 1\n",
    "                param4 = 0\n",
    "                W = generate_w_matrix(resSize)            \n",
    "                rhoW = get_spectral_radius(W)\n",
    "                W = scale_w(W,rhoW,SRS)\n",
    "                X,Yt = get_x_yt_matrix(data,inSize,resSize,trainLen,initLen)\n",
    "                for a in ParameterList[3]:\n",
    "                    #name4 = name3 + (str)(param4) + '-'\n",
    "                    param4 += 1\n",
    "                    param5 = 0\n",
    "                    x,X = get_activation_states(data,resSize,trainLen,initLen,Win,W,a,X)\n",
    "                    for reg in ParameterList[4]:\n",
    "                        #name5 = name4 + (str)(param5)\n",
    "                        param5 += 1\n",
    "                        Wout = train_output_l2(inSize,resSize,X,Yt,reg)\n",
    "                        Y = get_predictions(data,outSize,trainLen,testLen,a,Win,W,Wout,x)\n",
    "                        Y = denormalize_predictions(d_mean,d_std,Y)\n",
    "                        MSE = get_MSE(Y[0],target)\n",
    "                        listl2_pen[param5-1]= (np.append(Y,MSE))\n",
    "                        #add list of results for l2 penalty\n",
    "                        currentSetup = (resSize,WinScale,SRS,a,reg)\n",
    "                        gc.collect()\n",
    "                        best_setup,best_predictions,best_MSE = SolutionValidation(Y[0],MSE,best_setup,best_MSE,best_predictions,currentSetup)\n",
    "                  # toCSV(folder,name5,best_setup,best_MSE,best_predictions,currentSetup[:-1],listl2_pen,TS)\n",
    "    stop = time.time()\n",
    "    duration = stop - start\n",
    "    toCSVandPlot(folder,('best-' + time_stamp) ,best_setup,best_MSE,best_predictions,TS)\n",
    "    windows_explorer_path =  'C:\\Users\\sa-al\\PycharmProjects\\AnnEchoState\\Results' \n",
    "    #os.startfile(windows_explorer_path)    \n",
    "    return best_setup,best_MSE,best_predictions,duration"
   ]
  },
  {
   "cell_type": "code",
   "execution_count": 398,
   "metadata": {},
   "outputs": [],
   "source": [
    "def get_best_ESN(ParameterList):\n",
    "    \"\"\"\n",
    "Function to test several ESN model for the best setup\n",
    "    :param ParameterList: List of vectors for different values of the parameters in this order:\n",
    "    resSize, inputScale, SpectralRadiusScale, leakingRate, l2penalty\n",
    "    \"\"\"\n",
    "    start = time.time()\n",
    "    random.seed()\n",
    "    data, target, d_mean, d_std = load_data()\n",
    "\n",
    "    # for make predictions to uknown data we have to fully train the model, for that we will use all the data except the last, because it will \n",
    "    # be use as a target in the training, and we will use a second trainLen to choose the model\n",
    "    #FulltrainLen = len(data) - 6\n",
    "    trainLen = len(data) - 13\n",
    "\n",
    "    # for choose the best model we have to evaluate in a certain number of predictios with know real values\n",
    "    testLen = 6\n",
    "\n",
    "    initLen = 12\n",
    "    inSize = outSize = 1\n",
    "    TS = get_TS()\n",
    "    time_stamp = time.strftime(\"%d-%m\") + \"_\" + time.strftime(\"%H-%M\")\n",
    "    folder = \"Results/iteraciones\" + \"/\"\n",
    "    best_setup, best_MSE, best_predictions, listl2_pen = init_best(len(ParameterList[4]))\n",
    "    bWin = 0\n",
    "    bW = 0\n",
    "    bx =0\n",
    "    bX = 0\n",
    "    \n",
    "    #param1 = 0\n",
    "    for resSize in ParameterList[0]:\n",
    "        # name1 = ((str)(param1) + '-')\n",
    "        #param1 += 1\n",
    "        #param2 = 0\n",
    "        \n",
    "        X, Yt = get_x_yt_matrix(data, inSize, resSize, trainLen, initLen)\n",
    "        \n",
    "        for WinScale in ParameterList[1]:\n",
    "            # name2 = name1 + (str)(param2) + '-'\n",
    "            #param2 += 1\n",
    "            #param3 = 0\n",
    "\n",
    "            Win = generate_win_matrix(inSize, resSize, WinScale)\n",
    "            for SRS in ParameterList[2]:\n",
    "                # name3 = name2 + (str)(param3) + '-'\n",
    "                #param3 += 1\n",
    "                #param4 = 0\n",
    "                W = generate_w_matrix(resSize)\n",
    "                rhoW = get_spectral_radius(W)\n",
    "                W = scale_w(W, rhoW, SRS)\n",
    "\n",
    "                # this will create the state matrix of 167 rows and a Yt vector with the last value\n",
    "                # X,Yt = get_x_yt_matrix(data,inSize,resSize,FulltrainLen,initLen)\n",
    "                # we create a X state matrix and Yt for training data\n",
    "                # X_train,Yt_train = get_x_yt_matrix(data,inSize,resSize,trainLen,initLen)\n",
    "\n",
    "                for a in ParameterList[3]:\n",
    "                    # name4 = name3 + (str)(param4) + '-'\n",
    "                    #param4 += 1\n",
    "                    #param5 = 0\n",
    "\n",
    "                    # this will fill the state matrix with all the data   \n",
    "                    x, X = get_activation_states(data, resSize, trainLen, initLen, Win, W, a, X)\n",
    "\n",
    "                    # using train and validation data to select best model\n",
    "                    for reg in ParameterList[4]:\n",
    "                        # name5 = name4 + (str)(param5)\n",
    "                        #param5 += 1\n",
    "\n",
    "                        # Train the output with the data to -6 observation in order to select the best model to make predictions\n",
    "                        Wout = train_output_l2(inSize, resSize, X, Yt, reg)\n",
    "                        # we get the predictions with training data\n",
    "                        Y = get_predictions(data, outSize, trainLen, testLen, a, Win, W, Wout, x)\n",
    "\n",
    "                        Y = denormalize_predictions(d_mean, d_std, Y)\n",
    "                        MSE = get_MSE(Y[0], target)\n",
    "                        # ESN = [a,Win,W,Wout,x_train]\n",
    "                        currentSetup = (resSize, WinScale, SRS, a, reg)\n",
    "                        gc.collect()\n",
    "\n",
    "                        #bbest_MSE = best_MSE\n",
    "\n",
    "                        best_setup, best_predictions, best_MSE = SolutionValidation(Y[0], MSE, best_setup, best_MSE,\n",
    "                                                                                    best_predictions, currentSetup)\n",
    "\n",
    "                        # if best_MSE != bbest_MSE:\n",
    "                        #     bWin = Win\n",
    "                        #     bW = W\n",
    "                        #     bx = x\n",
    "                        #     bX = X\n",
    "\n",
    "    # Once we have the best setup we use the test values\n",
    "    # We retrain de model with all the data, but for the train the last row of the state matrix shouldn't be used, this due we don't have\n",
    "    # the target value for this row (this is the last observation, it will be use for the prediction\n",
    "\n",
    "    #Wout = train_output_l2(inSize, best_setup[0], bX, Yt, best_setup[4])\n",
    "    # with the model re trained we made the predictions for test data\n",
    "    #Ytest = get_predictions(data, outSize, trainLen, testLen, best_setup[3], bWin, bW, Wout, bx)\n",
    "    #Ytest = denormalize_predictions(d_mean, d_std, Ytest)\n",
    "    stop = time.time()\n",
    "    duration = stop - start\n",
    "    # toCSVandPlot(folder,('best-' + time_stamp) ,best_setup,best_MSE,best_predictions,TS)\n",
    "    windows_explorer_path = 'C:\\Users\\sa-al\\PycharmProjects\\AnnEchoState\\Results'\n",
    "    # os.startfile(windows_explorer_path)    \n",
    "    return best_setup, best_MSE, best_predictions, duration\n",
    "    # return ESN,data"
   ]
  },
  {
   "cell_type": "heading",
   "metadata": {},
   "level": 1,
   "source": [
    "Test Full algorithm"
   ]
  },
  {
   "cell_type": "code",
   "execution_count": 28,
   "metadata": {},
   "outputs": [],
   "source": [
    "#ParameterList_0_3 = [[100,200,300,400,500],[1,1.2,1.5,1.8,2,2.5,3,3.5,4],[0.5,1,1.2,1.5,2,2.5,3,3.5],[0.1,0.2,0.3,0.4,0.5,0.6,0.7],[1e-13,1e-12,1e-11,1e-10,1e-9,1e-8,1e-5,1e-4,1e-3,1e-2,1e-1,1]]"
   ]
  },
  {
   "cell_type": "code",
   "execution_count": 254,
   "metadata": {},
   "outputs": [],
   "source": [
    "ParameterList = [[100,200,300,400],[0.5,1.2,1.5,1.8,2,2.5],[0.3,0.5,0.8,1,1.5],[0.1,0.2,0.3,0.4,0.5,0.6],[1e-12,1e-11,1e-10,1e-9,1e-8,1e-7,1e-6,1e-5,1e-4,1e-3,1e-2,1e-1,1e-0]]"
   ]
  },
  {
   "cell_type": "code",
   "execution_count": 86,
   "metadata": {},
   "outputs": [],
   "source": [
    "listPredTuple = list()\n",
    "#for x in range(5):\n",
    " #  bestPredtuple = get_best_setup(ParameterList)   \n",
    "  # listPredTuple.append(bestPredtuple)\n",
    "#writeIterations(listPredTuple)"
   ]
  },
  {
   "cell_type": "markdown",
   "metadata": {},
   "source": [
    "Aprox 1.- probar datos en mejor red"
   ]
  },
  {
   "cell_type": "code",
   "execution_count": 424,
   "metadata": {},
   "outputs": [],
   "source": [
    "ParameterList = [[100],[0.5,1.2,1.5,1.8,2,2.5],[0.3,0.5,0.8,1,1.5],[0.1,0.2,0.3,0.4,0.5,0.6],[1e-6,1e-5,1e-4,1e-3,1e-2,1e-1,1e-0,1e1]]"
   ]
  },
  {
   "cell_type": "code",
   "execution_count": 399,
   "metadata": {},
   "outputs": [],
   "source": [
    "predVal = list()\n",
    "for x in range(1):\n",
    "   bestPredtuple = get_best_ESN(ParameterList)  \n",
    "   predVal.append(bestPredtuple)\n",
    "writeIterations(predVal)"
   ]
  },
  {
   "cell_type": "code",
   "execution_count": 423,
   "metadata": {},
   "outputs": [],
   "source": [
    "predVal[0][1]"
   ]
  },
  {
   "cell_type": "code",
   "execution_count": 408,
   "metadata": {},
   "outputs": [],
   "source": [
    "predTest = list()\n",
    "data, target, d_mean, d_std = load_dataTest()\n",
    "\n",
    "#for make predictions to uknown data we have to fully train the model, for that we will use all the data except the last, because it will \n",
    "#be use as a target in the training, and we will use a second trainLen to choose the model\n",
    "trainLen = len(data) - 7\n",
    "\n",
    "#for choose the best model we have to evaluate in a certain number of predictios with know real values\n",
    "for solution in predVal:\n",
    "    setup = solution[0]    \n",
    "    testLen = 6\n",
    "    \n",
    "    initLen = 12\n",
    "    inSize = outSize = 1\n",
    "    #for solution in predVal:\n",
    "    #setup = solution[0]\n",
    "    resSize = setup[0]\n",
    "    WinScale = setup[1]\n",
    "    \n",
    "    Win = generate_win_matrix(inSize, resSize, WinScale)\n",
    "    SRS = setup[2]\n",
    "    \n",
    "    W = generate_w_matrix(resSize)\n",
    "    rhoW = get_spectral_radius(W)\n",
    "    W = scale_w(W, rhoW, SRS)\n",
    "    \n",
    "    #this will create the state matrix of 167 rows and a Yt vector with the last value\n",
    "    X, Yt = get_x_yt_matrix(data, inSize, resSize, trainLen, initLen)\n",
    "    \n",
    "    a = setup[3]\n",
    "    \n",
    "    #this will fill the state matrix with all the data   \n",
    "    x, X = get_activation_states(data, resSize, trainLen, initLen, Win, W, a, X)\n",
    "    \n",
    "    #using train and validation data to select best model\n",
    "    reg = setup[4]  #Train the output with the data to -6 observation in order to select the best model to make predictions\n",
    "    Wout = train_output_l2(inSize, resSize, X, Yt, reg)\n",
    "    #we get the predictions with training data\n",
    "    Y = get_predictions(data, outSize, trainLen, testLen, a, Win, W, Wout, x)\n",
    "    Y = denormalize_predictions(d_mean, d_std, Y)\n",
    "    MSE = get_MSE(Y[0], target)\n",
    "    test = (solution[0], Y[0], MSE)\n",
    "    predTest.append(test)\n",
    "gc.collect()"
   ]
  },
  {
   "cell_type": "code",
   "execution_count": 282,
   "metadata": {},
   "outputs": [],
   "source": [
    "writePredictions(predTest)"
   ]
  },
  {
   "cell_type": "code",
   "execution_count": 300,
   "metadata": {},
   "outputs": [
    {
     "data": {
      "text/plain": [
       "7"
      ]
     },
     "execution_count": 300,
     "output_type": "execute_result",
     "metadata": {}
    }
   ],
   "source": [
    "data, target, d_mean, d_std = load_dataTest()\n",
    "\n",
    "#for make predictions to uknown data we have to fully train the model, for that we will use all the data except the last, because it will \n",
    "#be use as a target in the training, and we will use a second trainLen to choose the model\n",
    "trainLen = len(data) - 7\n",
    "\n",
    "#for choose the best model we have to evaluate in a certain number of predictios with know real values\n",
    "testLen = 6\n",
    "\n",
    "initLen = 12\n",
    "inSize = outSize = 1\n",
    "\n",
    "resSize = setup[0]\n",
    "WinScale = setup[1]\n",
    "\n",
    "Win = generate_win_matrix(inSize, resSize, WinScale)\n",
    "SRS = setup[2]\n",
    "\n",
    "W = generate_w_matrix(resSize)\n",
    "rhoW = get_spectral_radius(W)\n",
    "W = scale_w(W, rhoW, SRS)\n",
    "\n",
    "#this will create the state matrix of 167 rows and a Yt vector with the last value\n",
    "X, Yt = get_x_yt_matrix(data, inSize, resSize, trainLen, initLen)\n",
    "\n",
    "a = setup[3]\n",
    "\n",
    "#this will fill the state matrix with all the data   \n",
    "x, X = get_activation_states(data, resSize, trainLen, initLen, Win, W, a, X)\n",
    "\n",
    "#using train and validation data to select best model\n",
    "reg = setup[4]   #Train the output with the data to -6 observation in order to select the best model to make predictions\n",
    "Wout = train_output_l2(inSize, resSize, X, Yt, reg)\n",
    "#we get the predictions with training data\n",
    "Y = get_predictions(data, outSize, trainLen, testLen, a, Win, W, Wout, x)\n",
    "Y = denormalize_predictions(d_mean, d_std, Y)\n",
    "MSE = get_MSE(Y[0], target)\n",
    "gc.collect()"
   ]
  },
  {
   "cell_type": "code",
   "execution_count": null,
   "metadata": {},
   "outputs": [],
   "source": [
    ""
   ]
  },
  {
   "cell_type": "code",
   "execution_count": 319,
   "metadata": {},
   "outputs": [
    {
     "data": {
      "text/plain": [
       "array([  1.44619471e+00,  -7.87161629e-01,   1.56261641e+00,\n         6.65975260e-02,  -1.41001774e+00,  -1.82137442e+00,\n        -1.56524668e+00,   3.80936124e-01,  -1.76898466e+00,\n         5.65270487e-01,   3.69293954e-01,  -3.38938073e-01,\n        -7.92982715e-01,  -3.35057349e-01,  -2.88488668e-01,\n         1.71008390e+00,   3.18844549e-01,   7.84531361e-01,\n         5.78853019e-01,   3.77055401e-01,   3.44069252e-01,\n         3.55711422e-01,   9.31998852e-01,   2.99440932e-01,\n         1.15125973e+00,   9.12595235e-01,   7.74829553e-01,\n        -1.29553640e+00,  -7.31085176e-02,   2.29587910e-01,\n        -5.58198947e-01,   3.74921003e-02,   1.06394345e+00,\n         8.29159681e-01,   6.56467488e-01,   1.06200309e+00,\n         2.39095683e-02,   7.80650638e-01,  -1.81167262e+00,\n        -7.87161629e-01,   7.63187383e-01,   5.34224700e-01,\n         1.08334707e+00,  -4.70882670e-01,   2.31159603e+00,\n        -6.80441735e-01,   1.07364526e+00,   8.73788000e-01,\n         9.57223554e-01,  -4.51479052e-01,   3.42128890e-01,\n         1.13767719e+00,  -2.09496543e+00,   2.41230081e-01,\n         7.16618701e-01,   6.73930744e-01,   5.73031934e-01,\n         7.36022318e-01,   1.36663988e+00,   9.08714511e-01,\n         5.71091573e-01,  -8.95821886e-01,   1.29096577e+00,\n        -7.69892410e-02,   1.36081879e+00,  -3.99089286e-01,\n        -5.52377862e-01,  -4.43717606e-01,  -2.78786860e-01,\n         4.99298189e-01,  -1.28777495e+00,  -3.97148924e-01,\n        -7.34771863e-01,  -1.62365157e-01,   1.09304887e+00,\n        -6.41634501e-01,   8.38861489e-01,  -1.81167262e+00,\n        -1.49539366e+00,  -1.09955987e+00,  -1.28001351e+00,\n        -3.70934638e+00,  -1.60424795e-01,   1.49858447e+00,\n        -2.68677575e+00,  -2.04451602e+00,   1.80322126e+00,\n         2.00113816e+00,   1.90994116e+00,  -2.16695285e-01,\n         1.88471646e+00,   5.34224700e-01,   5.14821083e-01,\n        -6.35813416e-01,   1.32007120e+00,   4.83775295e-01,\n        -1.28971531e+00,   5.47807232e-01,   7.55425936e-01,\n        -5.83423649e-01,  -6.29992330e-01,  -7.79400183e-01,\n         4.72133125e-01,  -6.24171245e-01,   7.65127744e-01,\n         1.05618200e+00,   4.35266252e-01,   6.68109658e-01,\n        -1.03552793e+00,  -2.26397093e-01,  -2.45994747e-02,\n        -4.94167010e-01,  -8.39551396e-01,   1.46152356e-01,\n        -5.42676053e-01,  -3.95208563e-01,  -1.45076534e+00,\n         1.29290613e+00,   1.13166207e-01,  -1.15796475e-01,\n        -6.53470707e-02,  -4.20627301e-02,   6.29302424e-01,\n        -2.74906136e-01,  -1.02582612e+00,   9.45581384e-01,\n        -1.31513405e-03,  -8.57014651e-01,   4.66312040e-01,\n         1.11225846e-01,  -1.46842263e-01,   6.23481339e-01,\n         4.52729508e-01,  -7.42533310e-01,  -2.65204328e-01,\n        -1.04328938e+00,  -5.56258585e-01,  -6.95964629e-01,\n        -1.42961539e-01,  -8.84179715e-01,   9.37625901e-02,\n         1.65555974e-01,   4.44968061e-01,  -1.41021178e-01,\n        -1.08403697e+00,  -1.24120627e+00,   5.94375913e-01,\n        -1.25498284e-01,   6.46571643e-02,   3.98399380e-01,\n         2.45110804e-01,   5.55568679e-01,  -5.19391713e-01,\n        -2.28337455e-01,  -6.06707990e-01,  -7.03726076e-01,\n        -1.23344482e+00,   1.28902541e+00,  -4.49538691e-01,\n         1.34510186e-01,  -1.93410944e-01])"
      ]
     },
     "execution_count": 319,
     "output_type": "execute_result",
     "metadata": {}
    }
   ],
   "source": [
    "X[1]"
   ]
  },
  {
   "cell_type": "code",
   "execution_count": 311,
   "metadata": {},
   "outputs": [
    {
     "data": {
      "text/plain": [
       "0.78000000000000003"
      ]
     },
     "execution_count": 311,
     "output_type": "execute_result",
     "metadata": {}
    }
   ],
   "source": [
    ""
   ]
  },
  {
   "cell_type": "code",
   "execution_count": 234,
   "metadata": {},
   "outputs": [
    {
     "data": {
      "text/plain": [
       "14.370320141241708"
      ]
     },
     "execution_count": 234,
     "output_type": "execute_result",
     "metadata": {}
    }
   ],
   "source": [
    "MSE"
   ]
  },
  {
   "cell_type": "markdown",
   "metadata": {},
   "source": [
    "Verificar si se tiene la ultima actualizacion de estados para el ultimo valor, es decir, para diciembre, ya que el trainlen es len(data)-1 y son en total 167 datos de 180, por lo que se ignoran 13, 12 de inicio y muy posiblemente el ultimo "
   ]
  },
  {
   "cell_type": "code",
   "execution_count": 166,
   "metadata": {},
   "outputs": [
    {
     "ename": "ValueError",
     "evalue": "negative dimensions are not allowed",
     "output_type": "error",
     "traceback": [
      "\u001b[1;31m---------------------------------------------------------------------------\u001b[0m\n\u001b[1;31mValueError\u001b[0m                                Traceback (most recent call last)",
      "\u001b[1;32m<ipython-input-166-7276a6434439>\u001b[0m in \u001b[0;36m<module>\u001b[1;34m()\u001b[0m\n\u001b[0;32m     19\u001b[0m \u001b[0mWinScale\u001b[0m \u001b[1;33m=\u001b[0m \u001b[0msetup\u001b[0m\u001b[1;33m[\u001b[0m\u001b[1;36m1\u001b[0m\u001b[1;33m]\u001b[0m\u001b[1;33m\u001b[0m\u001b[0m\n\u001b[0;32m     20\u001b[0m \u001b[1;33m\u001b[0m\u001b[0m\n\u001b[1;32m---> 21\u001b[1;33m \u001b[0mWin\u001b[0m \u001b[1;33m=\u001b[0m \u001b[0mgenerate_win_matrix\u001b[0m\u001b[1;33m(\u001b[0m\u001b[0minSize\u001b[0m\u001b[1;33m,\u001b[0m \u001b[0mresSize\u001b[0m\u001b[1;33m,\u001b[0m \u001b[0mWinScale\u001b[0m\u001b[1;33m)\u001b[0m\u001b[1;33m\u001b[0m\u001b[0m\n\u001b[0m\u001b[0;32m     22\u001b[0m \u001b[0mSRS\u001b[0m \u001b[1;33m=\u001b[0m \u001b[0msetup\u001b[0m\u001b[1;33m[\u001b[0m\u001b[1;36m2\u001b[0m\u001b[1;33m]\u001b[0m\u001b[1;33m\u001b[0m\u001b[0m\n\u001b[0;32m     23\u001b[0m \u001b[1;33m\u001b[0m\u001b[0m\n",
      "\u001b[1;32m<ipython-input-5-d12a61aad2ca>\u001b[0m in \u001b[0;36mgenerate_win_matrix\u001b[1;34m(inSize, resSize, scaleFactor)\u001b[0m\n\u001b[0;32m      8\u001b[0m     \u001b[1;33m:\u001b[0m\u001b[1;32mreturn\u001b[0m\u001b[1;33m:\u001b[0m \u001b[0mW\u001b[0m \u001b[1;32min\u001b[0m \u001b[0mMatrix\u001b[0m\u001b[1;33m\u001b[0m\u001b[0m\n\u001b[0;32m      9\u001b[0m     \"\"\"\n\u001b[1;32m---> 10\u001b[1;33m     \u001b[0mWin\u001b[0m \u001b[1;33m=\u001b[0m \u001b[1;33m(\u001b[0m\u001b[0mrandom\u001b[0m\u001b[1;33m.\u001b[0m\u001b[0muniform\u001b[0m\u001b[1;33m(\u001b[0m\u001b[0mlow\u001b[0m\u001b[1;33m=\u001b[0m\u001b[1;33m-\u001b[0m\u001b[1;36m1\u001b[0m\u001b[1;33m,\u001b[0m \u001b[0mhigh\u001b[0m\u001b[1;33m=\u001b[0m\u001b[1;36m1\u001b[0m\u001b[1;33m,\u001b[0m \u001b[0msize\u001b[0m\u001b[1;33m=\u001b[0m\u001b[1;33m(\u001b[0m\u001b[0mresSize\u001b[0m\u001b[1;33m,\u001b[0m \u001b[1;36m1\u001b[0m \u001b[1;33m+\u001b[0m \u001b[0minSize\u001b[0m\u001b[1;33m)\u001b[0m\u001b[1;33m)\u001b[0m\u001b[1;33m)\u001b[0m \u001b[1;33m*\u001b[0m \u001b[0mscaleFactor\u001b[0m\u001b[1;33m\u001b[0m\u001b[0m\n\u001b[0m\u001b[0;32m     11\u001b[0m     \u001b[1;32mreturn\u001b[0m \u001b[0mWin\u001b[0m\u001b[1;33m\u001b[0m\u001b[0m\n",
      "\u001b[1;32mC:\\Python27\\lib\\site-packages\\numpy\\random\\mtrand.pyd\u001b[0m in \u001b[0;36mmtrand.RandomState.uniform (numpy\\random\\mtrand\\mtrand.c:12727)\u001b[1;34m()\u001b[0m\n",
      "\u001b[1;32mC:\\Python27\\lib\\site-packages\\numpy\\random\\mtrand.pyd\u001b[0m in \u001b[0;36mmtrand.cont2_array_sc (numpy\\random\\mtrand\\mtrand.c:2815)\u001b[1;34m()\u001b[0m\n",
      "\u001b[1;31mValueError\u001b[0m: negative dimensions are not allowed"
     ]
    }
   ],
   "source": [
    "\"\"\"\n",
    "Function to test several ESN model for the best setup\n",
    ":param ParameterList: List of vectors for different values of the parameters in this order:\n",
    "resSize, inputScale, SpectralRadiusScale, leakingRate, l2penalty\n",
    "\"\"\"\n",
    "data, target, d_mean, d_std = load_data()\n",
    "\n",
    "#for make predictions to uknown data we have to fully train the model, for that we will use all the data except the last, because it will \n",
    "#be use as a target in the training, and we will use a second trainLen to choose the model\n",
    "trainLen = len(data) - 7\n",
    "\n",
    "#for choose the best model we have to evaluate in a certain number of predictios with know real values\n",
    "testLen = 6\n",
    "\n",
    "initLen = 12\n",
    "inSize = outSize = 1\n",
    "\n",
    "resSize = setup[0]\n",
    "WinScale = setup[1]\n",
    "\n",
    "Win = generate_win_matrix(inSize, resSize, WinScale)\n",
    "SRS = setup[2]\n",
    "\n",
    "W = generate_w_matrix(resSize)\n",
    "rhoW = get_spectral_radius(W)\n",
    "W = scale_w(W, rhoW, SRS)\n",
    "\n",
    "#this will create the state matrix of 167 rows and a Yt vector with the last value\n",
    "X, Yt = get_x_yt_matrix(data, inSize, resSize, trainLen, initLen)\n",
    "#we create a X state matrix and Yt for training data\n",
    "a = setup[3]\n",
    "\n",
    "#this will fill the state matrix with all the data   \n",
    "x, X = get_activation_states(data, resSize, trainLen, initLen, Win, W, a, X)\n",
    "\n",
    "#using train and validation data to select best model\n",
    "reg = setup[4]  #Train the output with the data to -6 observation in order to select the best model to make predictions\n",
    "Wout = train_output_l2(inSize, resSize, X_train, Yt_train, reg)\n",
    "#we get the predictions with training data\n",
    "Y = get_predictions(data, outSize, trainLen, train_testLen, a, Win, W, Wout, x_train)\n",
    "Y = denormalize_predictions(d_mean, d_std, Y)\n",
    "MSE = get_MSE(Y[0], target)\n",
    "gc.collect()"
   ]
  },
  {
   "cell_type": "code",
   "execution_count": 126,
   "metadata": {},
   "outputs": [
    {
     "data": {
      "text/plain": [
       "array([[ 0.03732527, -0.00682248,  0.02258167, -0.01547646,  0.00178117,\n        -0.01343747,  0.02259832,  0.01000192, -0.02660947,  0.01740042,\n         0.02657468,  0.00632588,  0.01687636,  0.00630895, -0.01707165,\n         0.03763292, -0.03332238, -0.02796827, -0.00497894,  0.01215788,\n         0.0389342 ,  0.02073109,  0.01601968,  0.023575  , -0.00964526,\n         0.01180235, -0.0113277 , -0.01029719,  0.0154769 , -0.01141954,\n         0.00284216,  0.02220816,  0.03795495, -0.02445965, -0.0144615 ,\n         0.0538265 , -0.0143274 , -0.00979557, -0.0148354 , -0.00943266,\n         0.00101309,  0.01242093,  0.01338527,  0.00532372,  0.02635308,\n         0.00346995,  0.01957565, -0.00654978,  0.04168019,  0.00169869,\n         0.04616836,  0.00071029,  0.02435967, -0.00409308, -0.03962271,\n        -0.03204535, -0.01056922, -0.03074471, -0.00040139,  0.01215734,\n         0.02137143, -0.02331153,  0.01969314, -0.0141678 ,  0.02437525,\n         0.00173053,  0.00814639,  0.01821481,  0.02179893,  0.00182776,\n         0.00070274,  0.01051081, -0.00971976, -0.0222709 ,  0.00440143,\n        -0.01250403, -0.0137444 ,  0.02580583,  0.02105993, -0.01584191,\n        -0.04327224, -0.00281001, -0.01321017,  0.01401   , -0.02191911,\n         0.01501443, -0.02765342, -0.01593904, -0.0082332 , -0.01569479,\n         0.03800766, -0.02330799, -0.01797291,  0.00588689,  0.00378958,\n         0.0296237 , -0.00336369, -0.00498317, -0.03824126,  0.01483122,\n        -0.02137793,  0.0274663 ]])"
      ]
     },
     "execution_count": 126,
     "output_type": "execute_result",
     "metadata": {}
    }
   ],
   "source": [
    "Wout"
   ]
  },
  {
   "cell_type": "code",
   "execution_count": 43,
   "metadata": {},
   "outputs": [
    {
     "data": {
      "text/plain": [
       "0.78000000000000003"
      ]
     },
     "execution_count": 43,
     "output_type": "execute_result",
     "metadata": {}
    }
   ],
   "source": [
    "#Wout = train_output_l2(inSize,best_setup[0],X,Yt,best_setup[4]) \n",
    "#with the model re trained we made the predictions for test data\n",
    "Ytest = get_predictions(data, outSize, trainLen, testLen, a, Win, W, Wout, x)\n",
    "Ytest = denormalize_predictions(d_mean, d_std, Ytest)"
   ]
  },
  {
   "cell_type": "code",
   "execution_count": 42,
   "metadata": {},
   "outputs": [],
   "source": [
    "#Train the output with the data to -6 observation in order to select the best model to make predictions\n",
    "#Wout = train_output_l2(inSize, resSize, X_train, Yt_train, reg)\n",
    "#we get the predictions with training data\n",
    "Y = get_predictions(data, outSize,trainLen, testLen, a, Win, W, Wout, x)\n",
    "\n",
    "Y = denormalize_predictions(d_mean, d_std, Y)"
   ]
  },
  {
   "cell_type": "code",
   "execution_count": 38,
   "metadata": {},
   "outputs": [
    {
     "data": {
      "text/plain": [
       "array([  -5.52162462,   -4.07464335,    4.62274111,    6.73633344,\n        -19.16466122,  254.55997074])"
      ]
     },
     "execution_count": 38,
     "output_type": "execute_result",
     "metadata": {}
    }
   ],
   "source": [
    "Y[0]"
   ]
  },
  {
   "cell_type": "code",
   "execution_count": 112,
   "metadata": {},
   "outputs": [
    {
     "data": {
      "text/plain": [
       "array([ -1.89018221e+00,  -2.46552070e+00,   2.34024111e-01,\n        -7.14257141e+00,   2.74749987e+01,   3.26825322e+03])"
      ]
     },
     "execution_count": 112,
     "output_type": "execute_result",
     "metadata": {}
    }
   ],
   "source": [
    "Y[0]"
   ]
  },
  {
   "cell_type": "code",
   "execution_count": 121,
   "metadata": {},
   "outputs": [
    {
     "data": {
      "text/plain": [
       "(102, 167)"
      ]
     },
     "execution_count": 121,
     "output_type": "execute_result",
     "metadata": {}
    }
   ],
   "source": [
    "X[:,:-1].shape"
   ]
  }
 ],
 "metadata": {},
 "nbformat": 4,
 "nbformat_minor": 0
}