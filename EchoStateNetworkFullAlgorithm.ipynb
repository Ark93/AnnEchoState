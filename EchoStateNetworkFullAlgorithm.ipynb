{
 "cells": [
  {
   "cell_type": "code",
   "execution_count": 0,
   "metadata": {},
   "outputs": [],
   "source": [
    "from numpy import *\n",
    "from matplotlib.pyplot import *\n",
    "import scipy.linalg\n",
    "import matplotlib.lines as mlines\n",
    "import matplotlib.pylab as pylab\n",
    "pylab.rcParams['figure.figsize']= 16,5\n",
    "from __future__ import division"
   ]
  },
  {
   "cell_type": "code",
   "execution_count": 2,
   "metadata": {},
   "outputs": [],
   "source": [
    "import pandas as pd\n",
    "import csv\n",
    "import os\n",
    "import time\n",
    "import gc"
   ]
  },
  {
   "cell_type": "heading",
   "metadata": {},
   "level": 1,
   "source": [
    "Function to load data"
   ]
  },
  {
   "cell_type": "code",
   "execution_count": 3,
   "metadata": {},
   "outputs": [],
   "source": [
    "def load_data():\n",
    "    \"\"\"\n",
    "Function to load data\n",
    "    :return: data vector, data target, data mean, data standar deviation \n",
    "    \"\"\"\n",
    "    data = np.genfromtxt('Resources/data.csv', delimiter=',')\n",
    "    d_mean = np.mean(data)\n",
    "    d_std = np.std(data)\n",
    "    target = data[-6:]\n",
    "    data = (data - d_mean) / d_std    \n",
    "    return data, target, d_mean, d_std"
   ]
  },
  {
   "cell_type": "code",
   "execution_count": 4,
   "metadata": {},
   "outputs": [],
   "source": [
    "def get_TS():\n",
    "    rawData = pd.read_csv('Resources/Consulta_Banxico.csv', sep=',', encoding='latin1', skiprows=15, skip_blank_lines=True)\n",
    "    Data = rawData.drop(rawData.index[:2])\n",
    "    Data = Data.reset_index(drop = True)\n",
    "    Data.columns = ['Fecha' , 'Tasa de crecimiento Mensual']\n",
    "    TS = pd.Series(Data['Tasa de crecimiento Mensual'].astype(float))\n",
    "    TS.index= Data['Fecha']\n",
    "    del Data\n",
    "    return TS"
   ]
  },
  {
   "cell_type": "heading",
   "metadata": {},
   "level": 1,
   "source": [
    "Generate Matrix functions"
   ]
  },
  {
   "cell_type": "code",
   "execution_count": 5,
   "metadata": {},
   "outputs": [],
   "source": [
    "def generate_win_matrix(inSize, resSize, scaleFactor=1):\n",
    "    \"\"\"\n",
    "Function to generate W in matrix with a uniform distribution between [-1,1]\n",
    "in other Function the uniform distribution can be moved to any range\n",
    "    :param inSize: number of inputs without interceptor\n",
    "    :param resSize: size of reservoir\n",
    "    :param scaleFactor: Scale Factor for the matrix by default 1\n",
    "    :return: W in Matrix\n",
    "    \"\"\"\n",
    "    Win = (random.uniform(low=-1, high=1, size=(resSize, 1 + inSize))) * scaleFactor\n",
    "    return Win"
   ]
  },
  {
   "cell_type": "code",
   "execution_count": 6,
   "metadata": {},
   "outputs": [],
   "source": [
    "def generate_w_matrix(resSize):\n",
    "    \"\"\"\n",
    "Function to generate W matrix with a uniform distribution between [-1,1]\n",
    " In other function the uniform distribution can be moved to any range\n",
    "    :param resSize: size of reservoir\n",
    "    :return: W matrix\n",
    "    \"\"\"\n",
    "    W = random.uniform(low=-1, high= 1, size = (resSize,resSize))\n",
    "    return  W"
   ]
  },
  {
   "cell_type": "code",
   "execution_count": 7,
   "metadata": {},
   "outputs": [],
   "source": [
    "def get_spectral_radius(W):\n",
    "    \"\"\"\n",
    "Function to get the spectral radius of W matrix\n",
    "    :param W: W matrix\n",
    "    :return: spectral radius\n",
    "    \"\"\"\n",
    "    rhoW = max(abs(linalg.eig(W)[0]))\n",
    "    return  rhoW"
   ]
  },
  {
   "cell_type": "code",
   "execution_count": 8,
   "metadata": {},
   "outputs": [],
   "source": [
    "def scale_w(W,rhoW, SRS = 2):\n",
    "    \"\"\"\n",
    "Function to apply spectral radius scale factor\n",
    "    :param W: W matrix\n",
    "    :param rhoW: spectral radius\n",
    "    :param SRS: spectral radius scale factor by default 1\n",
    "    :return: W\n",
    "    \"\"\"\n",
    "    W*= (SRS/ rhoW)\n",
    "    return W"
   ]
  },
  {
   "cell_type": "code",
   "execution_count": 9,
   "metadata": {},
   "outputs": [],
   "source": [
    "def get_x_yt_matrix(data,inSize, resSize,trainLen,initLen):\n",
    "    \"\"\"\n",
    "Function to get X and Yt Matrix to save activation states and prediction targets\n",
    "    :type data: normalized data\n",
    "    :param inSize: size of the input \n",
    "    :param resSize: size of reservoir\n",
    "    :param trainLen: length of train data\n",
    "    :param initLen:  length of initial data\n",
    "    :return: X, Yt\n",
    "    \"\"\"\n",
    "    X = zeros((1+inSize+resSize,trainLen-initLen))\n",
    "    Yt = data[None,initLen+1:trainLen+1]\n",
    "    return X,Yt"
   ]
  },
  {
   "cell_type": "heading",
   "metadata": {},
   "level": 1,
   "source": [
    "ESN train and activation Functions"
   ]
  },
  {
   "cell_type": "code",
   "execution_count": 10,
   "metadata": {},
   "outputs": [],
   "source": [
    "def get_activation_states(data,resSize,trainLen,initLen,Win,W,a,X):\n",
    "    \"\"\"\n",
    "Function to get the activations states from the reservoir\n",
    "    :param data: train data\n",
    "    :param resSize: reservoir size\n",
    "    :param trainLen: length of train data\n",
    "    :param initLen: inital data to be ignored\n",
    "    :param Win: W in Matrix\n",
    "    :param W: W matrix\n",
    "    :param a: leaking rate\n",
    "    :param X: matrix of Activations per input\n",
    "    :return: last activation vector, matrix of activations X\n",
    "    \"\"\"\n",
    "    x = zeros((resSize,1))\n",
    "    for t in range(trainLen):\n",
    "        u = data[t]\n",
    "        x_u = tanh( dot( Win, vstack((1,u)) ) + dot( W, x ) )\n",
    "        x = (1-a)*x + a*x_u \n",
    "        if t >= initLen:\n",
    "            X[:,t-initLen] = vstack((1,u,x))[:,0]\n",
    "    return x,X"
   ]
  },
  {
   "cell_type": "code",
   "execution_count": 11,
   "metadata": {},
   "outputs": [],
   "source": [
    "def train_output_l2(inSize,resSize,X,Yt,reg = 1e-8):\n",
    "    \"\"\"\n",
    "Function to train readout with ridge regression to address overfitting\n",
    "    :param inSize: size of input\n",
    "    :param resSize: reservoir size\n",
    "    :param reg: penalization parameter\n",
    "    :param X: Matrix of activations\n",
    "    :param Yt: target values\n",
    "    :return Wout: weights from reservoir and input to output layer\n",
    "    \"\"\"\n",
    "    X_T = X.T \n",
    "    Wout = dot( dot(Yt,X_T), linalg.inv( dot(X,X_T) + reg*eye(1+inSize+resSize) ) )\n",
    "    return Wout"
   ]
  },
  {
   "cell_type": "code",
   "execution_count": 12,
   "metadata": {},
   "outputs": [],
   "source": [
    "def get_predictions(data,outSize,trainLen,testLen,a,Win,W,Wout,x):\n",
    "    \"\"\"\n",
    "Function to get the predictions of the normalized data\n",
    "    :param data: train data\n",
    "    :param outSize: output size\n",
    "    :param trainLen: length of train data\n",
    "    :param testLen: length of test data\n",
    "    :param a: leaking rate\n",
    "    :param Win: W in Matrix\n",
    "    :param W: W matrix\n",
    "    :param Wout: W out Matrix\n",
    "    :param x: last activations states\n",
    "    :return: vector of predictions\n",
    "    \"\"\"\n",
    "    Y = zeros((outSize,testLen))\n",
    "    u = data[trainLen]\n",
    "    for t in range(testLen):\n",
    "        x = (1-a)*x + a*tanh( dot( Win, vstack((1,u)) ) + dot( W, x ) )\n",
    "        y = dot( Wout, vstack((1,u,x)) )\n",
    "        Y[:,t] = y\n",
    "        # generative mode, this take the prediction and use it to make other prediction:\n",
    "        u = y\n",
    "        ## this would be a predictive mode, this made a prediccion and save it, then use the true value to make a new prediction:\n",
    "        #u = data[trainLen+t+1]\n",
    "    return Y"
   ]
  },
  {
   "cell_type": "code",
   "execution_count": 13,
   "metadata": {},
   "outputs": [],
   "source": [
    "def denormalize_predictions(d_mean,d_std,Y):\n",
    "    \"\"\"\n",
    "Function to denormalize predictions\n",
    "    :param d_mean: data mean\n",
    "    :param d_std: data standard deviation\n",
    "    :param Y: predictions\n",
    "    :return: denormalized predictions\n",
    "    \"\"\"\n",
    "    Y1 = (Y * d_std) + d_mean\n",
    "    return Y1"
   ]
  },
  {
   "cell_type": "heading",
   "metadata": {},
   "level": 1,
   "source": [
    "Evaluation Function"
   ]
  },
  {
   "cell_type": "code",
   "execution_count": 14,
   "metadata": {},
   "outputs": [],
   "source": [
    "def get_MSE(predictions, target):\n",
    "    \"\"\"\n",
    "    Function to get MSE from diference between predictions and real value (ouptuts)\n",
    "    :param predictions: predictions made by ffnn\n",
    "    :param target: true values from output values\n",
    "    :return: MSE\n",
    "    \"\"\"\n",
    "    return  (np.sum((target - predictions)**2))/len(predictions)"
   ]
  },
  {
   "cell_type": "heading",
   "metadata": {},
   "level": 1,
   "source": [
    "Function to validate ESN model"
   ]
  },
  {
   "cell_type": "code",
   "execution_count": 15,
   "metadata": {},
   "outputs": [],
   "source": [
    "def SolutionValidation(Predictions,MSE,bestESN,bestMSE,bestPredictions,currentSetup):\n",
    "    \"\"\"\n",
    "Function to validate ESN model\n",
    "    :param Predictions: Prediction of current ESN\n",
    "    :param MSE: MSE of current ESN\n",
    "    :param bestESN: best setup of ESN so far\n",
    "    :param bestMSE: MSE of best ESN so far\n",
    "    :param bestPredictions: predictions of best ESN so far\n",
    "    :param currentSetup: current ESN setup\n",
    "    :return: bestESN, bestPredictions, bestMSE\n",
    "    \"\"\"\n",
    "    if((float)(MSE) < (bestMSE)):\n",
    "        bestESN = currentSetup\n",
    "        bestMSE = MSE\n",
    "        bestPredictions = Predictions\n",
    "    return bestESN,bestPredictions,bestMSE"
   ]
  },
  {
   "cell_type": "code",
   "execution_count": 16,
   "metadata": {},
   "outputs": [],
   "source": [
    "def LocalSolutionValidation(Predictions,MSE,listl2_pen,bestESN,bestMSE,bestPredictions,best_listl2_pen,currentSetup):\n",
    "    \"\"\"\n",
    "Function to validate Local ESN model\n",
    "    :param Predictions: Prediction of current ESN\n",
    "    :param MSE: MSE of current ESN\n",
    "    :param bestESN: best setup of ESN so far\n",
    "    :param bestMSE: MSE of best ESN so far\n",
    "    :param bestPredictions: predictions of best ESN so far\n",
    "    :param currentSetup: current ESN setup\n",
    "    :return: bestESN, bestPredictions, bestMSE\n",
    "    \"\"\"\n",
    "    if((float)(MSE) < (bestMSE)):\n",
    "        bestESN = currentSetup\n",
    "        bestMSE = MSE\n",
    "        bestPredictions = Predictions\n",
    "        best_listl2_pen = listl2_pen\n",
    "    return bestESN,bestPredictions,bestMSE, best_listl2_pen"
   ]
  },
  {
   "cell_type": "heading",
   "metadata": {},
   "level": 1,
   "source": [
    "Function to init 'best' variables"
   ]
  },
  {
   "cell_type": "code",
   "execution_count": 17,
   "metadata": {},
   "outputs": [],
   "source": [
    "def init_best(numl2):\n",
    "    best_setup = (0,0,0,0,0)\n",
    "    best_mse = 100000\n",
    "    best_pred = (0,0,0,0,0,0)\n",
    "    list_l2pen = zeros((numl2,7))\n",
    "    return best_setup,best_mse,best_pred,list_l2pen"
   ]
  },
  {
   "cell_type": "heading",
   "metadata": {},
   "level": 1,
   "source": [
    "Save and Plot Functions"
   ]
  },
  {
   "cell_type": "code",
   "execution_count": 18,
   "metadata": {},
   "outputs": [],
   "source": [
    "def toCSVandPlot(folder,name,esn,mse,pred,TS):\n",
    "    if not os.path.isdir(folder):\n",
    "        os.makedirs(folder)\n",
    "    with open(folder + name + '.csv','w+') as csvfile:\n",
    "        spamwriter= csv.writer(csvfile,delimiter=',')\n",
    "        spamwriter.writerow(['ESN configuration: ',esn])\n",
    "        spamwriter.writerow(['predictions'])\n",
    "        spamwriter.writerow(pred)\n",
    "        spamwriter.writerow(['MSE:' , mse])\n",
    "        csvfile.close()        \n",
    "    #plot_Solutions(folder,name,pred,TS)\n",
    "    gc.collect()"
   ]
  },
  {
   "cell_type": "code",
   "execution_count": 19,
   "metadata": {},
   "outputs": [],
   "source": [
    "def toCSV(folder,name,b_esn,mse,pred,c_esn,list,TS):\n",
    "    if not os.path.isdir(folder):\n",
    "        os.makedirs(folder) \n",
    "    with open(folder + name + '.csv','w+') as csvfile:\n",
    "        spamwriter= csv.writer(csvfile,delimiter=',')\n",
    "        spamwriter.writerow(['ESN configuration: ',b_esn])\n",
    "        spamwriter.writerow(['predictions'])\n",
    "        spamwriter.writerow(pred)\n",
    "        spamwriter.writerow(['MSE:' , mse])\n",
    "        spamwriter.writerow(['Current Setup w_o l2 penalty',c_esn])\n",
    "        spamwriter.writerow(['Predictions'])\n",
    "        spamwriter.writerows(list)\n",
    "        csvfile.close()        \n",
    "    #plot_Solutions2(folder,name,pred,list,TS)\n",
    "    gc.collect()"
   ]
  },
  {
   "cell_type": "code",
   "execution_count": 20,
   "metadata": {},
   "outputs": [],
   "source": [
    "def writeIterations(listPredTuple):\n",
    "    folder = \"Results/iteraciones\"  +\"/\" \n",
    "    with open(folder + 'predicions' + '.csv','w+') as csvfile:\n",
    "        spamwriter= csv.writer(csvfile,delimiter=',')\n",
    "        spamwriter.writerow(['Param1','Param2','Param3','Param4','Param5','Pred1','Pred2','Pred3','Pred4','Pred5','Pred6','MSE','Time'])\n",
    "        for x in listPredTuple:\n",
    "                    y = np.append(np.append(x[0],x[2]),np.append(x[1],x[3]))\n",
    "                    spamwriter.writerow(y)\n",
    "    csvfile.close()"
   ]
  },
  {
   "cell_type": "code",
   "execution_count": 21,
   "metadata": {},
   "outputs": [],
   "source": [
    "def plot_Solutions(folder,name,Pred,TS):\n",
    "    \"\"\"\n",
    "    Function to Plot List of predictions, mean predictions and Original Time Serie\n",
    "    :param folder: path of file\n",
    "    :param name: name of file\n",
    "    :param Pred: predictions\n",
    "    :param TS: Original Time Serie\n",
    "    :return: matplotlib fig\n",
    "    \"\"\"\n",
    "    fig = figure()\n",
    "    TSValOutputs = TS[len(TS)-7:len(TS)].copy()\n",
    "    TSValOutputs.plot(style= 'ko-')\n",
    "    \n",
    "    TSPred = pd.Series(Pred.astype(float), index = TS.index[len(TS)-12:len(TS)-6])\n",
    "    TSPrediction = TS[len(TS)-7:len(TS)].copy()\n",
    "    TSPrediction[1:] = TSPred\n",
    "    TSPrediction.plot(style= 'bo-')\n",
    "    lineMean = mlines.Line2D([],[],color='blue', marker='o',label = 'Prediction')\n",
    "    lineVal = mlines.Line2D([],[],color='black', marker='o',label = 'True Values')\n",
    "    legend(handles = [lineMean,lineVal],loc= 1)\n",
    "    fig.savefig(folder + name + \".png\")\n",
    "    fig.clf()\n",
    "    del fig\n",
    "    gc.collect()\n",
    "    return None"
   ]
  },
  {
   "cell_type": "code",
   "execution_count": 22,
   "metadata": {},
   "outputs": [],
   "source": [
    "def plot_Solutions2(folder,name,Pred,list,TS):\n",
    "    \"\"\"\n",
    "    Function to Plot List of predictions, mean predictions and Original Time Serie\n",
    "    :param folder: path of file\n",
    "    :param name: name of file\n",
    "    :param Pred: predictions\n",
    "    :param TS: Original Time Serie\n",
    "    :return: matplotlib fig\n",
    "    \"\"\"\n",
    "    fig = figure()\n",
    "    TSValOutputs = TS[len(TS)-7:len(TS)].copy()\n",
    "    TSValOutputs.plot(style= 'ko-')\n",
    "    \n",
    "    TSPred = pd.Series(Pred.astype(float), index = TS.index[len(TS)-12:len(TS)-6])\n",
    "    TSPrediction = TS[len(TS)-7:len(TS)].copy()\n",
    "    TSPrediction[1:] = TSPred\n",
    "    TSPrediction.plot(style= 'bo-')\n",
    "    lineMean = mlines.Line2D([],[],color='blue', marker='o',label = 'Prediction')\n",
    "    lineVal = mlines.Line2D([],[],color='black', marker='o',label = 'True Values')\n",
    "    legend(handles = [lineMean,lineVal],loc= 1)\n",
    "    fig.savefig(folder + name + \".png\")\n",
    "    fig.clf()\n",
    "    del fig\n",
    "    gc.collect()\n",
    "    return None"
   ]
  },
  {
   "cell_type": "heading",
   "metadata": {},
   "level": 1,
   "source": [
    "Iteration function"
   ]
  },
  {
   "cell_type": "code",
   "execution_count": 23,
   "metadata": {},
   "outputs": [],
   "source": [
    "def get_denormilze_prediction(data,d_mean,d_std,outSize,trainLen,testLen,a,Win,W,Wout,x):\n",
    "    Y = get_predictions(data,outSize,trainLen,testLen,a,Win,W,Wout,x)\n",
    "    Y = denormalize_predictions(d_mean,d_std,Y)\n",
    "    return Y"
   ]
  },
  {
   "cell_type": "code",
   "execution_count": 24,
   "metadata": {},
   "outputs": [],
   "source": [
    "def init_local_best(numl2):\n",
    "    local_best_setup = (0,0,0,0,0)\n",
    "    local_best_mse = 100000\n",
    "    local_best_pred = (0,0,0,0,0,0)\n",
    "    local_list_l2pen = zeros((numl2,7))\n",
    "    return local_best_setup,local_best_mse,local_best_pred,local_list_l2pen"
   ]
  },
  {
   "cell_type": "heading",
   "metadata": {},
   "level": 1,
   "source": [
    "Full algorithm for validation"
   ]
  },
  {
   "cell_type": "code",
   "execution_count": 25,
   "metadata": {},
   "outputs": [],
   "source": [
    "def get_best_setup2(ParameterList):\n",
    "    \"\"\"\n",
    "Function to test several ESN model for the best setup\n",
    "    :param ParameterList: List of vectors for different values of the parameters in this order:\n",
    "    resSize, inputScale, SpectralRadiusScale, leakingRate, l2penalty\n",
    "    \"\"\"    \n",
    "    start = time.time()\n",
    "    random.seed()\n",
    "    data,target,d_mean,d_std = load_data()\n",
    "    trainLen =len(data) - 6\n",
    "    testLen = 6\n",
    "    initLen = 12\n",
    "    inSize = outSize = 1\n",
    "    TS = get_TS()\n",
    "    time_stamp = time.strftime(\"%d-%m\") + \"_\" + time.strftime(\"%H-%M\")\n",
    "    folder = \"Results/iteraciones\"  +\"/\" \n",
    "    best_setup,best_MSE,best_predictions,listl2_pen = init_best(len(ParameterList[4]))\n",
    "    param1 = 0   \n",
    "    for resSize in ParameterList[0]:\n",
    "       # name1 = ((str)(param1) + '-')\n",
    "        param1 += 1\n",
    "        param2 = 0\n",
    "        for WinScale in ParameterList[1]:\n",
    "            #name2 = name1 + (str)(param2) + '-'\n",
    "            param2 += 1\n",
    "            param3 = 0\n",
    "            Win = generate_win_matrix(inSize,resSize,WinScale)\n",
    "            for SRS in ParameterList[2]:\n",
    "                #name3 = name2 + (str)(param3) + '-'\n",
    "                param3 += 1\n",
    "                param4 = 0\n",
    "                W = generate_w_matrix(resSize)            \n",
    "                rhoW = get_spectral_radius(W)\n",
    "                W = scale_w(W,rhoW,SRS)\n",
    "                X,Yt = get_x_yt_matrix(data,inSize,resSize,trainLen,initLen)\n",
    "                for a in ParameterList[3]:\n",
    "                    #name4 = name3 + (str)(param4) + '-'\n",
    "                    param4 += 1\n",
    "                    param5 = 0\n",
    "                    x,X = get_activation_states(data,resSize,trainLen,initLen,Win,W,a,X)\n",
    "                    for reg in ParameterList[4]:\n",
    "                        #name5 = name4 + (str)(param5)\n",
    "                        param5 += 1\n",
    "                        Wout = train_output_l2(inSize,resSize,X,Yt,reg)\n",
    "                        Y = get_predictions(data,outSize,trainLen,testLen,a,Win,W,Wout,x)\n",
    "                        Y = denormalize_predictions(d_mean,d_std,Y)\n",
    "                        MSE = get_MSE(Y[0],target)\n",
    "                        listl2_pen[param5-1]= (np.append(Y,MSE))\n",
    "                        #add list of results for l2 penalty\n",
    "                        currentSetup = (resSize,WinScale,SRS,a,reg)\n",
    "                        gc.collect()\n",
    "                        best_setup,best_predictions,best_MSE = SolutionValidation(Y[0],MSE,best_setup,best_MSE,best_predictions,currentSetup)\n",
    "                  # toCSV(folder,name5,best_setup,best_MSE,best_predictions,currentSetup[:-1],listl2_pen,TS)\n",
    "    stop = time.time()\n",
    "    duration = stop - start\n",
    "    toCSVandPlot(folder,('best-' + time_stamp) ,best_setup,best_MSE,best_predictions,TS)\n",
    "    windows_explorer_path =  'C:\\Users\\sa-al\\PycharmProjects\\AnnEchoState\\Results' \n",
    "    #os.startfile(windows_explorer_path)    \n",
    "    return best_setup,best_MSE,best_predictions,duration"
   ]
  },
  {
   "cell_type": "heading",
   "metadata": {},
   "level": 1,
   "source": [
    "Test Full algorithm"
   ]
  },
  {
   "cell_type": "code",
   "execution_count": 26,
   "metadata": {},
   "outputs": [],
   "source": [
    "#ParameterList_0_3 = [[100,200,300,400,500],[1,1.2,1.5,1.8,2,2.5,3,3.5,4],[0.5,1,1.2,1.5,2,2.5,3,3.5],[0.1,0.2,0.3,0.4,0.5,0.6,0.7],[1e-13,1e-12,1e-11,1e-10,1e-9,1e-8,1e-5,1e-4,1e-3,1e-2,1e-1,1]]"
   ]
  },
  {
   "cell_type": "code",
   "execution_count": 27,
   "metadata": {},
   "outputs": [],
   "source": [
    "ParameterList = [[100,200,300,400],[1.2,1.5,1.8,2,2.5,3,3.5,4],[0.5,1,1.5,2,2.5,3,3.5],[0.1,0.2,0.3,0.4,0.5,0.6],[1e-12,1e-11,1e-10,1e-9,1e-8,1e-7,1e-6,1e-5,1e-4,1e-3,1e-2,1e-1,1e-0]]"
   ]
  },
  {
   "cell_type": "code",
   "execution_count": 55,
   "metadata": {},
   "outputs": [
    {
     "ename": "KeyboardInterrupt",
     "evalue": "",
     "output_type": "error",
     "traceback": [
      "\u001b[1;31m---------------------------------------------------------------------------\u001b[0m\n\u001b[1;31mKeyboardInterrupt\u001b[0m                         Traceback (most recent call last)",
      "\u001b[1;32m<ipython-input-55-41c9b8d73075>\u001b[0m in \u001b[0;36m<module>\u001b[1;34m()\u001b[0m\n\u001b[0;32m      1\u001b[0m \u001b[0mlistPredTuple\u001b[0m \u001b[1;33m=\u001b[0m \u001b[0mlist\u001b[0m\u001b[1;33m(\u001b[0m\u001b[1;33m)\u001b[0m\u001b[1;33m\u001b[0m\u001b[0m\n\u001b[0;32m      2\u001b[0m \u001b[1;32mfor\u001b[0m \u001b[0mx\u001b[0m \u001b[1;32min\u001b[0m \u001b[0mrange\u001b[0m\u001b[1;33m(\u001b[0m\u001b[1;36m50\u001b[0m\u001b[1;33m)\u001b[0m\u001b[1;33m:\u001b[0m\u001b[1;33m\u001b[0m\u001b[0m\n\u001b[1;32m----> 3\u001b[1;33m    \u001b[0mbestPredtuple\u001b[0m \u001b[1;33m=\u001b[0m \u001b[0mget_best_setup2\u001b[0m\u001b[1;33m(\u001b[0m\u001b[0mParameterList\u001b[0m\u001b[1;33m)\u001b[0m\u001b[1;33m\u001b[0m\u001b[0m\n\u001b[0m\u001b[0;32m      4\u001b[0m    \u001b[0mlistPredTuple\u001b[0m\u001b[1;33m.\u001b[0m\u001b[0mappend\u001b[0m\u001b[1;33m(\u001b[0m\u001b[0mbestPredtuple\u001b[0m\u001b[1;33m)\u001b[0m\u001b[1;33m\u001b[0m\u001b[0m\n\u001b[0;32m      5\u001b[0m \u001b[0mwriteIterations\u001b[0m\u001b[1;33m(\u001b[0m\u001b[0mlistPredTuple\u001b[0m\u001b[1;33m)\u001b[0m\u001b[1;33m\u001b[0m\u001b[0m\n",
      "\u001b[1;32m<ipython-input-48-cd0d1ff065b2>\u001b[0m in \u001b[0;36mget_best_setup2\u001b[1;34m(ParameterList)\u001b[0m\n\u001b[0;32m     42\u001b[0m                         \u001b[1;31m#name5 = name4 + (str)(param5)\u001b[0m\u001b[1;33m\u001b[0m\u001b[1;33m\u001b[0m\u001b[0m\n\u001b[0;32m     43\u001b[0m                         \u001b[0mparam5\u001b[0m \u001b[1;33m+=\u001b[0m \u001b[1;36m1\u001b[0m\u001b[1;33m\u001b[0m\u001b[0m\n\u001b[1;32m---> 44\u001b[1;33m                         \u001b[0mWout\u001b[0m \u001b[1;33m=\u001b[0m \u001b[0mtrain_output_l2\u001b[0m\u001b[1;33m(\u001b[0m\u001b[0minSize\u001b[0m\u001b[1;33m,\u001b[0m\u001b[0mresSize\u001b[0m\u001b[1;33m,\u001b[0m\u001b[0mX\u001b[0m\u001b[1;33m,\u001b[0m\u001b[0mYt\u001b[0m\u001b[1;33m,\u001b[0m\u001b[0mreg\u001b[0m\u001b[1;33m)\u001b[0m\u001b[1;33m\u001b[0m\u001b[0m\n\u001b[0m\u001b[0;32m     45\u001b[0m                         \u001b[0mY\u001b[0m \u001b[1;33m=\u001b[0m \u001b[0mget_predictions\u001b[0m\u001b[1;33m(\u001b[0m\u001b[0mdata\u001b[0m\u001b[1;33m,\u001b[0m\u001b[0moutSize\u001b[0m\u001b[1;33m,\u001b[0m\u001b[0mtrainLen\u001b[0m\u001b[1;33m,\u001b[0m\u001b[0mtestLen\u001b[0m\u001b[1;33m,\u001b[0m\u001b[0ma\u001b[0m\u001b[1;33m,\u001b[0m\u001b[0mWin\u001b[0m\u001b[1;33m,\u001b[0m\u001b[0mW\u001b[0m\u001b[1;33m,\u001b[0m\u001b[0mWout\u001b[0m\u001b[1;33m,\u001b[0m\u001b[0mx\u001b[0m\u001b[1;33m)\u001b[0m\u001b[1;33m\u001b[0m\u001b[0m\n\u001b[0;32m     46\u001b[0m                         \u001b[0mY\u001b[0m \u001b[1;33m=\u001b[0m \u001b[0mdenormalize_predictions\u001b[0m\u001b[1;33m(\u001b[0m\u001b[0md_mean\u001b[0m\u001b[1;33m,\u001b[0m\u001b[0md_std\u001b[0m\u001b[1;33m,\u001b[0m\u001b[0mY\u001b[0m\u001b[1;33m)\u001b[0m\u001b[1;33m\u001b[0m\u001b[0m\n",
      "\u001b[1;32m<ipython-input-14-a603453569b7>\u001b[0m in \u001b[0;36mtrain_output_l2\u001b[1;34m(inSize, resSize, X, Yt, reg)\u001b[0m\n\u001b[0;32m     10\u001b[0m     \"\"\"\n\u001b[0;32m     11\u001b[0m     \u001b[0mX_T\u001b[0m \u001b[1;33m=\u001b[0m \u001b[0mX\u001b[0m\u001b[1;33m.\u001b[0m\u001b[0mT\u001b[0m\u001b[1;33m\u001b[0m\u001b[0m\n\u001b[1;32m---> 12\u001b[1;33m     \u001b[0mWout\u001b[0m \u001b[1;33m=\u001b[0m \u001b[0mdot\u001b[0m\u001b[1;33m(\u001b[0m \u001b[0mdot\u001b[0m\u001b[1;33m(\u001b[0m\u001b[0mYt\u001b[0m\u001b[1;33m,\u001b[0m\u001b[0mX_T\u001b[0m\u001b[1;33m)\u001b[0m\u001b[1;33m,\u001b[0m \u001b[0mlinalg\u001b[0m\u001b[1;33m.\u001b[0m\u001b[0minv\u001b[0m\u001b[1;33m(\u001b[0m \u001b[0mdot\u001b[0m\u001b[1;33m(\u001b[0m\u001b[0mX\u001b[0m\u001b[1;33m,\u001b[0m\u001b[0mX_T\u001b[0m\u001b[1;33m)\u001b[0m \u001b[1;33m+\u001b[0m \u001b[0mreg\u001b[0m\u001b[1;33m*\u001b[0m\u001b[0meye\u001b[0m\u001b[1;33m(\u001b[0m\u001b[1;36m1\u001b[0m\u001b[1;33m+\u001b[0m\u001b[0minSize\u001b[0m\u001b[1;33m+\u001b[0m\u001b[0mresSize\u001b[0m\u001b[1;33m)\u001b[0m \u001b[1;33m)\u001b[0m \u001b[1;33m)\u001b[0m\u001b[1;33m\u001b[0m\u001b[0m\n\u001b[0m\u001b[0;32m     13\u001b[0m     \u001b[1;32mreturn\u001b[0m \u001b[0mWout\u001b[0m\u001b[1;33m\u001b[0m\u001b[0m\n",
      "\u001b[1;31mKeyboardInterrupt\u001b[0m: "
     ]
    }
   ],
   "source": [
    "listPredTuple = list()\n",
    "for x in range(50):\n",
    "   bestPredtuple = get_best_setup2(ParameterList)   \n",
    "   listPredTuple.append(bestPredtuple)\n",
    "writeIterations(listPredTuple)"
   ]
  },
  {
   "cell_type": "code",
   "execution_count": null,
   "metadata": {},
   "outputs": [],
   "source": [
    ""
   ]
  }
 ],
 "metadata": {},
 "nbformat": 4,
 "nbformat_minor": 0
}