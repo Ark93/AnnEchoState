{
 "cells": [
  {
   "cell_type": "code",
   "execution_count": 78,
   "metadata": {
    "collapsed": true
   },
   "outputs": [],
   "source": [
    "from __future__ import division\n",
    "from numpy import *\n",
    "from matplotlib.pyplot import *\n",
    "import scipy.linalg\n",
    "import matplotlib.lines as mlines\n",
    "import matplotlib.pylab as pylab\n",
    "pylab.rcParams['figure.figsize']= 16,5\n",
    "%matplotlib inline"
   ]
  },
  {
   "cell_type": "code",
   "execution_count": 27,
   "metadata": {
    "collapsed": true
   },
   "outputs": [],
   "source": [
    "import pandas as pd\n",
    "import csv\n",
    "import os\n",
    "import time\n",
    "import gc"
   ]
  },
  {
   "cell_type": "markdown",
   "metadata": {},
   "source": [
    "Function To Load Data for Validation"
   ]
  },
  {
   "cell_type": "code",
   "execution_count": 28,
   "metadata": {
    "collapsed": false
   },
   "outputs": [],
   "source": [
    "def load_dataValidation(val_len=12,lags=0):\n",
    "    \"\"\"\n",
    "Function to load data in general for this Algorithm\n",
    "    :param val_len: lenght of the validation array data, by default are 12 values\n",
    "    :param lags: count of lag values to set the last value on the validation period, by default is 0 \n",
    "    :return: data,val_data,data mean and data standar deviation\n",
    "    \"\"\"\n",
    "    data = np.genfromtxt('Resources/data.csv', delimiter=',')\n",
    "    d_mean = np.mean(data)\n",
    "    d_std = np.std(data)\n",
    "    if lags == 0:\n",
    "        valtarget = data[-(val_len*(lags+1)):]\n",
    "    else:\n",
    "        valtarget = data[-(val_len+lags):-(lags)]\n",
    "    data = (data - d_mean)/ d_std\n",
    "    return data, valtarget, d_mean, d_std"
   ]
  },
  {
   "cell_type": "markdown",
   "metadata": {},
   "source": [
    "Function to Load data for Test"
   ]
  },
  {
   "cell_type": "code",
   "execution_count": 30,
   "metadata": {
    "collapsed": false,
    "scrolled": true
   },
   "outputs": [],
   "source": [
    "def load_dataTest(test_len=6,lags=0):\n",
    "    \"\"\"\n",
    "Function to load Test data, if lags is not at least equal to test_len, will no return target data\n",
    "    :param test_len: define lenght of test data, by default is 6\n",
    "    :param lags: define lag values to set as start of test perdiod, by default is 0, it means it will forecast actual months\n",
    "    :return: data vector, data target, data mean, data standar deviation \n",
    "    \"\"\"\n",
    "    data = np.genfromtxt('Resources/data.csv', delimiter=',')\n",
    "    d_mean = np.mean(data)\n",
    "    d_std = np.std(data)\n",
    "    if(lags>=test_len):\n",
    "        if lags == test_len:\n",
    "            target = data[-lags:]\n",
    "        else:\n",
    "            target = data[-lags:(-lags + test_len)]\n",
    "        data = ((data - d_mean) / d_std)/ (max(data))\n",
    "        return data, target, d_mean, d_std\n",
    "    else:        \n",
    "        data = ((data - d_mean) / d_std)/ (max(data))\n",
    "        return data, d_mean, d_std"
   ]
  },
  {
   "cell_type": "markdown",
   "metadata": {},
   "source": [
    "Get Time Serie, will take a file data, init and last date and frecuency"
   ]
  },
  {
   "cell_type": "code",
   "execution_count": 32,
   "metadata": {
    "collapsed": false
   },
   "outputs": [],
   "source": [
    "def get_TS(File,start_date,periods = 0,freq = 'D'):\n",
    "    \"\"\"\n",
    "Function to load Time Serie\n",
    "    :param File: define file to be open in 'Resources/'\n",
    "    :param start_date: define start date of the Time Serie, is a string in format 'YYYY-MM-DD'\n",
    "    :param periods: lenght of the Time Serie\n",
    "    :param freq: frequency of the Time serie, by default is daily\n",
    "    :return: Time Serie\n",
    "    \"\"\"\n",
    "    path = 'Resources/' + File\n",
    "    file = open(path)\n",
    "    csvreader = csv.reader(file)\n",
    "    index_ = pd.date_range(start_date,periods=periods,freq=freq)\n",
    "    values = [float(x[0])for x in list(csvreader)]\n",
    "    TS= pd.Series(values,index = index_)\n",
    "    return TS"
   ]
  },
  {
   "cell_type": "markdown",
   "metadata": {},
   "source": [
    "Genereate W_in Matrix"
   ]
  },
  {
   "cell_type": "code",
   "execution_count": 34,
   "metadata": {
    "collapsed": true
   },
   "outputs": [],
   "source": [
    "def generate_win_matrix(inSize, resSize, scaleFactor=1):\n",
    "    \"\"\"\n",
    "Function to generate W in matrix with a uniform distribution between [-1,1]\n",
    "in other Function the uniform distribution can be moved to any range\n",
    "    :param inSize: number of inputs without interceptor\n",
    "    :param resSize: size of reservoir\n",
    "    :param scaleFactor: Scale Factor for the matrix by default 1\n",
    "    :return: W in Matrix\n",
    "    \"\"\"\n",
    "    Win = (random.uniform(low=-0.5, high=0.5, size=(resSize, 1 + inSize))) * scaleFactor\n",
    "    return Win"
   ]
  },
  {
   "cell_type": "markdown",
   "metadata": {},
   "source": [
    "Generate W Matrix"
   ]
  },
  {
   "cell_type": "code",
   "execution_count": 35,
   "metadata": {
    "collapsed": true
   },
   "outputs": [],
   "source": [
    "def generate_w_matrix(resSize):\n",
    "    \"\"\"\n",
    "Function to generate W matrix with a uniform distribution between [-1,1]\n",
    " In other function the uniform distribution can be moved to any range\n",
    "    :param resSize: size of reservoir\n",
    "    :return: W matrix\n",
    "    \"\"\"\n",
    "    W = random.uniform(low=-0.5, high= 0.5, size = (resSize,resSize))\n",
    "    return  W"
   ]
  },
  {
   "cell_type": "code",
   "execution_count": 36,
   "metadata": {
    "collapsed": true
   },
   "outputs": [],
   "source": [
    "def get_spectral_radius(W):\n",
    "    \"\"\"\n",
    "Function to get the spectral radius of W matrix\n",
    "    :param W: W matrix\n",
    "    :return: spectral radius\n",
    "    \"\"\"\n",
    "    rhoW = max(abs(linalg.eig(W)[0]))\n",
    "    return  rhoW"
   ]
  },
  {
   "cell_type": "code",
   "execution_count": 37,
   "metadata": {
    "collapsed": true
   },
   "outputs": [],
   "source": [
    "def scale_w(W, SRS = 2):\n",
    "    \"\"\"\n",
    "Function to apply spectral radius scale factor\n",
    "    :param W: W matrix\n",
    "    :param rhoW: spectral radius\n",
    "    :param SRS: spectral radius scale factor by default 1\n",
    "    :return: W\n",
    "    \"\"\"\n",
    "    rhoW = get_spectral_radius(W)\n",
    "    W*= (SRS/ rhoW)\n",
    "    return W"
   ]
  },
  {
   "cell_type": "markdown",
   "metadata": {},
   "source": [
    "Generate X and Yt matrix"
   ]
  },
  {
   "cell_type": "code",
   "execution_count": 38,
   "metadata": {
    "collapsed": true
   },
   "outputs": [],
   "source": [
    "def get_x_yt_matrix(data,inSize, resSize,trainLen,initLen):\n",
    "    \"\"\"\n",
    "Function to get X and Yt Matrix to save activation states and prediction targets\n",
    "    :type data: normalized data\n",
    "    :param inSize: size of the input \n",
    "    :param resSize: size of reservoir\n",
    "    :param trainLen: length of train data\n",
    "    :param initLen:  length of initial data\n",
    "    :return: X, Yt\n",
    "    \"\"\"\n",
    "    X = zeros((1+inSize+resSize,trainLen-initLen))\n",
    "    Yt = data[None,initLen+1:trainLen+1]\n",
    "    return X,Yt"
   ]
  },
  {
   "cell_type": "code",
   "execution_count": 39,
   "metadata": {
    "collapsed": true
   },
   "outputs": [],
   "source": [
    "def get_activation_states(data,resSize,trainLen,initLen,Win,W,a,X):\n",
    "    \"\"\"\n",
    "Function to get the activations states from the reservoir\n",
    "    :param data: train data\n",
    "    :param resSize: reservoir size\n",
    "    :param trainLen: length of train data\n",
    "    :param initLen: inital data to be ignored\n",
    "    :param Win: W in Matrix\n",
    "    :param W: W matrix\n",
    "    :param a: leaking rate\n",
    "    :param X: matrix of Activations per input\n",
    "    :return: last activation vector, matrix of activations X\n",
    "    \"\"\"\n",
    "    x = zeros((resSize,1))\n",
    "    for t in range(trainLen):\n",
    "        u = data[t]\n",
    "        x_u = tanh( dot( Win, vstack((1,u)) ) + dot( W, x ) )\n",
    "        #x_u = sigmoid( dot( Win, vstack((1,u)) ) + dot( W, x ) )\n",
    "        x = (1-a)*x + a*x_u \n",
    "        if t >= initLen:\n",
    "            X[:,t-initLen] = vstack((1,u,x))[:,0]\n",
    "    return x,X"
   ]
  },
  {
   "cell_type": "code",
   "execution_count": 40,
   "metadata": {
    "collapsed": true
   },
   "outputs": [],
   "source": [
    "def train_output_l2(inSize,resSize,X,Yt,reg = 1e-8):\n",
    "    \"\"\"\n",
    "Function to train readout with ridge regression to address overfitting\n",
    "    :param inSize: size of input\n",
    "    :param resSize: reservoir size\n",
    "    :param reg: penalization parameter\n",
    "    :param X: Matrix of activations\n",
    "    :param Yt: target values\n",
    "    :return Wout: weights from reservoir and input to output layer\n",
    "    \"\"\"\n",
    "    X_T = X.T \n",
    "    Wout = dot( dot(Yt,X_T), linalg.inv( dot(X,X_T) + reg*eye(1+inSize+resSize) ) )\n",
    "    return Wout"
   ]
  },
  {
   "cell_type": "code",
   "execution_count": 41,
   "metadata": {
    "collapsed": true
   },
   "outputs": [],
   "source": [
    "def get_predictions(data,outSize,trainLen,testLen,a,Win,W,Wout,x):\n",
    "    \"\"\"\n",
    "Function to get the predictions of the normalized data\n",
    "    :param data: train data\n",
    "    :param outSize: output size\n",
    "    :param trainLen: length of train data\n",
    "    :param testLen: length of test data\n",
    "    :param a: leaking rate\n",
    "    :param Win: W in Matrix\n",
    "    :param W: W matrix\n",
    "    :param Wout: W out Matrix\n",
    "    :param x: last activations states\n",
    "    :return: vector of predictions\n",
    "    \"\"\"\n",
    "    Y = zeros((outSize,testLen))\n",
    "    u = data[trainLen]\n",
    "    for t in range(testLen):\n",
    "        x_update = tanh( dot( Win, vstack((1,u))) + dot( W, x )) \n",
    "        #x_update = sigmoid( dot( Win, vstack((1,u))) + dot( W, x ))\n",
    "        x = (1-a)*x + a*x_update\n",
    "        y = dot( Wout, vstack((1,u,x)) )\n",
    "        Y[:,t] = y\n",
    "        # generative mode, this take the prediction and use it to make other prediction:\n",
    "        u = y\n",
    "        ## this would be a predictive mode, this made a prediccion and save it, then use the true value to make a new prediction:\n",
    "        #u = data[trainLen+t+1]\n",
    "    return Y"
   ]
  },
  {
   "cell_type": "code",
   "execution_count": 42,
   "metadata": {
    "collapsed": true
   },
   "outputs": [],
   "source": [
    "def denormalize_predictions(d_mean,d_std,Y):\n",
    "    \"\"\"\n",
    "Function to denormalize predictions\n",
    "    :param d_mean: data mean\n",
    "    :param d_std: data standard deviation\n",
    "    :param Y: predictions\n",
    "    :return: denormalized predictions\n",
    "    \"\"\"\n",
    "    Y1 = (Y) #* d_std) + d_mean\n",
    "    return Y1"
   ]
  },
  {
   "cell_type": "code",
   "execution_count": 43,
   "metadata": {
    "collapsed": true
   },
   "outputs": [],
   "source": [
    "def get_MSE(predictions, target):\n",
    "    \"\"\"\n",
    "    Function to get MSE from diference between predictions and real value (ouptuts)\n",
    "    :param predictions: predictions made by ffnn\n",
    "    :param target: true values from output values\n",
    "    :return: MSE\n",
    "    \"\"\"\n",
    "    return  (np.sum((target - predictions)**2))/len(predictions)"
   ]
  },
  {
   "cell_type": "code",
   "execution_count": 44,
   "metadata": {
    "collapsed": true
   },
   "outputs": [],
   "source": [
    "def SolutionValidation(Predictions,MSE,bestESN,bestMSE,bestPredictions,currentSetup):\n",
    "    \"\"\"\n",
    "Function to validate ESN model\n",
    "    :param Predictions: Prediction of current ESN\n",
    "    :param MSE: MSE of current ESN\n",
    "    :param bestESN: best setup of ESN so far\n",
    "    :param bestMSE: MSE of best ESN so far\n",
    "    :param bestPredictions: predictions of best ESN so far\n",
    "    :param currentSetup: current ESN setup\n",
    "    :return: bestESN, bestPredictions, bestMSE\n",
    "    \"\"\"\n",
    "    if((float)(MSE) < (bestMSE)):\n",
    "        bestESN = currentSetup\n",
    "        bestMSE = MSE\n",
    "        bestPredictions = Predictions\n",
    "    return bestESN,bestPredictions,bestMSE"
   ]
  },
  {
   "cell_type": "code",
   "execution_count": 45,
   "metadata": {
    "collapsed": true
   },
   "outputs": [],
   "source": [
    "def SolutionValidationTest(Predictions,MSE,bestESN,bestMSE,bestPredictions,currentSetup,Matrix,bMatrix):\n",
    "    \"\"\"\n",
    "Function to validate ESN model\n",
    "    :param Predictions: Prediction of current ESN\n",
    "    :param MSE: MSE of current ESN\n",
    "    :param bestESN: best setup of ESN so far\n",
    "    :param bestMSE: MSE of best ESN so far\n",
    "    :param bestPredictions: predictions of best ESN so far\n",
    "    :param currentSetup: current ESN setup\n",
    "    :return: bestESN, bestPredictions, bestMSE\n",
    "    \"\"\"\n",
    "    if((float)(MSE) < (bestMSE)):\n",
    "        bestESN = currentSetup\n",
    "        bestMSE = MSE\n",
    "        bestPredictions = Predictions\n",
    "        bMatrix = Matrix\n",
    "    return bestESN,bestPredictions,bestMSE,bMatrix"
   ]
  },
  {
   "cell_type": "code",
   "execution_count": 46,
   "metadata": {
    "collapsed": true
   },
   "outputs": [],
   "source": [
    "def writeIterations(listPredTuple):\n",
    "    folder = \"Results/iteraciones\"  +\"/\" \n",
    "    with open(folder + 'Validation_predicions_2015_1_1000' + '.csv','w+') as csvfile:\n",
    "        spamwriter= csv.writer(csvfile,delimiter=',')\n",
    "        spamwriter.writerow(['Param1','Param2','Param3','Param4','Param5','Pred1','Pred2','Pred3','Pred4','Pred5','Pred6',\n",
    "                             'Pred7','Pred8','Pred9','Pred10','Pred11','Pred12','MSE','Time'])\n",
    "        for x in listPredTuple:\n",
    "                    y = np.append(np.append(x[0],x[2]),np.append(x[1],x[3]))\n",
    "                    spamwriter.writerow(y)\n",
    "    csvfile.close()"
   ]
  },
  {
   "cell_type": "code",
   "execution_count": 47,
   "metadata": {
    "collapsed": true
   },
   "outputs": [],
   "source": [
    "def writeIterations2(listPredTuple):\n",
    "    folder = \"Results/iteraciones\"  +\"/\" \n",
    "    with open(folder + 'Validation_predicions_2015_2_1000' + '.csv','w+') as csvfile:\n",
    "        spamwriter= csv.writer(csvfile,delimiter=',')\n",
    "        spamwriter.writerow(['Param1','Param2','Param3','Param4','Param5','Pred1','Pred2','Pred3','Pred4','Pred5','Pred6',\n",
    "                             'Pred7','Pred8','Pred9','Pred10','Pred11','Pred12','MSE','Time'])\n",
    "        for x in listPredTuple:\n",
    "                    y = np.append(np.append(x[0],x[2]),np.append(x[1],x[3]))\n",
    "                    spamwriter.writerow(y)\n",
    "    csvfile.close()"
   ]
  },
  {
   "cell_type": "code",
   "execution_count": 48,
   "metadata": {
    "collapsed": true
   },
   "outputs": [],
   "source": [
    "def writeIterations3(listPredTuple):\n",
    "    folder = \"Results/iteraciones\"  +\"/\" \n",
    "    with open(folder + 'Validation_predicions_2016' + '.csv','w+') as csvfile:\n",
    "        spamwriter= csv.writer(csvfile,delimiter=',')\n",
    "        spamwriter.writerow(['Param1','Param2','Param3','Param4','Param5','Pred1','Pred2','Pred3','Pred4','Pred5','Pred6',\n",
    "                             'Pred7','Pred8','Pred9','Pred10','Pred11','Pred12','MSE','Time'])\n",
    "        for x in listPredTuple:\n",
    "                    y = np.append(np.append(x[0],x[2]),np.append(x[1],x[3]))\n",
    "                    spamwriter.writerow(y)\n",
    "    csvfile.close()"
   ]
  },
  {
   "cell_type": "code",
   "execution_count": 49,
   "metadata": {
    "collapsed": true
   },
   "outputs": [],
   "source": [
    "def writePredictions(listPredTuple):\n",
    "    folder = \"Results/iteraciones\"  +\"/\" \n",
    "    with open(folder + 'Test_predicions_2015_1_1000' + '.csv','w+') as csvfile:\n",
    "        spamwriter= csv.writer(csvfile,delimiter=',')\n",
    "        spamwriter.writerow(['Param1','Param2','Param3','Param4','Param5','Pred1','Pred2','Pred3','Pred4','Pred5','Pred6'])\n",
    "        for x in listPredTuple:                \n",
    "                    y = np.append(x[0],x[1])\n",
    "                    spamwriter.writerow(y)\n",
    "    csvfile.close()"
   ]
  },
  {
   "cell_type": "code",
   "execution_count": 50,
   "metadata": {
    "collapsed": true
   },
   "outputs": [],
   "source": [
    "def writePredictions2(listPredTuple):\n",
    "    folder = \"Results/iteraciones\"  +\"/\" \n",
    "    with open(folder + 'Test_predicions_2015_2_1000' + '.csv','w+') as csvfile:\n",
    "        spamwriter= csv.writer(csvfile,delimiter=',')\n",
    "        spamwriter.writerow(['Param1','Param2','Param3','Param4','Param5','Pred1','Pred2','Pred3','Pred4','Pred5','Pred6'])\n",
    "        for x in listPredTuple:                \n",
    "                    y = np.append(x[0],x[1])\n",
    "                    spamwriter.writerow(y)\n",
    "    csvfile.close()"
   ]
  },
  {
   "cell_type": "code",
   "execution_count": 51,
   "metadata": {
    "collapsed": true
   },
   "outputs": [],
   "source": [
    "def writePredictions3(listPredTuple):\n",
    "    folder = \"Results/iteraciones\"  +\"/\" \n",
    "    with open(folder + 'Test_predicions_2015_6' + '.csv','w+') as csvfile:\n",
    "        spamwriter= csv.writer(csvfile,delimiter=',')\n",
    "        spamwriter.writerow(['Param1','Param2','Param3','Param4','Param5','Pred1','Pred2','Pred3','Pred4','Pred5','Pred6'])\n",
    "        for x in listPredTuple:                \n",
    "                    y = np.append(x[0],x[1])\n",
    "                    spamwriter.writerow(y)\n",
    "    csvfile.close()"
   ]
  },
  {
   "cell_type": "code",
   "execution_count": 52,
   "metadata": {
    "collapsed": true
   },
   "outputs": [],
   "source": [
    "def get_denormilze_prediction(data,d_mean,d_std,outSize,trainLen,testLen,a,Win,W,Wout,x):\n",
    "    Y = get_predictions(data,outSize,trainLen,testLen,a,Win,W,Wout,x)\n",
    "    Y = denormalize_predictions(d_mean,d_std,Y)\n",
    "    return Y"
   ]
  },
  {
   "cell_type": "code",
   "execution_count": 60,
   "metadata": {
    "collapsed": true
   },
   "outputs": [],
   "source": [
    "def get_best_Validation_ESN(ParameterList,val_len=12,lags=0):\n",
    "    \"\"\"\n",
    "Function to test several ESN model for the best setup\n",
    "    :param ParameterList: List of vectors for different parameter's values in this order:\n",
    "    resSize, inputScale, SpectralRadiusScale, leakingRate, l2 penalty\n",
    "    :param val_len: lenght of validation data set, by default is 12 values\n",
    "    :param lags: last value of the validation set, by default is 0, so it will forecast unknow value\n",
    "    \"\"\"\n",
    "    start = time.time()\n",
    "    random.seed(0)\n",
    "    \n",
    "    #Get the data, this is already normalized by the function load_data(), the value targets aren't. \n",
    "    #this Function use the validation set lenght (val_len) and lags value (lags)\n",
    "    \n",
    "    #testing the last 12 months\n",
    "    data, target, d_mean, d_std = load_dataValidation(val_len=12,lags=0)\n",
    "    \n",
    "    #creating the training Set, will be made by the period [0:(val_len + lags +1 ))]. This means that the training data set\n",
    "    #will stop one value before the validation set period start. It has to be 1 value before, because in the training, for\n",
    "    #every input [xt-1] there are an expected output [yt], so the last value in training set X will be t-1\n",
    "        \n",
    "    trainLen = len(data) - (val_len+lags+1)\n",
    "\n",
    "    # for choose the best model we have to evaluate in a certain number of predictions with know real values, for that we define a constant\n",
    "    # with how many steps we will forecast\n",
    "\n",
    "    #define a init len, this values are used to set the initial values in the activation matrix and so will not be used as \n",
    "    #training values X\n",
    "    initLen = 12\n",
    "    \n",
    "    #size of input and output layers\n",
    "    inSize = outSize = 1\n",
    "    \n",
    "    #get the original Time Serie\n",
    "    TS = get_TS('data.csv','2001-01-01',periods = len(data),freq = 'M')\n",
    "    \n",
    "    # data for record file\n",
    "    folder = \"Results/iteraciones\" + \"/\"\n",
    "    \n",
    "    #init variables to save best setup, MSE and predictions (RMSE is get in the plotter algoritm by getting the squared value of MSE\n",
    "    best_setup, best_MSE, best_predictions = init_best(len(ParameterList[4]))\n",
    "    #matrix variables to save the matrix of best ESN\n",
    "    bWin = 0\n",
    "    bW = 0\n",
    "    best_matrix = 0\n",
    "    \n",
    "    #init to iterate over the combinations\n",
    "    for resSize in ParameterList[0]:\n",
    "        \n",
    "        #init X and Yt Matrix with the respective sizes\n",
    "        X, Yt = get_x_yt_matrix(data, inSize, resSize, trainLen, initLen)\n",
    "        \n",
    "        for WinScale in ParameterList[1]:\n",
    "            \n",
    "            #getting the Win matrix with size parameters and Win Scale factor\n",
    "            Win = generate_win_matrix(inSize, resSize, WinScale)\n",
    "            for SRS in ParameterList[2]:\n",
    "                \n",
    "                #getting W matrix with reservoir size parameter\n",
    "                W = generate_w_matrix(resSize)\n",
    "                #scalating W matrix wit spectral radius and spectral radius scale factor\n",
    "                W = scale_w(W, SRS)\n",
    "\n",
    "                for a in ParameterList[3]:\n",
    "                    \n",
    "                    # this will fill the state matrix with all the data   \n",
    "                    x, X = get_activation_states(data, resSize, trainLen, initLen, Win, W, a, X)\n",
    "\n",
    "                    # using train and validation (testLen) data to select best model. \n",
    "                    for reg in ParameterList[4]:\n",
    "                        \n",
    "                        # Train the output with the data to in order to select the best model to make predictions via lineal programming\n",
    "                        Wout = train_output_l2(inSize, resSize, X, Yt, reg)\n",
    "                        \n",
    "                        # get the predictions with training data and testLen indicate how many steps will be forecasted\n",
    "                        Y = get_predictions(data, outSize, trainLen, val_len, a, Win, W, Wout, x)\n",
    "                        \n",
    "                        #get the denormalized predictions \n",
    "                        Y = denormalize_predictions(d_mean, d_std, Y)\n",
    "                        \n",
    "                        #get the MSE for the predictions\n",
    "                        MSE = get_MSE(Y[0], target)\n",
    "                        \n",
    "                        #save current setup\n",
    "                        currentSetup = (resSize, WinScale, SRS, a, reg)\n",
    "                        \n",
    "                        #clean memory with garbage collector\n",
    "                        gc.collect()\n",
    "                        \n",
    "                        #save matrix\n",
    "                        Matrix = (Win,W,Wout)\n",
    "                        \n",
    "                        #validate setup and save it the best's variables if is the case\n",
    "                        best_setup, best_predictions, best_MSE,best_matrix = SolutionValidationTest(Y[0], MSE, best_setup, best_MSE,\n",
    "                                                                                    best_predictions, currentSetup,Matrix,best_matrix)                       \n",
    "\n",
    "    #stop time record\n",
    "    stop = time.time()\n",
    "    #get the duration\n",
    "    duration = stop - start    \n",
    "    #return best's variables \n",
    "    return best_setup, best_MSE, best_predictions, duration,best_matrix"
   ]
  },
  {
   "cell_type": "code",
   "execution_count": 91,
   "metadata": {
    "collapsed": true
   },
   "outputs": [],
   "source": [
    "ParameterList = [[100],[0.5,1.2,1.5],[0.3,0.5,0.7],[0.4,0.5,0.6],[1e-12,1e-11,1e-10,1e-9,1e-8,1e-7]]"
   ]
  },
  {
   "cell_type": "code",
   "execution_count": 92,
   "metadata": {
    "collapsed": false
   },
   "outputs": [],
   "source": [
    "bs,bm,bp,d,bmx = get_best_Validation_ESN(ParameterList,val_len=12,lags=0)"
   ]
  },
  {
   "cell_type": "code",
   "execution_count": 93,
   "metadata": {
    "collapsed": false
   },
   "outputs": [
    {
     "data": {
      "text/plain": [
       "8.975563270218144"
      ]
     },
     "execution_count": 93,
     "metadata": {},
     "output_type": "execute_result"
    }
   ],
   "source": [
    "bm"
   ]
  },
  {
   "cell_type": "code",
   "execution_count": 94,
   "metadata": {
    "collapsed": false
   },
   "outputs": [
    {
     "data": {
      "text/plain": [
       "2.9959244433426795"
      ]
     },
     "execution_count": 94,
     "metadata": {},
     "output_type": "execute_result"
    }
   ],
   "source": [
    "math.sqrt(sum((load_dataValidation()[1]-bp)**2)/12)"
   ]
  },
  {
   "cell_type": "code",
   "execution_count": 95,
   "metadata": {
    "collapsed": false
   },
   "outputs": [
    {
     "data": {
      "text/plain": [
       "[<matplotlib.lines.Line2D at 0x2a3330f9cf8>]"
      ]
     },
     "execution_count": 95,
     "metadata": {},
     "output_type": "execute_result"
    },
    {
     "data": {
      "image/png": "[encoded data removed]",
      "text/plain": [
       "<matplotlib.figure.Figure at 0x2a3330f92e8>"
      ]
     },
     "metadata": {},
     "output_type": "display_data"
    }
   ],
   "source": [
    "pylab.plot(load_dataValidation()[1])\n",
    "pylab.plot(bp)"
   ]
  },
  {
   "cell_type": "markdown",
   "metadata": {},
   "source": [
    "si funciona"
   ]
  },
  {
   "cell_type": "code",
   "execution_count": 65,
   "metadata": {
    "collapsed": true
   },
   "outputs": [],
   "source": [
    "def TestESN(ValESN):\n",
    "    \"\"\"\n",
    "    Function to test the best validation ESN \n",
    "    :param ParameterList: List of validation ESN with all their variables\n",
    "    \"\"\"\n",
    "    \n",
    "    #set random seed\n",
    "    random.seed()\n",
    "    #start a list to save test predictions for each validation ESN\n",
    "    predTest = list()\n",
    "    \n",
    "    #Get the data, this is already normalized by the function load_data(), also the targets. This data will be splited in training(trainLen) \n",
    "    # and validation data (testLen)\n",
    "    data, target, d_mean, d_std = load_dataTest()\n",
    "\n",
    "    # for make predictions to unknown data we have to fully train the model, for that we will use all the data except the last, because it will \n",
    "    # be use as a target in the training. We set the substracted value at the begining of the data to be forecasting (-12, -6, 0) for the \n",
    "    # respective time serie. . We substract a -1 because the last value can't be used as a training value.\n",
    "\n",
    "    trainLen = len(data) - 13\n",
    "\n",
    "    # for choose the best model we have to evaluate in a certain number of predictions with know real values, for that we define a constant\n",
    "    # with how many steps we will forecast\n",
    "    testLen = 6\n",
    "\n",
    "    #define a init len, this values are only used as input and not as training targets. Must be the same that in the validation function\n",
    "    initLen = 12\n",
    "    \n",
    "    #size of input and output layers\n",
    "    inSize = outSize = 1\n",
    "\n",
    "    #get tuples of the ENS validation list. Each tuple refers to the best parameters and matrix for each ESN saved from the validation algorithm  \n",
    "    for tuple in ValESN:\n",
    "        #get the best setup\n",
    "        setup = tuple[0]\n",
    "        \n",
    "        #get each parameter from the setup tuple\n",
    "        resSize = setup[0]\n",
    "        WinScale = setup[1]\n",
    "        SRS = setup[2]\n",
    "        a = setup[3]\n",
    "        reg = setup[4]\n",
    "        \n",
    "        #get X and Yt matrix\n",
    "        X, Yt = get_x_yt_matrix(data, inSize, resSize, trainLen, initLen)\n",
    "\n",
    "        #create Win Matrix\n",
    "        Win = generate_win_matrix(inSize, resSize, WinScale)\n",
    "\n",
    "        #getting W matrix with reservoir size parameter\n",
    "        W = generate_w_matrix(resSize)\n",
    "        \n",
    "        #getting spectral radius       \n",
    "        rhoW = get_spectral_radius(W)\n",
    "        \n",
    "        #scalating W matrix wit spectral radius and spectral radius scale factor\n",
    "        W = scale_w(W, rhoW, SRS)\n",
    "       \n",
    "        # this will fill the state matrix with all the data\n",
    "        x, X = get_activation_states(data, resSize, trainLen, initLen, Win, W, a,\n",
    "                                     X)  \n",
    "  \n",
    "        # Train the output with the data to in order to select the best model to make predictions via lineal programming\n",
    "        \n",
    "        Wout = train_output_l2(inSize, resSize, X, Yt,reg)\n",
    "                \n",
    "        # we get the predictions \n",
    "        Y= get_predictions(data, outSize, trainLen, testLen, a, Win, W, Wout, x)\n",
    "        \n",
    "        # denormalize predictions\n",
    "        Y = denormalize_predictions(d_mean, d_std, Y)\n",
    "        \n",
    "        #save tuple for setup, predictions\n",
    "        result =(setup,Y)\n",
    "        \n",
    "        #save tuple in list\n",
    "        predTest.append(result)\n",
    "        #clean the memory\n",
    "        gc.collect()  \n",
    "    \n",
    "    #call WritePredictions to create test predictions file    \n",
    "    writePredictions(predTest)"
   ]
  },
  {
   "cell_type": "code",
   "execution_count": 39,
   "metadata": {
    "collapsed": true
   },
   "outputs": [],
   "source": [
    "def TestESN2(ValESN):\n",
    "    \"\"\"\n",
    "    Function to test the best val ESN to find best ESN model for the best setup\n",
    "    :param ParameterList: List of vectors for different values of the parameters in this order:\n",
    "    resSize, inputScale, SpectralRadiusScale, leakingRate, l2penalty\n",
    "    \"\"\"\n",
    "    random.seed()\n",
    "    predTest = list()\n",
    "    data, target, d_mean, d_std = load_dataTest2()\n",
    "\n",
    "    # for make predictions to uknown data we have to fully train the model, for that we will use all the data except the last, because it will \n",
    "    # be use as a target in the training, and we will use a second trainLen to choose the model\n",
    "    #FulltrainLen = len(data) - 6\n",
    "    trainLen = len(data) - 7\n",
    "\n",
    "    # for choose the best model we have to evaluate in a certain number of predictios with know real values\n",
    "    testLen = 6\n",
    "\n",
    "    initLen = 12\n",
    "    inSize = outSize = 1\n",
    "    #TS = get_TS()\n",
    "\n",
    "    for tuple in ValESN:\n",
    "        setup = tuple[0]\n",
    "        resSize = setup[0]\n",
    "        WinScale = setup[1]\n",
    "        SRS = setup[2]\n",
    "        a = setup[3]\n",
    "        reg = setup[4]\n",
    "        \n",
    "        X, Yt = get_x_yt_matrix(data, inSize, resSize, trainLen, initLen)\n",
    "\n",
    "        Win = generate_win_matrix(inSize, resSize, WinScale)\n",
    "        #Win = tuple[4][0]\n",
    "\n",
    "        W = generate_w_matrix(resSize)\n",
    "        rhoW = get_spectral_radius(W)\n",
    "        W = scale_w(W, rhoW, SRS)\n",
    "        #W = tuple[4][1]\n",
    "        x, X = get_activation_states(data, resSize, trainLen, initLen, Win, W, a,\n",
    "                                     X)  # Train the output with the data to -6 observation in order to select the best model to make predictions\n",
    "        \n",
    "\n",
    "        #print x[:10]\n",
    "        #print x_val[:10]        \n",
    "        \n",
    "        Wout = train_output_l2(inSize, resSize, X, Yt,reg)\n",
    "        #Wout = tuple[4][2]\n",
    "        # we get the predictions with training data\n",
    "        Y= get_predictions(data, outSize, trainLen, testLen, a, Win, W, Wout, x)\n",
    "        Y = denormalize_predictions(d_mean, d_std, Y)\n",
    "        result =(setup,Y)\n",
    "        predTest.append(result)\n",
    "        gc.collect()  # Once we have the test we clean the memory\n",
    "    writePredictions2(predTest)"
   ]
  },
  {
   "cell_type": "code",
   "execution_count": 40,
   "metadata": {
    "collapsed": true
   },
   "outputs": [],
   "source": [
    "def TestESN3(ValESN):\n",
    "    \"\"\"\n",
    "    Function to test the best val ESN to find best ESN model for the best setup\n",
    "    :param ParameterList: List of vectors for different values of the parameters in this order:\n",
    "    resSize, inputScale, SpectralRadiusScale, leakingRate, l2penalty\n",
    "    \"\"\"\n",
    "    random.seed()\n",
    "    predTest = list()\n",
    "    data, d_mean, d_std = load_dataTest3()\n",
    "\n",
    "    # for make predictions to uknown data we have to fully train the model, for that we will use all the data except the last, because it will \n",
    "    # be use as a target in the training, and we will use a second trainLen to choose the model\n",
    "    #FulltrainLen = len(data) - 6\n",
    "    trainLen = len(data) - 1\n",
    "\n",
    "    # for choose the best model we have to evaluate in a certain number of predictios with know real values\n",
    "    testLen = 6\n",
    "\n",
    "    initLen = 12\n",
    "    inSize = outSize = 1\n",
    "    #TS = get_TS()\n",
    "\n",
    "    for tuple in ValESN:\n",
    "        setup = tuple[0]\n",
    "        resSize = setup[0]\n",
    "        WinScale = setup[1]\n",
    "        SRS = setup[2]\n",
    "        a = setup[3]\n",
    "        reg = setup[4]\n",
    "        \n",
    "        X, Yt = get_x_yt_matrix(data, inSize, resSize, trainLen, initLen)\n",
    "\n",
    "        Win = generate_win_matrix(inSize, resSize, WinScale)\n",
    "        #Win = tuple[4][0]\n",
    "\n",
    "        W = generate_w_matrix(resSize)\n",
    "        rhoW = get_spectral_radius(W)\n",
    "        W = scale_w(W, rhoW, SRS)\n",
    "        #W = tuple[4][1]\n",
    "        x, X = get_activation_states(data, resSize, trainLen, initLen, Win, W, a,\n",
    "                                     X)  # Train the output with the data to -6 observation in order to select the best model to make predictions\n",
    "        \n",
    "\n",
    "        #print x[:10]\n",
    "        #print x_val[:10]        \n",
    "        \n",
    "        Wout = train_output_l2(inSize, resSize, X, Yt,reg)\n",
    "        #Wout = tuple[4][2]\n",
    "        # we get the predictions with training data\n",
    "        Y= get_predictions(data, outSize, trainLen, testLen, a, Win, W, Wout, x)\n",
    "        Y = denormalize_predictions(d_mean, d_std, Y)\n",
    "        result =(setup,Y)\n",
    "        predTest.append(result)\n",
    "        gc.collect()  # Once we have the test we clean the memory\n",
    "    writePredictions3(predTest)"
   ]
  },
  {
   "cell_type": "code",
   "execution_count": 41,
   "metadata": {
    "collapsed": true
   },
   "outputs": [],
   "source": [
    "#ParameterList_0_3 = [[100,200,300,400,500],[1,1.2,1.5,1.8,2,2.5,3,3.5,4],[0.5,1,1.2,1.5,2,2.5,3,3.5],[0.1,0.2,0.3,0.4,0.5,0.6,0.7],[1e-13,1e-12,1e-11,1e-10,1e-9,1e-8,1e-5,1e-4,1e-3,1e-2,1e-1,1]]"
   ]
  },
  {
   "cell_type": "code",
   "execution_count": 42,
   "metadata": {
    "collapsed": true
   },
   "outputs": [],
   "source": [
    "ParameterList = [[100,200,300,400],[0.5,1.2,1.5,1.8,2,2.5],[0.3,0.5,0.8,1,1.5],[0.4,0.5,0.6,0.7],[1e-12,1e-11,1e-10,1e-9,1e-8,1e-7,1e-6,1e-5,1e-4,1e-3,1e-2,1e-1,1e-0]]"
   ]
  },
  {
   "cell_type": "code",
   "execution_count": 43,
   "metadata": {
    "collapsed": true
   },
   "outputs": [],
   "source": [
    "listPredTuple = list()\n",
    "#for x in range(5):\n",
    " #  bestPredtuple = get_best_setup(ParameterList)   \n",
    "  # listPredTuple.append(bestPredtuple)\n",
    "#writeIterations(listPredTuple)"
   ]
  },
  {
   "cell_type": "markdown",
   "metadata": {},
   "source": [
    "Aprox 1.- probar datos en mejor red"
   ]
  },
  {
   "cell_type": "code",
   "execution_count": 44,
   "metadata": {
    "collapsed": true
   },
   "outputs": [],
   "source": [
    "#ParameterList = [[100,200],[-0.5,-0.1,0.1,0.3,0.5,0.7,1,1.3],[0.3,0.4,0.5,0.6,0.8,1,1.2],[0.2,0.3,0.4,0.5,0.6,0.7,0.8],[1e-9,1e-8,1e-7,1e-6,1e-5,1e-4,1e-3]]"
   ]
  },
  {
   "cell_type": "code",
   "execution_count": 54,
   "metadata": {
    "collapsed": true
   },
   "outputs": [],
   "source": [
    "# Defining Parameter's values\n",
    "ParameterList = [[1000],[0.3,0.5,0.7,1,1.1,1.3,1.5],[0.1,0.2,0.3,0.4,0.6,0.7,0.8,0.9,1,1.1],[0.3,0.4,0.5,0.6,0.7],[1e-10,1e-9,1e-8,1e-7,1e-6]]"
   ]
  },
  {
   "cell_type": "code",
   "execution_count": 46,
   "metadata": {
    "collapsed": true
   },
   "outputs": [],
   "source": [
    "#ParameterList = [[400,500,600],[0.3,0.5,0.7,1,1.1,1.3,1.5,1.7],[0.2,0.3,0.4,0.5,0.6,0.7,0.8],[0.2,0.3,0.4,0.5,0.6,0.7],[1e-10,1e-9,1e-8,1e-7,1e-6]]"
   ]
  },
  {
   "cell_type": "code",
   "execution_count": 47,
   "metadata": {
    "collapsed": true
   },
   "outputs": [],
   "source": [
    "#ParameterList = [[100,200],[-0.3,0.1,0.5,0.7,1,1.3],[0.1,0.2,0.3,0.4,0.5,0.6,0.7,0.8,0.9,1,1.1],[0.2,0.3,0.4,0.5,0.6,0.7,0.8],[1e-7,1e-6,1e-5,1e-4,1e-3,1e-2]]"
   ]
  },
  {
   "cell_type": "code",
   "execution_count": 63,
   "metadata": {
    "collapsed": true
   },
   "outputs": [],
   "source": [
    "# creating list to save best ESN's setups and run 50 times the validation algorithm \n",
    "predVal = list()\n",
    "for x in range(50):\n",
    "   bestPredtuple = get_best_ESN(ParameterList)  \n",
    "   predVal.append(bestPredtuple)\n",
    "# Function to save setups and predictions to Validation File\n",
    "writeIterations(predVal)"
   ]
  },
  {
   "cell_type": "code",
   "execution_count": 67,
   "metadata": {
    "collapsed": true
   },
   "outputs": [],
   "source": [
    "# Function to get test predictions using best's validation ESN parameters\n",
    "TestESN(predVal)"
   ]
  },
  {
   "cell_type": "code",
   "execution_count": 50,
   "metadata": {
    "collapsed": true
   },
   "outputs": [],
   "source": [
    "predVal = list()\n",
    "for x in range(50):\n",
    "   bestPredtuple = get_best_ESN2(ParameterList)  \n",
    "   predVal.append(bestPredtuple)\n",
    "writeIterations2(predVal)"
   ]
  },
  {
   "cell_type": "code",
   "execution_count": 51,
   "metadata": {
    "collapsed": true
   },
   "outputs": [],
   "source": [
    "TestESN2(predVal)"
   ]
  },
  {
   "cell_type": "code",
   "execution_count": 52,
   "metadata": {
    "collapsed": true
   },
   "outputs": [],
   "source": [
    "predVal = list()\n",
    "for x in range(50):\n",
    "   bestPredtuple = get_best_ESN3(ParameterList)  \n",
    "   predVal.append(bestPredtuple)\n",
    "writeIterations3(predVal)"
   ]
  },
  {
   "cell_type": "code",
   "execution_count": 53,
   "metadata": {
    "collapsed": true
   },
   "outputs": [],
   "source": [
    "TestESN3(predVal)"
   ]
  },
  {
   "cell_type": "code",
   "execution_count": null,
   "metadata": {
    "collapsed": true
   },
   "outputs": [],
   "source": []
  }
 ],
 "metadata": {
  "celltoolbar": "Raw Cell Format",
  "kernelspec": {
   "display_name": "Python 3",
   "language": "python",
   "name": "python3"
  },
  "language_info": {
   "codemirror_mode": {
    "name": "ipython",
    "version": 3
   },
   "file_extension": ".py",
   "mimetype": "text/x-python",
   "name": "python",
   "nbconvert_exporter": "python",
   "pygments_lexer": "ipython3",
   "version": "3.5.1"
  }
 },
 "nbformat": 4,
 "nbformat_minor": 0
}
