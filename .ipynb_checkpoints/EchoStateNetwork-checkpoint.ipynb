{
 "cells": [
  {
   "cell_type": "code",
   "execution_count": 1,
   "metadata": {
    "collapsed": true
   },
   "outputs": [],
   "source": [
    "from __future__ import division\n",
    "from numpy import *\n",
    "from matplotlib.pyplot import *\n",
    "import scipy.linalg\n",
    "import pandas as pd\n",
    "import csv\n",
    "import time\n",
    "import gc"
   ]
  },
  {
   "cell_type": "markdown",
   "metadata": {},
   "source": [
    "## Functions for data and Time Serie generation"
   ]
  },
  {
   "cell_type": "code",
   "execution_count": 16,
   "metadata": {
    "collapsed": true
   },
   "outputs": [],
   "source": [
    "def loadData(file='data.csv'):\n",
    "    \"\"\"\n",
    "Function to load data from file, returning the normalized data, unnorrmalized targets, mean and standard deviation\n",
    "   :return: data,val_data,data mean and data standar deviation\n",
    "    \"\"\"\n",
    "    data = np.genfromtxt('Resources/' + file, delimiter=',')\n",
    "    return data"
   ]
  },
  {
   "cell_type": "code",
   "execution_count": 24,
   "metadata": {
    "collapsed": false
   },
   "outputs": [],
   "source": [
    "def getTimeSerie(file='data.csv',start_date=\"2001-01-01\",periods = 0,freq = 'D'):\n",
    "    \"\"\"\n",
    "Function to load Time Serie\n",
    "    :param file: data file in Resources folder\n",
    "    :param start_date: define start date of the Time Serie, is a string in format 'YYYY-MM-DD' by defaukt '2001-01-01'\n",
    "    :param freq: frequency of the Time serie, by default is daily, visit  http://pandas.pydata.org/pandas-docs/stable/timeseries.html\n",
    "    :return: Time Serie\n",
    "    \"\"\"\n",
    "    data = loadData(file)\n",
    "    index_ = pd.date_range(start_date,periods=len(data),freq=freq)\n",
    "    TS= pd.Series(data,index = index_)\n",
    "    return TS"
   ]
  },
  {
   "cell_type": "markdown",
   "metadata": {},
   "source": [
    "### Function to Define Validation Train and Test TS"
   ]
  },
  {
   "cell_type": "code",
   "execution_count": 111,
   "metadata": {
    "collapsed": true
   },
   "outputs": [],
   "source": [
    "def getValidationTrainAndTestTS(TS,start=0,end=6,lenght=6):\n",
    "    \"\"\"\n",
    "    Function to retrieve Validation Training and Test TS\n",
    "    :param TS: Time Serie\n",
    "    :param start: index from TS to start Training TS, by default = 0\n",
    "    :param end: index from TS to end Training TS also used as start for Test TS, by default = 6\n",
    "    :param lenght: lenght of Test TS, by default = 6, if is equal to end then will return to end of TS\n",
    "    :return: Training TS, Test TS\n",
    "    \"\"\"\n",
    "    try:\n",
    "        trainTS = TS[start:-end].copy()\n",
    "        if(lenght<start):\n",
    "            testTS = TS[-end:-(end-lenght)]\n",
    "        else:\n",
    "            testTS = TS[-end:]\n",
    "        return trainTS,testTS\n",
    "    except Exception as e:\n",
    "        print(e.value)         "
   ]
  },
  {
   "cell_type": "markdown",
   "metadata": {},
   "source": [
    "### Function to Define Test Train TS"
   ]
  },
  {
   "cell_type": "code",
   "execution_count": 115,
   "metadata": {
    "collapsed": true
   },
   "outputs": [],
   "source": [
    "def getTestTrainTS(TS,start=0,end=None):\n",
    "    \"\"\"\n",
    "Retrieve Test Training TS, by default the original TS\n",
    "    :param TS: Time Serie\n",
    "    :param start: index from original TS to start Test Training TS\n",
    "    :param end: index from original TS to end Test Training TS, by default = None\n",
    "    :return: Test Training TS\n",
    "    \"\"\"\n",
    "    if(end is None):\n",
    "        return TS[start:].copy()\n",
    "    else:\n",
    "        return TS[start:end].copy()"
   ]
  },
  {
   "cell_type": "markdown",
   "metadata": {},
   "source": [
    "### Function to initilalize Win matrix"
   ]
  },
  {
   "cell_type": "code",
   "execution_count": 132,
   "metadata": {
    "collapsed": true
   },
   "outputs": [],
   "source": [
    "def generateWinMatrix(inSize, resSize, scaleFactor=1):\n",
    "    \"\"\"\n",
    "Function to generate W in matrix with a uniform distribution between [-1,1]\n",
    "in other Function the uniform distribution can be moved to any range\n",
    "    :param inSize: number of inputs without interceptor\n",
    "    :param resSize: size of reservoir\n",
    "    :param scaleFactor: Scale Factor for the matrix by default 1\n",
    "    :return: W in Matrix\n",
    "    \"\"\"\n",
    "    Win = (random.uniform(low=-0.5, high=0.5, size=(resSize, 1 + inSize))) * scaleFactor\n",
    "    return Win"
   ]
  },
  {
   "cell_type": "markdown",
   "metadata": {},
   "source": [
    "### Function to initialize W matrix"
   ]
  },
  {
   "cell_type": "code",
   "execution_count": 131,
   "metadata": {
    "collapsed": true
   },
   "outputs": [],
   "source": [
    "def getSpectralRadius(W):\n",
    "    \"\"\"\n",
    "Function to get the spectral radius of W matrix\n",
    "    :param W: W matrix\n",
    "    :return: spectral radius\n",
    "    \"\"\"\n",
    "    rhoW = max(abs(linalg.eig(W)[0]))\n",
    "    return  rhoW"
   ]
  },
  {
   "cell_type": "code",
   "execution_count": 135,
   "metadata": {
    "collapsed": true
   },
   "outputs": [],
   "source": [
    "def generateW(resSize, SRS = 1):\n",
    "    \"\"\"\n",
    "Function to generate W matrix with a uniform distribution between [-1,1] and apply Spectral radius Scale\n",
    "    :param resSize: size of reservoir\n",
    "    :param SRS: spectral radius scale factor by default 1\n",
    "    :return: W\n",
    "    \"\"\"\n",
    "    W = random.uniform(low=-0.5, high= 0.5, size = (resSize,resSize))\n",
    "    rhoW = get_spectral_radius(W)\n",
    "    W*= (SRS/ rhoW)\n",
    "    return W"
   ]
  },
  {
   "cell_type": "markdown",
   "metadata": {},
   "source": [
    "### Function to get X and Yt matrix"
   ]
  },
  {
   "cell_type": "code",
   "execution_count": 136,
   "metadata": {
    "collapsed": true
   },
   "outputs": [],
   "source": [
    "def generateX_YtMatrix(data,inSize, resSize,initLen):\n",
    "    \"\"\"\n",
    "Function to get X and Yt Matrix to save activation states and prediction targets\n",
    "    :type data: normalized data\n",
    "    :param inSize: size of the input \n",
    "    :param resSize: size of reservoir\n",
    "    :param initLen:  length of initial data\n",
    "    :return: X, Yt\n",
    "    \"\"\"\n",
    "    X = zeros((1+inSize+resSize,len(data)-initLen))\n",
    "    Yt = data[None,initLen+1:trainLen+1]\n",
    "    return X,Yt"
   ]
  },
  {
   "cell_type": "markdown",
   "metadata": {},
   "source": [
    "### Function to generate Win,W, X and Yt Matrix"
   ]
  },
  {
   "cell_type": "code",
   "execution_count": null,
   "metadata": {
    "collapsed": true
   },
   "outputs": [],
   "source": [
    "def generateMatrix(data,resSize,initLen = 12,inSize=1, WinScaleFactor=1, SRS = 1):\n",
    "    \"\"\"\n",
    "    Function to generate Win, W, X and Yt matrix\n",
    "    :param data: values of training Time Serie\n",
    "    :param resSize: size of reservoir (num of neurons)\n",
    "    :param initLen: number of values to be used as lags for activations states X matrix, by default = 12\n",
    "    :param WinScaleFactor: scale factor for Win matrix, by default = 1\n",
    "    :param SRS: Spectral radius scale factor for W matrix, by default = 1\n",
    "    :return: Win,W,X,Xt\n",
    "    \"\"\"\n",
    "    Win = generateWinMatrix(inSize,resSize,scaleFactor)\n",
    "    W = generateW(resSize,SRS)\n",
    "    X,Yt = generateX_YtMatrix(data,inSize,initLen)\n",
    "    return Win,W,X,Yt"
   ]
  },
  {
   "cell_type": "code",
   "execution_count": 31,
   "metadata": {
    "collapsed": true
   },
   "outputs": [],
   "source": [
    "TS = getTimeSerie(freq='M')"
   ]
  },
  {
   "cell_type": "code",
   "execution_count": 116,
   "metadata": {
    "collapsed": true
   },
   "outputs": [],
   "source": [
    "TestTrainTS = getTestTrainTS(TS)"
   ]
  },
  {
   "cell_type": "code",
   "execution_count": 108,
   "metadata": {
    "collapsed": false
   },
   "outputs": [],
   "source": [
    "ValTrainTS,ValTestTS = getValidationTrainAndTestTS(TS)"
   ]
  },
  {
   "cell_type": "code",
   "execution_count": 120,
   "metadata": {
    "collapsed": true
   },
   "outputs": [],
   "source": []
  }
 ],
 "metadata": {
  "kernelspec": {
   "display_name": "Python 3",
   "language": "python",
   "name": "python3"
  },
  "language_info": {
   "codemirror_mode": {
    "name": "ipython",
    "version": 3
   },
   "file_extension": ".py",
   "mimetype": "text/x-python",
   "name": "python",
   "nbconvert_exporter": "python",
   "pygments_lexer": "ipython3",
   "version": "3.5.1"
  }
 },
 "nbformat": 4,
 "nbformat_minor": 0
}
