{
 "cells": [
  {
   "cell_type": "code",
   "execution_count": 1,
   "metadata": {
    "collapsed": true
   },
   "outputs": [],
   "source": [
    "from __future__ import division\n",
    "from numpy import *\n",
    "from matplotlib.pyplot import *\n",
    "import scipy.linalg\n",
    "import pandas as pd\n",
    "import csv\n",
    "import time\n",
    "import gc"
   ]
  },
  {
   "cell_type": "markdown",
   "metadata": {},
   "source": [
    "## Functions for data and Time Serie generation"
   ]
  },
  {
   "cell_type": "code",
   "execution_count": 2,
   "metadata": {
    "collapsed": true
   },
   "outputs": [],
   "source": [
    "def loadData(file='data.csv'):\n",
    "    \"\"\"\n",
    "Function to load data from file, returning the normalized data, unnorrmalized targets, mean and standard deviation\n",
    "   :return: data,val_data,data mean and data standar deviation\n",
    "    \"\"\"\n",
    "    data = np.genfromtxt('Resources/' + file, delimiter=',')\n",
    "    return data"
   ]
  },
  {
   "cell_type": "code",
   "execution_count": 3,
   "metadata": {
    "collapsed": true
   },
   "outputs": [],
   "source": [
    "def normalizeData(data):\n",
    "    \"\"\"\n",
    "    Function to normalize data with mean and standard deviation\n",
    "    :param data: data values\n",
    "    :return: normalized data, mean, std\n",
    "    \"\"\"\n",
    "    mean = np.mean(data)\n",
    "    std = np.std(data)\n",
    "    norm = (data-mean)/std\n",
    "    return norm,mean,std"
   ]
  },
  {
   "cell_type": "code",
   "execution_count": 4,
   "metadata": {
    "collapsed": true
   },
   "outputs": [],
   "source": [
    "def denormalize(data,mean,std):\n",
    "    \"\"\"\n",
    "    Function to denormalize data with mean and standard deviation\n",
    "    :param data: dato to be denormalized\n",
    "    :param mean: mean of the original unnormalized data\n",
    "    :param std: standard deviation from the original unnormalized data\n",
    "    :return: denormalized data\n",
    "    \"\"\"\n",
    "    data = (data*std) + mean\n",
    "    return data"
   ]
  },
  {
   "cell_type": "code",
   "execution_count": 85,
   "metadata": {
    "collapsed": false
   },
   "outputs": [],
   "source": [
    "def getTimeSerieFromFile(file='data.csv',start_date=\"2001-01-01\",freq = 'D',normalize=True):\n",
    "    \"\"\"\n",
    "Function to load Time Serie from file and normalize\n",
    "    :param file: data file in Resources folder\n",
    "    :param start_date: define start date of the Time Serie, is a string in format 'YYYY-MM-DD' by defaukt '2001-01-01'\n",
    "    :param freq: frequency of the Time serie, by default is daily, visit  http://pandas.pydata.org/pandas-docs/stable/timeseries.html\n",
    "    :param normalize: normalize Data if True, by default is Ture\n",
    "    :return: Time Serie,mean,std\n",
    "    \"\"\"\n",
    "    data = loadData(file)\n",
    "    index_ = pd.date_range(start_date,periods=len(data),freq=freq)\n",
    "    mean = 0\n",
    "    std = 0\n",
    "    if(normalize):\n",
    "        data,mean,std = normalizeData(data)\n",
    "    TS= pd.Series(data,index = index_)\n",
    "    return TS,mean,std"
   ]
  },
  {
   "cell_type": "code",
   "execution_count": 91,
   "metadata": {
    "collapsed": true
   },
   "outputs": [],
   "source": [
    "def getTimeSerieFromData(data,start_date=\"2001-01-01\",freq = 'D',normalize=True):\n",
    "    \"\"\"\n",
    "Function to create Time Serie from data and normalize\n",
    "    :param data: data to be processed\n",
    "    :param start_date: define start date of the Time Serie, is a string in format 'YYYY-MM-DD' by defaukt '2001-01-01'\n",
    "    :param freq: frequency of the Time serie, by default is daily, visit  http://pandas.pydata.org/pandas-docs/stable/timeseries.html\n",
    "    :param normalize: normalize Data if True, by default is Ture\n",
    "    :return: Time Serie,mean,std\n",
    "    \"\"\"\n",
    "    index_ = pd.date_range(start_date,periods=len(data),freq=freq)\n",
    "    mean = 0\n",
    "    std = 0\n",
    "    if(normalize):\n",
    "        data,mean,std = normalizeData(data)\n",
    "    TS= pd.Series(data,index = index_)\n",
    "    return TS,mean,std"
   ]
  },
  {
   "cell_type": "markdown",
   "metadata": {},
   "source": [
    "### Function to Define Validation Train and Test TS"
   ]
  },
  {
   "cell_type": "code",
   "execution_count": 6,
   "metadata": {
    "collapsed": true
   },
   "outputs": [],
   "source": [
    "def getValidationTrainAndTestTS(TS,start=0,end=6,lenght=6):\n",
    "    \"\"\"\n",
    "    Function to retrieve Validation Training and Test TS\n",
    "    :param TS: Time Serie\n",
    "    :param start: index from TS to start Training TS, by default = 0\n",
    "    :param end: index from TS to end Training TS also used as start for Test TS, by default = 6\n",
    "    :param lenght: lenght of Test TS, by default = 6, if is equal to end then will return to end of TS\n",
    "    :return: Training TS, Test TS\n",
    "    \"\"\"\n",
    "    try:\n",
    "        trainTS = TS[start:-end].copy()\n",
    "        if(lenght<start):\n",
    "            testTS = TS[-end:-(end-lenght)]\n",
    "        else:\n",
    "            testTS = TS[-end:]\n",
    "        return trainTS,testTS\n",
    "    except Exception as e:\n",
    "        print(e.value)         "
   ]
  },
  {
   "cell_type": "markdown",
   "metadata": {},
   "source": [
    "### Function to Define Test Train TS"
   ]
  },
  {
   "cell_type": "code",
   "execution_count": 7,
   "metadata": {
    "collapsed": true
   },
   "outputs": [],
   "source": [
    "def getTestTrainTS(TS,start=0,end=None):\n",
    "    \"\"\"\n",
    "Retrieve Test Training TS, by default the original TS\n",
    "    :param TS: Time Serie\n",
    "    :param start: index from original TS to start Test Training TS\n",
    "    :param end: index from original TS to end Test Training TS, by default = None\n",
    "    :return: Test Training TS\n",
    "    \"\"\"\n",
    "    if(end is None):\n",
    "        return TS[start:].copy()\n",
    "    else:\n",
    "        return TS[start:end].copy()"
   ]
  },
  {
   "cell_type": "markdown",
   "metadata": {},
   "source": [
    "### Function to initilalize Win matrix"
   ]
  },
  {
   "cell_type": "code",
   "execution_count": 8,
   "metadata": {
    "collapsed": true
   },
   "outputs": [],
   "source": [
    "def generateWinMatrix(inSize, resSize, scaleFactor=1):\n",
    "    \"\"\"\n",
    "Function to generate W in matrix with a uniform distribution between [-1,1]\n",
    "in other Function the uniform distribution can be moved to any range\n",
    "    :param inSize: number of inputs without interceptor\n",
    "    :param resSize: size of reservoir\n",
    "    :param scaleFactor: Scale Factor for the matrix by default 1\n",
    "    :return: W in Matrix\n",
    "    \"\"\"\n",
    "    Win = (random.uniform(low=-0.5, high=0.5, size=(resSize, 1 + inSize))) * scaleFactor\n",
    "    return Win"
   ]
  },
  {
   "cell_type": "markdown",
   "metadata": {},
   "source": [
    "### Function to initialize W matrix"
   ]
  },
  {
   "cell_type": "code",
   "execution_count": 9,
   "metadata": {
    "collapsed": true
   },
   "outputs": [],
   "source": [
    "def getSpectralRadius(W):\n",
    "    \"\"\"\n",
    "Function to get the spectral radius of W matrix\n",
    "    :param W: W matrix\n",
    "    :return: spectral radius\n",
    "    \"\"\"\n",
    "    rhoW = max(abs(linalg.eig(W)[0]))\n",
    "    return  rhoW"
   ]
  },
  {
   "cell_type": "code",
   "execution_count": 10,
   "metadata": {
    "collapsed": true
   },
   "outputs": [],
   "source": [
    "def generateW(resSize, SRS = 1):\n",
    "    \"\"\"\n",
    "Function to generate W matrix with a uniform distribution between [-1,1] and apply Spectral radius Scale\n",
    "    :param resSize: size of reservoir\n",
    "    :param SRS: spectral radius scale factor by default 1\n",
    "    :return: W\n",
    "    \"\"\"\n",
    "    W = random.uniform(low=-0.5, high= 0.5, size = (resSize,resSize))\n",
    "    rhoW = getSpectralRadius(W)\n",
    "    W*= (SRS/ rhoW)\n",
    "    return W"
   ]
  },
  {
   "cell_type": "markdown",
   "metadata": {},
   "source": [
    "### Function to get X and Yt matrix"
   ]
  },
  {
   "cell_type": "code",
   "execution_count": 11,
   "metadata": {
    "collapsed": false
   },
   "outputs": [],
   "source": [
    "def generateX_YtMatrix(data,inSize, resSize,initLen):\n",
    "    \"\"\"\n",
    "Function to get X and Yt Matrix to save activation states and prediction targets\n",
    "    :type data: normalized data\n",
    "    :param inSize: size of the input \n",
    "    :param resSize: size of reservoir\n",
    "    :param initLen:  length of initial data\n",
    "    :return: X, Yt\n",
    "    \"\"\"\n",
    "    X = zeros((1+inSize+resSize,len(data)-initLen-1))\n",
    "    Yt = data[None,initLen+1:]\n",
    "    return X,Yt"
   ]
  },
  {
   "cell_type": "markdown",
   "metadata": {},
   "source": [
    "### Function to generate Win,W, X and Yt Matrix"
   ]
  },
  {
   "cell_type": "code",
   "execution_count": 12,
   "metadata": {
    "collapsed": false
   },
   "outputs": [],
   "source": [
    "def generateMatrix(data,resSize,initLen = 12,inSize=1, WinScaleFactor=1, SRS = 1):\n",
    "    \"\"\"\n",
    "    Function to generate Win, W, X and Yt matrix\n",
    "    :param data: values of training Time Serie\n",
    "    :param resSize: size of reservoir (num of neurons)\n",
    "    :param initLen: number of values to be used as lags for activations states X matrix, by default = 12\n",
    "    :param WinScaleFactor: scale factor for Win matrix, by default = 1\n",
    "    :param SRS: Spectral radius scale factor for W matrix, by default = 1\n",
    "    :return: Win,W,X,Xt\n",
    "    \"\"\"\n",
    "    Win = generateWinMatrix(inSize,resSize,WinScaleFactor)\n",
    "    W = generateW(resSize,SRS)\n",
    "    X,Yt = generateX_YtMatrix(data,inSize,resSize,initLen)\n",
    "    return Win,W,X,Yt"
   ]
  },
  {
   "cell_type": "markdown",
   "metadata": {},
   "source": [
    "## Get Activation states function"
   ]
  },
  {
   "cell_type": "code",
   "execution_count": 13,
   "metadata": {
    "collapsed": true
   },
   "outputs": [],
   "source": [
    "def getActivationStates(data,resSize,Win,W,a,X,initLen=12):\n",
    "    \"\"\"\n",
    "Function to get the activations states from the reservoir, data's lenght is always 1 lesser\n",
    "    :param data: train data\n",
    "    :param resSize: reservoir size\n",
    "    :param Win: W in Matrix\n",
    "    :param W: W matrix\n",
    "    :param a: leaking rate\n",
    "    :param X: matrix of Activations per input\n",
    "    :param initLen: inital data to be ignored, by default is 12\n",
    "    :return: last activation vector, matrix of activations X\n",
    "    \"\"\"\n",
    "    x = zeros((resSize,1))\n",
    "    for t in range(len(data)-1):\n",
    "        u = data[t]\n",
    "        x_u = tanh( dot( Win, vstack((1,u)) ) + dot( W, x ) )\n",
    "        #x_u = sigmoid( dot( Win, vstack((1,u)) ) + dot( W, x ) )\n",
    "        x = (1-a)*x + a*x_u \n",
    "        if t >= initLen:\n",
    "            X[:,t-initLen] = vstack((1,u,x))[:,0]\n",
    "    return x,X"
   ]
  },
  {
   "cell_type": "markdown",
   "metadata": {},
   "source": [
    "## Train Output function"
   ]
  },
  {
   "cell_type": "code",
   "execution_count": 14,
   "metadata": {
    "collapsed": true
   },
   "outputs": [],
   "source": [
    "def trainOutput(inSize,resSize,X,Yt,reg = 1e-8):\n",
    "    \"\"\"\n",
    "Function to train readout with ridge regression to address overfitting\n",
    "    :param inSize: size of input\n",
    "    :param resSize: reservoir size\n",
    "    :param reg: penalization parameter, by default is 1e-8\n",
    "    :param X: Matrix of activations\n",
    "    :param Yt: target values\n",
    "    :return Wout: weights from reservoir and input to output layer\n",
    "    \"\"\"\n",
    "    X_T = X.T \n",
    "    Wout = dot( dot(Yt,X_T), linalg.inv( dot(X,X_T) + reg*eye(1+inSize+resSize) ) )\n",
    "    return Wout"
   ]
  },
  {
   "cell_type": "markdown",
   "metadata": {},
   "source": [
    "## Get Predictions"
   ]
  },
  {
   "cell_type": "code",
   "execution_count": 15,
   "metadata": {
    "collapsed": true
   },
   "outputs": [],
   "source": [
    "def getPredictions(data,outSize,a,Win,W,Wout,x,testLen=6):\n",
    "    \"\"\"\n",
    "Function to get the predictions of the normalized data\n",
    "    :param data: train data\n",
    "    :param outSize: output size\n",
    "    :param a: leaking rate\n",
    "    :param Win: W in Matrix\n",
    "    :param W: W matrix\n",
    "    :param Wout: W out Matrix\n",
    "    :param x: last activations states\n",
    "    :param testLen: length of test data, by default = 6\n",
    "    :return: vector of predictions\n",
    "    \"\"\"\n",
    "    Y = zeros((outSize,testLen))\n",
    "    u = data[-1]\n",
    "    for t in range(testLen):\n",
    "        x_update = tanh( dot( Win, vstack((1,u))) + dot( W, x )) \n",
    "        #x_update = sigmoid( dot( Win, vstack((1,u))) + dot( W, x ))\n",
    "        x = (1-a)*x + a*x_update\n",
    "        y = dot( Wout, vstack((1,u,x)) )\n",
    "        Y[:,t] = y\n",
    "        # generative mode, this take the prediction and use it to make other prediction:\n",
    "        u = y\n",
    "        ## this would be a predictive mode, this made a prediccion and save it, then use the true value to make a new prediction:\n",
    "        #u = data[trainLen+t+1]\n",
    "    return Y"
   ]
  },
  {
   "cell_type": "code",
   "execution_count": 88,
   "metadata": {
    "collapsed": true
   },
   "outputs": [],
   "source": [
    "def createForecastTS(data,lastDate,freq='D'):\n",
    "    \"\"\"\n",
    "    Function to create a TS for forecast values\n",
    "    :param data: forecast values\n",
    "    :param lastDate: last Date in TS index, must be timestamp\n",
    "    :param freq: frequency of the TS, by defaul = 'D'\n",
    "    :return: Forecast Time Serie\n",
    "    \"\"\"\n",
    "    start_date = lastDate + pd.Timedelta(days = 1)\n",
    "    index_ = pd.date_range(start_date,periods=len(data),freq=freq)\n",
    "    TS = pd.Series(data,index = index_)\n",
    "    return TS  "
   ]
  },
  {
   "cell_type": "markdown",
   "metadata": {},
   "source": [
    "### Function to Run test predictions from file or from Data"
   ]
  },
  {
   "cell_type": "code",
   "execution_count": 90,
   "metadata": {
    "collapsed": true
   },
   "outputs": [],
   "source": [
    "def TestESNfromFile(file='',setup=(10,1,1,0.3,1e-8),inSize=1,outSize=1,initLen=12,startDate = \"2001-01-01\",freq='M',norm=True):\n",
    "    \"\"\"\n",
    "    Function to test ESN with data from file\n",
    "    :param file: file to be read to get values\n",
    "    :param setup: list of values to setup the ESN (resSize,WinScale,SRS,Leak rate,L2 penalty), by default (10,1,1,0.3,1e-8)\n",
    "    :param inSize: size of inputs, by default is 1\n",
    "    :param outSize: size of outputs, by default is 1\n",
    "    :param initLen: lenght of initial values\n",
    "    :param startDate: date to begin the TS, must be in format (YYYY-mm-dd), by default (2001-01-01)\n",
    "    :param freq: frequency of the TS\n",
    "    :param norm: True if data must be normalized\n",
    "    :return: forecast Time Serie\n",
    "    \"\"\"\n",
    "    resSize,winScale,SRS,a,l2 = setup\n",
    "    TS,mean,std = getTimeSerie(freq=freq, normalize = norm)\n",
    "    TestTrainTS = getTestTrainTS(TS)\n",
    "    Win,W,X,Yt = generateMatrix(TestTrainTS.values,resSize)\n",
    "    x,X = getActivationStates(TestTrainTS.values,resSize,Win,W,a,X)\n",
    "    Wout = trainOutput(1,10,X,Yt)\n",
    "    Y = getPredictions(TestTrainTS.values,outSize,a,Win,W,Wout,x)\n",
    "    if(norm):\n",
    "        Y = denormalize(Y,mean,std)\n",
    "    forecastTS = createForecastTS(Y[0],TS.index[-1],freq)\n",
    "    return forecastTS"
   ]
  },
  {
   "cell_type": "code",
   "execution_count": 92,
   "metadata": {
    "collapsed": false
   },
   "outputs": [],
   "source": [
    "def TestESNfromData(data,setup=(10,1,1,0.3,1e-8),inSize=1,outSize=1,initLen=12,startDate = \"2001-01-01\",freq='M',norm=True):\n",
    "    \"\"\"\n",
    "    Function to test ESN with data\n",
    "    :param data: data to be processed\n",
    "    :param setup: list of values to setup the ESN (resSize,WinScale,SRS,Leak rate,L2 penalty), by default (10,1,1,0.3,1e-8)\n",
    "    :param inSize: size of inputs, by default is 1\n",
    "    :param outSize: size of outputs, by default is 1\n",
    "    :param initLen: lenght of initial values\n",
    "    :param startDate: date to begin the TS, must be in format (YYYY-mm-dd), by default (2001-01-01)\n",
    "    :param freq: frequency of the TS\n",
    "    :param norm: True if data must be normalized\n",
    "    :return: forecast Time Serie\"\"\"\n",
    "    resSize,winScale,SRS,a,l2 = setup\n",
    "    TS,mean,std = getTimeSerieFromData(freq=freq, normalize = norm)\n",
    "    TestTrainTS = getTestTrainTS(TS)\n",
    "    Win,W,X,Yt = generateMatrix(TestTrainTS.values,resSize)\n",
    "    x,X = getActivationStates(TestTrainTS.values,resSize,Win,W,a,X)\n",
    "    Wout = trainOutput(1,10,X,Yt)\n",
    "    Y = getPredictions(TestTrainTS.values,outSize,a,Win,W,Wout,x)\n",
    "    if(norm):\n",
    "        Y = denormalize(Y,mean,std)\n",
    "    forecastTS = createForecastTS(Y[0],TS.index[-1],freq)\n",
    "    return forecastTS"
   ]
  },
  {
   "cell_type": "markdown",
   "metadata": {},
   "source": [
    "# comienzan pruebas"
   ]
  },
  {
   "cell_type": "code",
   "execution_count": 16,
   "metadata": {
    "collapsed": true
   },
   "outputs": [],
   "source": [
    "TS,mean,std = getTimeSerie(freq='M')"
   ]
  },
  {
   "cell_type": "code",
   "execution_count": 17,
   "metadata": {
    "collapsed": true
   },
   "outputs": [],
   "source": [
    "TestTrainTS = getTestTrainTS(TS)"
   ]
  },
  {
   "cell_type": "code",
   "execution_count": 89,
   "metadata": {
    "collapsed": false
   },
   "outputs": [],
   "source": [
    "ValTrainTS,ValTestTS = getValidationTrainAndTestTS(TS)"
   ]
  },
  {
   "cell_type": "code",
   "execution_count": 18,
   "metadata": {
    "collapsed": false
   },
   "outputs": [],
   "source": [
    "Win,W,X,Yt = generateMatrix(TestTrainTS.values,10)"
   ]
  },
  {
   "cell_type": "code",
   "execution_count": 20,
   "metadata": {
    "collapsed": false
   },
   "outputs": [],
   "source": [
    "x,X = getActivationStates(TestTrainTS.values,10,Win,W,0.3,X)"
   ]
  },
  {
   "cell_type": "code",
   "execution_count": 21,
   "metadata": {
    "collapsed": false
   },
   "outputs": [],
   "source": [
    "Wout = trainOutput(1,10,X,Yt)"
   ]
  },
  {
   "cell_type": "code",
   "execution_count": 32,
   "metadata": {
    "collapsed": false
   },
   "outputs": [],
   "source": [
    "Y = getPredictions(TestTrainTS.values,1,0.3,Win,W,Wout,x)"
   ]
  },
  {
   "cell_type": "code",
   "execution_count": 33,
   "metadata": {
    "collapsed": false
   },
   "outputs": [],
   "source": [
    "Y = denormalize(Y,mean,std)"
   ]
  },
  {
   "cell_type": "code",
   "execution_count": 34,
   "metadata": {
    "collapsed": false
   },
   "outputs": [
    {
     "data": {
      "text/plain": [
       "array([[ 0.21599055,  0.23255586,  0.26767315,  0.21728375,  0.15894693,\n",
       "         0.1108751 ]])"
      ]
     },
     "execution_count": 34,
     "metadata": {},
     "output_type": "execute_result"
    }
   ],
   "source": [
    "Y"
   ]
  }
 ],
 "metadata": {
  "kernelspec": {
   "display_name": "Python 3",
   "language": "python",
   "name": "python3"
  },
  "language_info": {
   "codemirror_mode": {
    "name": "ipython",
    "version": 3
   },
   "file_extension": ".py",
   "mimetype": "text/x-python",
   "name": "python",
   "nbconvert_exporter": "python",
   "pygments_lexer": "ipython3",
   "version": "3.5.1"
  }
 },
 "nbformat": 4,
 "nbformat_minor": 0
}
